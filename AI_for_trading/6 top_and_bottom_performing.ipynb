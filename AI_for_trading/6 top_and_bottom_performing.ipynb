{
 "cells": [
  {
   "cell_type": "markdown",
   "metadata": {},
   "source": [
    "# Top and Bottom Performing\n",
    "Let's look at how we might get the top performing stocks for a single period. For this example, we'll look at just a single month of closing prices:"
   ]
  },
  {
   "cell_type": "code",
   "execution_count": 2,
   "metadata": {},
   "outputs": [
    {
     "data": {
      "text/html": [
       "<div>\n",
       "<style scoped>\n",
       "    .dataframe tbody tr th:only-of-type {\n",
       "        vertical-align: middle;\n",
       "    }\n",
       "\n",
       "    .dataframe tbody tr th {\n",
       "        vertical-align: top;\n",
       "    }\n",
       "\n",
       "    .dataframe thead th {\n",
       "        text-align: right;\n",
       "    }\n",
       "</style>\n",
       "<table border=\"1\" class=\"dataframe\">\n",
       "  <thead>\n",
       "    <tr style=\"text-align: right;\">\n",
       "      <th></th>\n",
       "      <th>A</th>\n",
       "      <th>B</th>\n",
       "      <th>C</th>\n",
       "      <th>D</th>\n",
       "      <th>E</th>\n",
       "      <th>F</th>\n",
       "      <th>G</th>\n",
       "      <th>H</th>\n",
       "    </tr>\n",
       "  </thead>\n",
       "  <tbody>\n",
       "    <tr>\n",
       "      <th>2018-02-01</th>\n",
       "      <td>1</td>\n",
       "      <td>12</td>\n",
       "      <td>35</td>\n",
       "      <td>3</td>\n",
       "      <td>79</td>\n",
       "      <td>2</td>\n",
       "      <td>15</td>\n",
       "      <td>59</td>\n",
       "    </tr>\n",
       "  </tbody>\n",
       "</table>\n",
       "</div>"
      ],
      "text/plain": [
       "            A   B   C  D   E  F   G   H\n",
       "2018-02-01  1  12  35  3  79  2  15  59"
      ]
     },
     "execution_count": 2,
     "metadata": {},
     "output_type": "execute_result"
    }
   ],
   "source": [
    "import pandas as pd\n",
    "\n",
    "month = pd.to_datetime('02/01/2018')\n",
    "close_month = pd.DataFrame(\n",
    "    {\n",
    "        'A': 1,\n",
    "        'B': 12,\n",
    "        'C': 35,\n",
    "        'D': 3,\n",
    "        'E': 79,\n",
    "        'F': 2,\n",
    "        'G': 15,\n",
    "        'H': 59},\n",
    "    [month])\n",
    "\n",
    "close_month"
   ]
  },
  {
   "cell_type": "markdown",
   "metadata": {},
   "source": [
    "`close_month` gives use the prices for the month of February, 2018 for all the stocks in this universe (A, B, C, ...). Looking at these prices, we can see that the top 2 performing stocks for that month was E and H with the prices 79 and 59.\n",
    "\n",
    "To get this using code, we can use the [`Series.nlargest`](https://pandas.pydata.org/pandas-docs/version/0.21/generated/pandas.Series.nlargest.html) function. This function returns the items with the *n* largest numbers. For the example we just talked about, our *n* is 2."
   ]
  },
  {
   "cell_type": "code",
   "execution_count": 3,
   "metadata": {},
   "outputs": [
    {
     "name": "stdout",
     "output_type": "stream",
     "text": [
      "Error: nlargest() missing 1 required positional argument: 'columns'\n"
     ]
    }
   ],
   "source": [
    "try:\n",
    "    # Attempt to run nlargest\n",
    "    close_month.nlargest(2)\n",
    "except TypeError as err:\n",
    "    print('Error: {}'.format(err))"
   ]
  },
  {
   "cell_type": "markdown",
   "metadata": {},
   "source": [
    "What happeened here? It turns out we're not calling the [`Series.nlargest`](https://pandas.pydata.org/pandas-docs/version/0.21/generated/pandas.Series.nlargest.html) function, we're actually calling [`DataFrame.nlargest`](https://pandas.pydata.org/pandas-docs/version/0.21/generated/pandas.DataFrame.nlargest.html), since `close_month` is a DataFrame. Let's get the Series from the dataframe using `.loc[month]`, where `month` is the 2018-02-01 index created above."
   ]
  },
  {
   "cell_type": "markdown",
   "metadata": {},
   "source": [
    "loc gets rows (or columns) with particular labels from the index.  \n",
    "iloc gets rows (or columns) at particular positions in the index (so it only takes integers).  \n",
    "ix usually tries to behave like loc but falls back to behaving like iloc if a label is not present in the index.  \n",
    "https://stackoverflow.com/questions/31593201/how-are-iloc-ix-and-loc-different"
   ]
  },
  {
   "cell_type": "code",
   "execution_count": 4,
   "metadata": {},
   "outputs": [
    {
     "data": {
      "text/plain": [
       "E    79\n",
       "H    59\n",
       "Name: 2018-02-01 00:00:00, dtype: int64"
      ]
     },
     "execution_count": 4,
     "metadata": {},
     "output_type": "execute_result"
    }
   ],
   "source": [
    "close_month.loc[month].nlargest(2)"
   ]
  },
  {
   "cell_type": "markdown",
   "metadata": {},
   "source": [
    "Perfect! That gives us the top performing tickers for that month. Now, how do we get the bottom performing tickers? There's two ways to do this. You can use Panda's [`Series.nsmallest`](https://pandas.pydata.org/pandas-docs/version/0.21/generated/pandas.Series.nsmallest.html) function or just flip the sign on the prices and then apply [`DataFrame.nlargest`](https://pandas.pydata.org/pandas-docs/version/0.21/generated/pandas.DataFrame.nlargest.html). Either way is fine. For this course, we'll flip the sign with nlargest. This allows us to reuse any funtion created with nlargest to get the smallest.\n",
    "\n",
    "To get the bottom 2 performing tickers from `close_month`, we'll flip the sign."
   ]
  },
  {
   "cell_type": "code",
   "execution_count": 5,
   "metadata": {},
   "outputs": [
    {
     "data": {
      "text/plain": [
       "A    1\n",
       "F    2\n",
       "Name: 2018-02-01 00:00:00, dtype: int64"
      ]
     },
     "execution_count": 5,
     "metadata": {},
     "output_type": "execute_result"
    }
   ],
   "source": [
    "close_month.loc[month].nsmallest(2)"
   ]
  },
  {
   "cell_type": "code",
   "execution_count": 6,
   "metadata": {},
   "outputs": [
    {
     "data": {
      "text/plain": [
       "A   -1\n",
       "F   -2\n",
       "Name: 2018-02-01 00:00:00, dtype: int64"
      ]
     },
     "execution_count": 6,
     "metadata": {},
     "output_type": "execute_result"
    }
   ],
   "source": [
    "(-1 * close_month).loc[month].nlargest(2)"
   ]
  },
  {
   "cell_type": "markdown",
   "metadata": {},
   "source": [
    "That gives us the bottom performing tickers, but not the actual prices. To get this, we can flip the sign from the output of nlargest."
   ]
  },
  {
   "cell_type": "code",
   "execution_count": 7,
   "metadata": {},
   "outputs": [
    {
     "data": {
      "text/plain": [
       "A    1\n",
       "F    2\n",
       "Name: 2018-02-01 00:00:00, dtype: int64"
      ]
     },
     "execution_count": 7,
     "metadata": {},
     "output_type": "execute_result"
    }
   ],
   "source": [
    "(-1 * close_month).loc[month].nlargest(2) *-1"
   ]
  },
  {
   "cell_type": "markdown",
   "metadata": {},
   "source": [
    "Now you've seen how to get the top and bottom performing prices in a single month. Let's see if you can apply this knowledge.\n",
    "## Quiz\n",
    "Implement `date_top_industries` to find the top performing closing prices and return their sectors for a single date. The function should only return the [set](https://docs.python.org/3/tutorial/datastructures.html#sets) of sectors, there shouldn't be any duplicates returned.\n",
    "\n",
    "- The number of top performing prices to look at is represented by the parameter `top_n`.\n",
    "- The `date` parameter is the date to look for the top performing prices in the `prices` DataFrame.\n",
    "- The sector information for each ticker is located in the `sector` parameter.\n",
    "\n",
    "For example:\n",
    "```\n",
    "                 Prices\n",
    "               A         B         C         D         E\n",
    "2013-07-08     2         2         7         2         6\n",
    "2013-07-09     5         3         6         7         5\n",
    "...            ...       ...       ...\n",
    "\n",
    "           Sector\n",
    "A       \"Utilities\"       \n",
    "B       \"Health Care\"       \n",
    "C       \"Real Estate\"\n",
    "D       \"Real Estate\"\n",
    "E       \"Information Technology\"\n",
    "\n",
    "Date:  2013-07-09\n",
    "Top N: 3\n",
    "```\n",
    "The set created from the function `date_top_industries` should be the following:\n",
    "```\n",
    "{\"Utilities\", \"Real Estate\"}\n",
    "```\n",
    "*Note: Stock A and E have the same price for the date, but only A's sector got returned. We'll keep it simple and only take the first occurrences of ties.*"
   ]
  },
  {
   "cell_type": "code",
   "execution_count": 8,
   "metadata": {},
   "outputs": [
    {
     "name": "stdout",
     "output_type": "stream",
     "text": [
      "Tests Passed\n"
     ]
    }
   ],
   "source": [
    "#import project_tests\n",
    "def date_top_industries(prices, sector, date, top_n):\n",
    "    \"\"\"\n",
    "    Get the set of the top industries for the date\n",
    "    \n",
    "    Parameters\n",
    "    ----------\n",
    "    prices : DataFrame\n",
    "        Prices for each ticker and date\n",
    "    sector : Series\n",
    "        Sector name for each ticker\n",
    "    date : Date\n",
    "        Date to get the top performers\n",
    "    top_n : int\n",
    "        Number of top performers to get\n",
    "    \n",
    "    Returns\n",
    "    -------\n",
    "    top_industries : set\n",
    "        Top industries for the date\n",
    "    \"\"\"\n",
    "    # TODO: Implement Function\n",
    "    return set(sector.loc[prices.loc[date].nlargest(top_n).index])\n",
    "\n",
    "#project_tests.test_date_top_industries(date_top_industries)\n",
    "test_date_top_industries(date_top_industries)"
   ]
  },
  {
   "cell_type": "code",
   "execution_count": 10,
   "metadata": {},
   "outputs": [
    {
     "name": "stdout",
     "output_type": "stream",
     "text": [
      "t-statistic: 0.760\n",
      "p-value: 0.226606\n"
     ]
    }
   ],
   "source": [
    "import pandas as pd\n",
    "import numpy as np\n",
    "import scipy.stats as stats\n",
    "\n",
    "def analyze_returns(net_returns):\n",
    "    \"\"\"\n",
    "    Perform a t-test, with the null hypothesis being that the mean return is zero.\n",
    "    \n",
    "    Parameters\n",
    "    ----------\n",
    "    net_returns : Pandas Series\n",
    "        A Pandas Series for each date\n",
    "    \n",
    "    Returns\n",
    "    -------\n",
    "    t_value\n",
    "        t-statistic from t-test\n",
    "    p_value\n",
    "        Corresponding p-value\n",
    "    \"\"\"\n",
    "    # TODO: Perform one-tailed t-test on net_returns\n",
    "    # Hint: You can use stats.ttest_1samp() to perform the test.\n",
    "    #       However, this performs a two-tailed t-test.\n",
    "    #       You'll need to divde the p-value by 2 to get the results of a one-tailed p-value.\n",
    "    null_hypothesis = 0.0\n",
    "    t, p = stats.ttest_1samp(net_returns['return'], null_hypothesis)\n",
    "    return t, p/2\n",
    "    \n",
    "def test_run(filename='data/net_returns.csv'):\n",
    "    \"\"\"Test run analyze_returns() with net strategy returns from a file.\"\"\"\n",
    "    #net_returns = pd.Series.from_csv(filename, header=0)\n",
    "    net_returns =pd.read_csv(filename, header=0)\n",
    "    t, p = analyze_returns(net_returns)\n",
    "    print(\"t-statistic: {:.3f}\\np-value: {:.6f}\".format(t, p))\n",
    "\n",
    "test_run()\n",
    "#if __name__ == '__main__':\n",
    "#    test_run()"
   ]
  },
  {
   "cell_type": "code",
   "execution_count": 7,
   "metadata": {},
   "outputs": [],
   "source": [
    "import collections\n",
    "from collections import OrderedDict\n",
    "import copy\n",
    "import pandas as pd\n",
    "import numpy as np\n",
    "from datetime import date, timedelta\n",
    "\n",
    "\n",
    "pd.options.display.float_format = '{:.8f}'.format\n",
    "\n",
    "\n",
    "def _generate_output_error_msg(fn_name, fn_inputs, fn_outputs, fn_expected_outputs):\n",
    "    formatted_inputs = []\n",
    "    formatted_outputs = []\n",
    "    formatted_expected_outputs = []\n",
    "\n",
    "    for input_name, input_value in fn_inputs.items():\n",
    "        formatted_outputs.append('INPUT {}:\\n{}\\n'.format(\n",
    "            input_name, str(input_value)))\n",
    "    for output_name, output_value in fn_outputs.items():\n",
    "        formatted_outputs.append('OUTPUT {}:\\n{}\\n'.format(\n",
    "            output_name, str(output_value)))\n",
    "    for expected_output_name, expected_output_value in fn_expected_outputs.items():\n",
    "        formatted_expected_outputs.append('EXPECTED OUTPUT FOR {}:\\n{}\\n'.format(\n",
    "            expected_output_name, str(expected_output_value)))\n",
    "\n",
    "    return 'Wrong value for {}.\\n' \\\n",
    "           '{}\\n' \\\n",
    "           '{}\\n' \\\n",
    "           '{}' \\\n",
    "        .format(\n",
    "            fn_name,\n",
    "            '\\n'.join(formatted_inputs),\n",
    "            '\\n'.join(formatted_outputs),\n",
    "            '\\n'.join(formatted_expected_outputs))\n",
    "\n",
    "\n",
    "def _is_equal(x, y):\n",
    "    is_equal = False\n",
    "\n",
    "    if isinstance(x, pd.DataFrame) or isinstance(y, pd.Series):\n",
    "        is_equal = x.equals(y)\n",
    "    elif isinstance(x, np.ndarray):\n",
    "        is_equal = np.array_equal(x, y)\n",
    "    elif isinstance(x, list):\n",
    "        if len(x) == len(y):\n",
    "            for x_item, y_item in zip(x, y):\n",
    "                if not _is_equal(x_item, y_item):\n",
    "                    break\n",
    "            else:\n",
    "                is_equal = True\n",
    "    else:\n",
    "        is_equal = x == y\n",
    "\n",
    "    return is_equal\n",
    "\n",
    "\n",
    "def project_test(func):\n",
    "    def func_wrapper(*args):\n",
    "        result = func(*args)\n",
    "        print('Tests Passed')\n",
    "        return result\n",
    "\n",
    "    return func_wrapper\n",
    "\n",
    "\n",
    "def generate_random_tickers(n_tickers=None):\n",
    "    min_ticker_len = 3\n",
    "    max_ticker_len = 5\n",
    "    tickers = []\n",
    "\n",
    "    if not n_tickers:\n",
    "        n_tickers = np.random.randint(8, 14)\n",
    "\n",
    "    ticker_symbol_random = np.random.randint(ord('A'), ord('Z')+1, (n_tickers, max_ticker_len))\n",
    "    ticker_symbol_lengths = np.random.randint(min_ticker_len, max_ticker_len, n_tickers)\n",
    "    for ticker_symbol_rand, ticker_symbol_length in zip(ticker_symbol_random, ticker_symbol_lengths):\n",
    "        ticker_symbol = ''.join([chr(c_id) for c_id in ticker_symbol_rand[:ticker_symbol_length]])\n",
    "        tickers.append(ticker_symbol)\n",
    "\n",
    "    return tickers\n",
    "\n",
    "\n",
    "def generate_random_dates(n_days=None):\n",
    "    if not n_days:\n",
    "        n_days = np.random.randint(14, 20)\n",
    "\n",
    "    start_year = np.random.randint(1999, 2017)\n",
    "    start_month = np.random.randint(1, 12)\n",
    "    start_day = np.random.randint(1, 29)\n",
    "    start_date = date(start_year, start_month, start_day)\n",
    "\n",
    "    dates = []\n",
    "    for i in range(n_days):\n",
    "        dates.append(start_date + timedelta(days=i))\n",
    "\n",
    "    return dates\n",
    "\n",
    "\n",
    "def assert_output(fn, fn_inputs, fn_expected_outputs):\n",
    "    assert type(fn_expected_outputs) == OrderedDict\n",
    "\n",
    "    fn_outputs = OrderedDict()\n",
    "    fn_inputs_passed_in = copy.deepcopy(fn_inputs)\n",
    "    fn_raw_out = fn(**fn_inputs_passed_in)\n",
    "\n",
    "    # Check if inputs have changed\n",
    "    for input_name, input_value in fn_inputs.items():\n",
    "        passed_in_unchanged = _is_equal(input_value, fn_inputs_passed_in[input_name])\n",
    "\n",
    "        assert passed_in_unchanged, 'Input parameter \"{}\" has been modified inside the function. ' \\\n",
    "                                    'The function shouldn\\'t modify the function parameters.'.format(input_name)\n",
    "\n",
    "    if len(fn_expected_outputs) == 1:\n",
    "        fn_outputs[list(fn_expected_outputs)[0]] = fn_raw_out\n",
    "    elif len(fn_expected_outputs) > 1:\n",
    "        assert type(fn_raw_out) == tuple,\\\n",
    "            'Expecting function to return tuple, got type {}'.format(type(fn_raw_out))\n",
    "        assert len(fn_raw_out) == len(fn_expected_outputs),\\\n",
    "            'Expected {} outputs in tuple, only found {} outputs'.format(len(fn_expected_outputs), len(fn_raw_out))\n",
    "        for key_i, output_key in enumerate(fn_expected_outputs.keys()):\n",
    "            fn_outputs[output_key] = fn_raw_out[key_i]\n",
    "\n",
    "    err_message = _generate_output_error_msg(\n",
    "        fn.__name__,\n",
    "        fn_inputs,\n",
    "        fn_outputs,\n",
    "        fn_expected_outputs)\n",
    "\n",
    "    for fn_out, (out_name, expected_out) in zip(fn_outputs.values(), fn_expected_outputs.items()):\n",
    "        assert isinstance(fn_out, type(expected_out)),\\\n",
    "            'Wrong type for output {}. Got {}, expected {}'.format(out_name, type(fn_out), type(expected_out))\n",
    "\n",
    "        if hasattr(expected_out, 'shape'):\n",
    "            assert fn_out.shape == expected_out.shape, \\\n",
    "                'Wrong shape for output {}. Got {}, expected {}'.format(out_name, fn_out.shape, expected_out.shape)\n",
    "        elif hasattr(expected_out, '__len__'):\n",
    "            assert len(fn_out) == len(expected_out), \\\n",
    "                'Wrong len for output {}. Got {}, expected {}'.format(out_name, len(fn_out), len(expected_out))\n",
    "\n",
    "        if type(expected_out) == pd.DataFrame:\n",
    "            assert set(fn_out.columns) == set(expected_out.columns), \\\n",
    "                'Incorrect columns for output {}\\n' \\\n",
    "                'COLUMNS:          {}\\n' \\\n",
    "                'EXPECTED COLUMNS: {}'.format(out_name, sorted(fn_out.columns), sorted(expected_out.columns))\n",
    "\n",
    "        if type(expected_out) in {pd.DataFrame, pd.Series}:\n",
    "            assert set(fn_out.index) == set(expected_out.index), \\\n",
    "                'Incorrect indices for output {}\\n' \\\n",
    "                'INDICES:          {}\\n' \\\n",
    "                'EXPECTED INDICES: {}'.format(out_name, sorted(fn_out.index), sorted(expected_out.index))\n",
    "\n",
    "        try:\n",
    "            out_is_close = np.isclose(fn_out, expected_out, equal_nan=True)\n",
    "        except TypeError:\n",
    "            out_is_close = fn_out == expected_out\n",
    "        else:\n",
    "            if isinstance(expected_out, collections.Iterable):\n",
    "                out_is_close = out_is_close.all()\n",
    "\n",
    "        assert out_is_close, err_message\n"
   ]
  },
  {
   "cell_type": "code",
   "execution_count": 1,
   "metadata": {},
   "outputs": [],
   "source": [
    "from collections import OrderedDict\n",
    "import pandas as pd\n",
    "from helper import project_test, generate_random_tickers, generate_random_dates, assert_output\n",
    "\n",
    "\n",
    "@project_test\n",
    "def test_date_top_industries(fn):\n",
    "    tickers = generate_random_tickers(10)\n",
    "    dates = generate_random_dates(2)\n",
    "\n",
    "    fn_inputs = {\n",
    "        'prices': pd.DataFrame(\n",
    "            [\n",
    "                [21.050810483942833, 17.013843810658827, 10.984503755486879, 11.248093428369392, 12.961712733997235,\n",
    "                 482.34539247360806, 35.202580592515041, 3516.5416782257166, 66.405314327318209, 13.503960481087077],\n",
    "                [15.63570258751384, 14.69054309070934, 11.353027688995159, 475.74195118202061, 11.959640427803022,\n",
    "                 10.918933017418304, 17.9086438675435, 24.801265417692324, 12.488954191854916, 15.63570258751384]],\n",
    "            dates, tickers),\n",
    "        'sector': pd.Series(\n",
    "            ['ENERGY', 'MATERIALS', 'ENERGY', 'ENERGY', 'TELECOM', 'FINANCIALS',\n",
    "             'TECHNOLOGY', 'HEALTH', 'MATERIALS', 'REAL ESTATE'],\n",
    "            tickers),\n",
    "        'date': dates[-1],\n",
    "        'top_n': 4}\n",
    "    fn_correct_outputs = OrderedDict([\n",
    "        (\n",
    "            'top_industries',\n",
    "            set(['ENERGY', 'HEALTH', 'TECHNOLOGY']))])\n",
    "\n",
    "    assert_output(fn, fn_inputs, fn_correct_outputs)\n"
   ]
  },
  {
   "cell_type": "code",
   "execution_count": null,
   "metadata": {},
   "outputs": [],
   "source": []
  }
 ],
 "metadata": {
  "kernelspec": {
   "display_name": "Python 3",
   "language": "python",
   "name": "python3"
  },
  "language_info": {
   "codemirror_mode": {
    "name": "ipython",
    "version": 3
   },
   "file_extension": ".py",
   "mimetype": "text/x-python",
   "name": "python",
   "nbconvert_exporter": "python",
   "pygments_lexer": "ipython3",
   "version": "3.8.3"
  }
 },
 "nbformat": 4,
 "nbformat_minor": 2
}
