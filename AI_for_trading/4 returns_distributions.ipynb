{
 "cells": [
  {
   "cell_type": "code",
   "execution_count": 1,
   "metadata": {},
   "outputs": [],
   "source": [
    "from scipy.stats import bernoulli\n",
    "import random\n",
    "import numpy as np\n",
    "import matplotlib.pyplot as plt\n",
    "%matplotlib inline\n",
    "plt.style.use('ggplot')"
   ]
  },
  {
   "cell_type": "markdown",
   "metadata": {},
   "source": [
    "Let's say you invested $100 in a stock with a mean monthly return of 1%. But there is dispersion around the mean: the actual returns of the stock each month are 1% + 2% = 3% or 1% - 2% = -1%, with equal probability. By simulating many possible ways this scenario could play out over time, let's look at the distribution of ending values of the portfolio over several time horizons."
   ]
  },
  {
   "cell_type": "markdown",
   "metadata": {},
   "source": [
    "We'll model these returns using a _Bernoulli_ random variable, which we can simulate in code using `scipy.stats.bernoulli`. A Bernoulli random variable takes the values 1 or 0 with a probability set by a parameter `p`."
   ]
  },
  {
   "cell_type": "code",
   "execution_count": 2,
   "metadata": {},
   "outputs": [
    {
     "name": "stdout",
     "output_type": "stream",
     "text": [
      "[-0.01  0.03 -0.01  0.03  0.03  0.03]\n"
     ]
    }
   ],
   "source": [
    "def generate_returns(num_returns):\n",
    "    p = 0.5\n",
    "    return 0.01 + (bernoulli.rvs(p, size=num_returns)-0.5)*0.04\n",
    "    #return 0.01 + np.array([(random.randint(0,1) -0.5) * 0.04 for i in range(num_returns)])\n",
    "print(generate_returns(6))"
   ]
  },
  {
   "cell_type": "code",
   "execution_count": 21,
   "metadata": {},
   "outputs": [
    {
     "data": {
      "text/plain": [
       "array([-0.01,  0.03,  0.03,  0.03, -0.01, -0.01,  0.03,  0.03,  0.03,\n",
       "        0.03, -0.01,  0.03, -0.01, -0.01,  0.03,  0.03, -0.01,  0.03,\n",
       "        0.03, -0.01, -0.01, -0.01,  0.03, -0.01,  0.03,  0.03,  0.03,\n",
       "        0.03,  0.03,  0.03, -0.01, -0.01, -0.01,  0.03, -0.01, -0.01,\n",
       "       -0.01,  0.03, -0.01,  0.03, -0.01, -0.01, -0.01,  0.03, -0.01,\n",
       "        0.03,  0.03, -0.01,  0.03,  0.03,  0.03, -0.01,  0.03, -0.01,\n",
       "       -0.01, -0.01, -0.01, -0.01,  0.03, -0.01,  0.03, -0.01, -0.01,\n",
       "       -0.01, -0.01, -0.01,  0.03, -0.01, -0.01,  0.03, -0.01,  0.03,\n",
       "       -0.01,  0.03, -0.01,  0.03,  0.03, -0.01,  0.03,  0.03, -0.01,\n",
       "        0.03,  0.03,  0.03,  0.03,  0.03,  0.03,  0.03, -0.01,  0.03,\n",
       "       -0.01,  0.03,  0.03, -0.01,  0.03,  0.03,  0.03,  0.03, -0.01,\n",
       "        0.03])"
      ]
     },
     "execution_count": 21,
     "metadata": {},
     "output_type": "execute_result"
    }
   ],
   "source": [
    "(bernoulli.rvs(0.5, size=100)-0.5)*0.04+0.01"
   ]
  },
  {
   "cell_type": "code",
   "execution_count": 25,
   "metadata": {},
   "outputs": [
    {
     "data": {
      "text/plain": [
       "1.147681333557"
      ]
     },
     "execution_count": 25,
     "metadata": {},
     "output_type": "execute_result"
    }
   ],
   "source": [
    "np.prod(generate_returns(6)+1)"
   ]
  },
  {
   "cell_type": "code",
   "execution_count": 23,
   "metadata": {},
   "outputs": [
    {
     "data": {
      "text/plain": [
       "[106.0271915373,\n",
       " 110.31111846810002,\n",
       " 106.0271915373,\n",
       " 97.9519751397,\n",
       " 106.0271915373,\n",
       " 101.9096307009,\n",
       " 114.76813335570002,\n",
       " 106.0271915373,\n",
       " 101.9096307009,\n",
       " 94.14801494009998,\n",
       " 114.7681333557,\n",
       " 110.31111846810002,\n",
       " 106.0271915373,\n",
       " 110.31111846810002,\n",
       " 101.9096307009,\n",
       " 110.3111184681,\n",
       " 114.7681333557,\n",
       " 106.0271915373,\n",
       " 101.9096307009,\n",
       " 110.31111846810002,\n",
       " 106.02719153729998,\n",
       " 106.0271915373,\n",
       " 101.9096307009,\n",
       " 101.9096307009,\n",
       " 101.9096307009,\n",
       " 101.9096307009,\n",
       " 106.0271915373,\n",
       " 97.9519751397,\n",
       " 106.0271915373,\n",
       " 114.76813335570002,\n",
       " 101.9096307009,\n",
       " 97.95197513969998,\n",
       " 106.0271915373,\n",
       " 101.9096307009,\n",
       " 110.31111846810002,\n",
       " 106.02719153730003,\n",
       " 110.31111846810002,\n",
       " 97.95197513969998,\n",
       " 97.9519751397,\n",
       " 101.9096307009,\n",
       " 106.02719153729998,\n",
       " 101.90963070089998,\n",
       " 101.9096307009,\n",
       " 97.9519751397,\n",
       " 106.0271915373,\n",
       " 101.9096307009,\n",
       " 114.76813335570002,\n",
       " 106.0271915373,\n",
       " 101.9096307009,\n",
       " 106.0271915373,\n",
       " 101.9096307009,\n",
       " 106.0271915373,\n",
       " 106.0271915373,\n",
       " 110.3111184681,\n",
       " 110.31111846810002,\n",
       " 101.9096307009,\n",
       " 110.31111846810002,\n",
       " 110.31111846809998,\n",
       " 106.02719153730003,\n",
       " 114.76813335570002,\n",
       " 114.7681333557,\n",
       " 110.31111846810002,\n",
       " 101.9096307009,\n",
       " 106.0271915373,\n",
       " 110.31111846810002,\n",
       " 110.31111846810002,\n",
       " 110.31111846810002,\n",
       " 97.95197513969998,\n",
       " 106.0271915373,\n",
       " 110.31111846810002,\n",
       " 97.95197513969998,\n",
       " 110.31111846810002,\n",
       " 110.31111846810002,\n",
       " 106.0271915373,\n",
       " 106.0271915373,\n",
       " 97.95197513969998,\n",
       " 110.31111846810002,\n",
       " 101.9096307009,\n",
       " 110.31111846810002,\n",
       " 106.0271915373,\n",
       " 97.95197513969998,\n",
       " 114.76813335570002,\n",
       " 97.9519751397,\n",
       " 110.31111846810002,\n",
       " 106.0271915373,\n",
       " 119.40522965290002,\n",
       " 101.9096307009,\n",
       " 106.02719153730003,\n",
       " 110.3111184681,\n",
       " 106.0271915373,\n",
       " 106.0271915373,\n",
       " 106.02719153730003,\n",
       " 110.31111846810002,\n",
       " 101.9096307009,\n",
       " 106.0271915373,\n",
       " 97.9519751397,\n",
       " 114.76813335570002,\n",
       " 119.40522965290002,\n",
       " 101.9096307009]"
      ]
     },
     "execution_count": 23,
     "metadata": {},
     "output_type": "execute_result"
    }
   ],
   "source": [
    "final_values = [100*np.prod(generate_returns(6)+1) for i in range(1,100)]\n",
    "final_values"
   ]
  },
  {
   "cell_type": "markdown",
   "metadata": {},
   "source": [
    "First, let's look at the distribution of ending values of the stock over 6 months."
   ]
  },
  {
   "cell_type": "code",
   "execution_count": 3,
   "metadata": {},
   "outputs": [
    {
     "data": {
      "image/png": "[encoded data removed]",
      "text/plain": [
       "<Figure size 432x288 with 1 Axes>"
      ]
     },
     "metadata": {},
     "output_type": "display_data"
    }
   ],
   "source": [
    "final_values = [100*np.prod(generate_returns(6)+1) for i in range(1,1000)]\n",
    "plt.hist(final_values, bins=20)\n",
    "plt.ylabel('Frequency')\n",
    "plt.xlabel('Value after 6 months')\n",
    "plt.show()"
   ]
  },
  {
   "cell_type": "code",
   "execution_count": 15,
   "metadata": {},
   "outputs": [
    {
     "data": {
      "text/plain": [
       "22"
      ]
     },
     "execution_count": 15,
     "metadata": {},
     "output_type": "execute_result"
    }
   ],
   "source": [
    "sum(np.array(final_values)<95)"
   ]
  },
  {
   "cell_type": "markdown",
   "metadata": {},
   "source": [
    "After 6 months, the distribution of possible values looks symmetric and bell-shaped. This is because there are more paths that lead to middle-valued ending prices. Now, let's look at the ending values of the stock over 20 months."
   ]
  },
  {
   "cell_type": "code",
   "execution_count": 4,
   "metadata": {},
   "outputs": [
    {
     "data": {
      "image/png": "[encoded data removed]",
      "text/plain": [
       "<Figure size 432x288 with 1 Axes>"
      ]
     },
     "metadata": {},
     "output_type": "display_data"
    }
   ],
   "source": [
    "final_values = [100*np.prod(generate_returns(20)+1) for i in range(1,1000)]\n",
    "plt.hist(final_values, bins=20)\n",
    "plt.ylabel('Frequency')\n",
    "plt.xlabel('Value after 20 months')\n",
    "plt.show()"
   ]
  },
  {
   "cell_type": "markdown",
   "metadata": {},
   "source": [
    "Finally, let's look at the ending values of the stock over 100 months."
   ]
  },
  {
   "cell_type": "code",
   "execution_count": 9,
   "metadata": {},
   "outputs": [
    {
     "data": {
      "image/png": "[encoded data removed]",
      "text/plain": [
       "<Figure size 432x288 with 1 Axes>"
      ]
     },
     "metadata": {},
     "output_type": "display_data"
    }
   ],
   "source": [
    "final_values = [100*np.prod(generate_returns(100)+1) for i in range(1,1000)]\n",
    "plt.hist(final_values, bins=20)\n",
    "plt.ylabel('Frequency')\n",
    "plt.xlabel('Value after 100 months')\n",
    "plt.show()"
   ]
  },
  {
   "cell_type": "markdown",
   "metadata": {},
   "source": [
    "As you can see, the distribution gets less and less normal-looking over time. The upside potential is unlimited—there always exists the possibility that the stock will continue to appreciate over time. The downside potential, however, is limited to zero—you cannot loose more than 100% of your investment. The distribution we see emerging here is distinctly asymmetric—the values are always positive, but there is a long tail on the right-hand side: we say, it is _positively skewed_. The distribution is approaching what's called a _lognormal distribution_. Let's talk more about how this distribution emerges in the next video."
   ]
  }
 ],
 "metadata": {
  "kernelspec": {
   "display_name": "Python 3",
   "language": "python",
   "name": "python3"
  },
  "language_info": {
   "codemirror_mode": {
    "name": "ipython",
    "version": 3
   },
   "file_extension": ".py",
   "mimetype": "text/x-python",
   "name": "python",
   "nbconvert_exporter": "python",
   "pygments_lexer": "ipython3",
   "version": "3.8.3"
  }
 },
 "nbformat": 4,
 "nbformat_minor": 2
}
