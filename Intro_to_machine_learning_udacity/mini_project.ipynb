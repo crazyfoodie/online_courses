{
 "cells": [
  {
   "cell_type": "markdown",
   "metadata": {},
   "source": [
    "A couple of years ago, J.K. Rowling (of Harry Potter fame) tried something interesting. She wrote a book, “The Cuckoo’s Calling,” under the name Robert Galbraith. The book received some good reviews, but no one paid much attention to it--until an anonymous tipster on Twitter said it was J.K. Rowling. The London Sunday Times enlisted two experts to compare the linguistic patterns of “Cuckoo” to Rowling’s “The Casual Vacancy,” as well as to books by several other authors. After the results of their analysis pointed strongly toward Rowling as the author, the Times directly asked the publisher if they were the same person, and the publisher confirmed. The book exploded in popularity overnight.\n",
    "\n",
    "We’ll do something very similar in this project. We have a set of emails, half of which were written by one person and the other half by another person at the same company . Our objective is to classify the emails as written by one person or the other based only on the text of the email. We will start with Naive Bayes in this mini-project, and then expand in later projects to other algorithms.\n",
    "\n",
    "We will start by giving you a list of strings. Each string is the text of an email, which has undergone some basic preprocessing; we will then provide the code to split the dataset into training and testing sets. (In the next lessons you’ll learn how to do this preprocessing and splitting yourself, but for now we’ll give the code to you).\n",
    "\n",
    "One particular feature of Naive Bayes is that it’s a good algorithm for working with text classification. When dealing with text, it’s very common to treat each unique word as a feature, and since the typical person’s vocabulary is many thousands of words, this makes for a large number of features. The relative simplicity of the algorithm and the independent features assumption of Naive Bayes make it a strong performer for classifying texts. In this mini-project, you will download and install sklearn on your computer and use Naive Bayes to classify emails by author."
   ]
  },
  {
   "cell_type": "code",
   "execution_count": 1,
   "metadata": {},
   "outputs": [
    {
     "name": "stderr",
     "output_type": "stream",
     "text": [
      "C:\\ProgramData\\Anaconda3\\envs\\ttf\\lib\\site-packages\\sklearn\\cross_validation.py:41: DeprecationWarning: This module was deprecated in version 0.18 in favor of the model_selection module into which all the refactored classes and functions are moved. Also note that the interface of the new CV iterators are different from that of this module. This module will be removed in 0.20.\n",
      "  \"This module will be removed in 0.20.\", DeprecationWarning)\n"
     ]
    }
   ],
   "source": [
    "#!/usr/bin/python\n",
    "import pickle\n",
    "import _pickle as cPickle\n",
    "import numpy\n",
    "\n",
    "from sklearn import cross_validation\n",
    "from sklearn.feature_extraction.text import TfidfVectorizer\n",
    "from sklearn.feature_selection import SelectPercentile, f_classif\n",
    "\n",
    "\n",
    "\n",
    "def preprocess(words_file = \"data/word_data.pkl\", authors_file=\"data/email_authors.pkl\"):\n",
    "    \"\"\" \n",
    "        this function takes a pre-made list of email texts (by default word_data.pkl)\n",
    "        and the corresponding authors (by default email_authors.pkl) and performs\n",
    "        a number of preprocessing steps:\n",
    "            -- splits into training/testing sets (10% testing)\n",
    "            -- vectorizes into tfidf matrix\n",
    "            -- selects/keeps most helpful features\n",
    "\n",
    "        after this, the feaures and labels are put into numpy arrays, which play nice with sklearn functions\n",
    "\n",
    "        4 objects are returned:\n",
    "            -- training/testing features\n",
    "            -- training/testing labels\n",
    "\n",
    "    \"\"\"\n",
    "\n",
    "    ### the words (features) and authors (labels), already largely preprocessed\n",
    "    ### this preprocessing will be repeated in the text learning mini-project\n",
    "    authors_file_handler = open(authors_file, \"rb\")\n",
    "    authors = pickle.load(authors_file_handler)\n",
    "    authors_file_handler.close()\n",
    "\n",
    "    words_file_handler = open(words_file, \"rb\")\n",
    "    word_data = cPickle.load(words_file_handler)\n",
    "    words_file_handler.close()\n",
    "\n",
    "    ### test_size is the percentage of events assigned to the test set\n",
    "    ### (remainder go into training)\n",
    "    features_train, features_test, labels_train, labels_test = cross_validation.train_test_split(word_data, authors, test_size=0.1, random_state=42)\n",
    "\n",
    "\n",
    "\n",
    "    ### text vectorization--go from strings to lists of numbers\n",
    "    vectorizer = TfidfVectorizer(sublinear_tf=True, max_df=0.5,\n",
    "                                 stop_words='english')\n",
    "    features_train_transformed = vectorizer.fit_transform(features_train)\n",
    "    features_test_transformed  = vectorizer.transform(features_test)\n",
    "\n",
    "\n",
    "\n",
    "    ### feature selection, because text is super high dimensional and \n",
    "    ### can be really computationally chewy as a result\n",
    "    selector = SelectPercentile(f_classif, percentile=10)\n",
    "    selector.fit(features_train_transformed, labels_train)\n",
    "    features_train_transformed = selector.transform(features_train_transformed).toarray()\n",
    "    features_test_transformed  = selector.transform(features_test_transformed).toarray()\n",
    "\n",
    "    ### info on the data\n",
    "    print(\"no. of Chris training emails:\", sum(labels_train))\n",
    "    print(\"no. of Sara training emails:\", len(labels_train)-sum(labels_train))\n",
    "    \n",
    "    return features_train_transformed, features_test_transformed, labels_train, labels_test\n"
   ]
  },
  {
   "cell_type": "markdown",
   "metadata": {},
   "source": [
    "### USE NAIVE BAYES"
   ]
  },
  {
   "cell_type": "code",
   "execution_count": 2,
   "metadata": {},
   "outputs": [
    {
     "name": "stdout",
     "output_type": "stream",
     "text": [
      "no. of Chris training emails: 7936\n",
      "no. of Sara training emails: 7884\n",
      "training time: 0.979 s\n",
      "0.973265073948\n",
      "prediction time: 0.151 s\n"
     ]
    }
   ],
   "source": [
    "\"\"\" \n",
    "    This is the code to accompany the Lesson 1 (Naive Bayes) mini-project. \n",
    "\n",
    "    Use a Naive Bayes Classifier to identify emails by their authors\n",
    "    \n",
    "    authors and labels:\n",
    "    Sara has label 0\n",
    "    Chris has label 1\n",
    "\"\"\"\n",
    "import sys\n",
    "from time import time\n",
    "\n",
    "### features_train and features_test are the features for the training\n",
    "### and testing datasets, respectively\n",
    "### labels_train and labels_test are the corresponding item labels\n",
    "features_train, features_test, labels_train, labels_test = preprocess()\n",
    "\n",
    "\n",
    "#########################################################\n",
    "### your code goes here ###\n",
    "from sklearn.naive_bayes import GaussianNB\n",
    "def classify(features_train, labels_train):   \n",
    "    ### import the sklearn module for GaussianNB\n",
    "    ### create classifier\n",
    "    ### fit the classifier on the training features and labels\n",
    "    ### return the fit classifier\n",
    "    t0 = time()\n",
    "    clf = GaussianNB()\n",
    "    clf.fit(features_train, labels_train)\n",
    "    print(\"training time:\", round(time()-t0, 3), \"s\")\n",
    "    return clf\n",
    "    \n",
    "    \n",
    "#import numpy as np\n",
    "#import pylab as pl\n",
    "\n",
    "clf_NB = classify(features_train, labels_train)\n",
    "\n",
    "\n",
    "from sklearn.metrics import accuracy_score\n",
    "t0 = time()\n",
    "acc = accuracy_score(clf_NB.predict(features_test), labels_test)\n",
    "print(acc)\n",
    "print(\"prediction time:\", round(time()-t0, 3), \"s\")\n",
    "#########################################################"
   ]
  },
  {
   "cell_type": "markdown",
   "metadata": {},
   "source": [
    "### SVM"
   ]
  },
  {
   "cell_type": "code",
   "execution_count": 3,
   "metadata": {},
   "outputs": [
    {
     "name": "stdout",
     "output_type": "stream",
     "text": [
      "training time: 182.341 s\n",
      "0.984072810011\n",
      "prediction time: 19.145 s\n"
     ]
    }
   ],
   "source": [
    "from sklearn.svm import SVC\n",
    "\n",
    "t0 = time()\n",
    "clf_SVM = SVC(kernel=\"linear\")\n",
    "clf_SVM.fit(features_train, labels_train)\n",
    "print(\"training time:\", round(time()-t0, 3), \"s\")\n",
    "\n",
    "\n",
    "from sklearn.metrics import accuracy_score\n",
    "t0 = time()\n",
    "acc = accuracy_score(clf_SVM.predict(features_test), labels_test)\n",
    "print(acc)\n",
    "print(\"prediction time:\", round(time()-t0, 3), \"s\")"
   ]
  },
  {
   "cell_type": "markdown",
   "metadata": {},
   "source": [
    "#### speed up by less train data and less accuracy (both prediction and training time will decrease)"
   ]
  },
  {
   "cell_type": "markdown",
   "metadata": {},
   "source": [
    "One way to speed up an algorithm is to train it on a smaller training dataset. The tradeoff is that the accuracy almost always goes down when you do this. Let’s explore this more concretely: add in the following two lines immediately before training your classifier. \n",
    "\n",
    "features_train = features_train[:len(features_train)/100] \n",
    "labels_train = labels_train[:len(labels_train)/100] \n",
    "\n",
    "These lines effectively slice the training dataset down to 1% of its original size, tossing out 99% of the training data. You can leave all other code unchanged. What’s the accuracy now?"
   ]
  },
  {
   "cell_type": "code",
   "execution_count": 3,
   "metadata": {},
   "outputs": [
    {
     "name": "stdout",
     "output_type": "stream",
     "text": [
      "(158, 3785)\n",
      "158\n"
     ]
    }
   ],
   "source": [
    "features_train_p, labels_train_p = features_train[:len(features_train)//100], labels_train[:len(labels_train)//100]\n",
    "print(features_train_p.shape)\n",
    "print(len(labels_train_p))"
   ]
  },
  {
   "cell_type": "code",
   "execution_count": 5,
   "metadata": {},
   "outputs": [
    {
     "name": "stdout",
     "output_type": "stream",
     "text": [
      "training time: 0.102 s\n",
      "0.884527872582\n",
      "prediction time: 1.124 s\n"
     ]
    }
   ],
   "source": [
    "t0 = time()\n",
    "clf_SVM = SVC(kernel=\"linear\")\n",
    "clf_SVM.fit(features_train_p, labels_train_p)\n",
    "print(\"training time:\", round(time()-t0, 3), \"s\")\n",
    "\n",
    "t0 = time()\n",
    "acc = accuracy_score(clf_SVM.predict(features_test), labels_test)\n",
    "print(acc)\n",
    "print(\"prediction time:\", round(time()-t0, 3), \"s\")"
   ]
  },
  {
   "cell_type": "markdown",
   "metadata": {},
   "source": [
    "#### some case, speed is very important like detect the  credit card fraud and block the transiction"
   ]
  },
  {
   "cell_type": "code",
   "execution_count": 6,
   "metadata": {},
   "outputs": [
    {
     "name": "stdout",
     "output_type": "stream",
     "text": [
      "training time: 0.121 s\n",
      "0.616040955631\n",
      "prediction time: 1.258 s\n"
     ]
    }
   ],
   "source": [
    "t0 = time()\n",
    "#clf = SVC(kernel='rbf', C = 1,gamma = 100)\n",
    "clf_SVM_rbf = SVC(kernel='rbf')\n",
    "clf_SVM_rbf.fit(features_train_p, labels_train_p)\n",
    "print(\"training time:\", round(time()-t0, 3), \"s\")\n",
    "\n",
    "t0 = time()\n",
    "acc = accuracy_score(clf_SVM_rbf.predict(features_test), labels_test)\n",
    "print(acc)\n",
    "print(\"prediction time:\", round(time()-t0, 3), \"s\")"
   ]
  },
  {
   "cell_type": "code",
   "execution_count": 13,
   "metadata": {},
   "outputs": [
    {
     "name": "stdout",
     "output_type": "stream",
     "text": [
      "training time: 1.652 s\n",
      "0.892491467577\n",
      "prediction time: 1.023 s\n",
      "{'C': 10000, 'kernel': 'rbf'}\n"
     ]
    }
   ],
   "source": [
    "from sklearn import svm\n",
    "from sklearn.model_selection import GridSearchCV\n",
    "\n",
    "t0 = time()\n",
    "#clf = SVC(kernel='rbf', C = 1,gamma = 100)\n",
    "parameters = {'kernel':('rbf',), 'C':[10, 100, 1000,10000]}\n",
    "svr = svm.SVC()\n",
    "clf_SVM_GSCV = GridSearchCV(svr, parameters)\n",
    "clf_SVM_GSCV.fit(features_train_p, labels_train_p)\n",
    "print(\"training time:\", round(time()-t0, 3), \"s\")\n",
    "\n",
    "t0 = time()\n",
    "acc = accuracy_score(clf_SVM_GSCV.predict(features_test), labels_test)\n",
    "print(acc)\n",
    "print(\"prediction time:\", round(time()-t0, 3), \"s\")\n",
    "print(clf_SVM_GSCV.best_params_)"
   ]
  },
  {
   "cell_type": "code",
   "execution_count": 17,
   "metadata": {},
   "outputs": [
    {
     "name": "stdout",
     "output_type": "stream",
     "text": [
      "training time: 7271.758 s\n",
      "0.990898748578\n",
      "prediction time: 12.386 s\n",
      "{'C': 10000, 'kernel': 'rbf'}\n"
     ]
    }
   ],
   "source": [
    "t0 = time()\n",
    "#clf = SVC(kernel='rbf', C = 1,gamma = 100)\n",
    "parameters = {'kernel':('rbf',), 'C':[10, 100, 1000,10000]}\n",
    "svr = svm.SVC()\n",
    "clf_SVM_GSCV = GridSearchCV(svr, parameters)\n",
    "clf_SVM_GSCV.fit(features_train, labels_train)\n",
    "print(\"training time:\", round(time()-t0, 3), \"s\")\n",
    "\n",
    "t0 = time()\n",
    "acc = accuracy_score(clf_SVM_GSCV.predict(features_test), labels_test)\n",
    "print(acc)\n",
    "print(\"prediction time:\", round(time()-t0, 3), \"s\")\n",
    "print(clf_SVM_GSCV.best_params_)"
   ]
  },
  {
   "cell_type": "code",
   "execution_count": 22,
   "metadata": {},
   "outputs": [
    {
     "data": {
      "text/plain": [
       "array([1, 0, 1])"
      ]
     },
     "execution_count": 22,
     "metadata": {},
     "output_type": "execute_result"
    }
   ],
   "source": [
    "import numpy as np\n",
    "clf_SVM_GSCV.predict([features_test[10],features_test[26],features_test[50]])"
   ]
  },
  {
   "cell_type": "code",
   "execution_count": 24,
   "metadata": {},
   "outputs": [
    {
     "data": {
      "text/plain": [
       "877"
      ]
     },
     "execution_count": 24,
     "metadata": {},
     "output_type": "execute_result"
    }
   ],
   "source": [
    "result = clf_SVM_GSCV.predict(features_test)\n",
    "sum(result)         "
   ]
  },
  {
   "cell_type": "markdown",
   "metadata": {},
   "source": [
    "Hopefully it’s becoming clearer what Sebastian meant when he said Naive Bayes is great for text--it’s faster and generally gives better performance than an SVM for this particular problem. Of course, there are plenty of other problems where an SVM might work better. Knowing which one to try when you’re tackling a problem for the first time is part of the art and science of machine learning. In addition to picking your algorithm, depending on which one you try, there are parameter tunes to worry about as well, and the possibility of overfitting (especially if you don’t have lots of training data).\n",
    "\n",
    "Our general suggestion is to try a few different algorithms for each problem. Tuning the parameters can be a lot of work, but just sit tight for now--toward the end of the class we will introduce you to GridCV, a great sklearn tool that can find an optimal parameter tune almost automatically."
   ]
  },
  {
   "cell_type": "markdown",
   "metadata": {},
   "source": [
    "### DESICION TREE"
   ]
  },
  {
   "cell_type": "code",
   "execution_count": 26,
   "metadata": {},
   "outputs": [
    {
     "name": "stdout",
     "output_type": "stream",
     "text": [
      "training time: 41.544 s\n",
      "0.976678043231\n",
      "prediction time: 0.024 s\n"
     ]
    }
   ],
   "source": [
    "from sklearn import tree\n",
    "t0 = time()\n",
    "clf_DT = tree.DecisionTreeClassifier(min_samples_split=40)\n",
    "clf_DT.fit(features_train, labels_train)\n",
    "print(\"training time:\", round(time()-t0, 3), \"s\")\n",
    "\n",
    "t0 = time()\n",
    "acc = accuracy_score(clf_DT.predict(features_test), labels_test)\n",
    "print(acc)\n",
    "print(\"prediction time:\", round(time()-t0, 3), \"s\")"
   ]
  },
  {
   "cell_type": "markdown",
   "metadata": {},
   "source": [
    "You found in the SVM mini-project that the parameter tune can significantly speed up the training time of a machine learning algorithm. A general rule is that the parameters can tune the complexity of the algorithm, with more complex algorithms generally running more slowly.\n",
    "\n",
    "Another way to control the complexity of an algorithm is via the number of features that you use in training/testing. The more features the algorithm has available, the more potential there is for a complex fit. We will explore this in detail in the “Feature Selection” lesson, but you’ll get a sneak preview now.\n",
    "\n",
    "What's the number of features in your data? (Hint: the data is organized into a numpy array where the number of rows is the number of data points and the number of columns is the number of features; so to extract this number, use a line of code like len(features_train[0]).)"
   ]
  },
  {
   "cell_type": "code",
   "execution_count": 27,
   "metadata": {},
   "outputs": [
    {
     "name": "stdout",
     "output_type": "stream",
     "text": [
      "no. of Chris training emails: 7936\n",
      "no. of Sara training emails: 7884\n",
      "(15820, 3785)\n",
      "(15820, 379)\n"
     ]
    }
   ],
   "source": [
    "def preprocess_x(words_file = \"data/word_data.pkl\", authors_file=\"data/email_authors.pkl\"):\n",
    "    \"\"\" \n",
    "        this function takes a pre-made list of email texts (by default word_data.pkl)\n",
    "        and the corresponding authors (by default email_authors.pkl) and performs\n",
    "        a number of preprocessing steps:\n",
    "            -- splits into training/testing sets (10% testing)\n",
    "            -- vectorizes into tfidf matrix\n",
    "            -- selects/keeps most helpful features\n",
    "\n",
    "        after this, the feaures and labels are put into numpy arrays, which play nice with sklearn functions\n",
    "\n",
    "        4 objects are returned:\n",
    "            -- training/testing features\n",
    "            -- training/testing labels\n",
    "\n",
    "    \"\"\"\n",
    "\n",
    "    ### the words (features) and authors (labels), already largely preprocessed\n",
    "    ### this preprocessing will be repeated in the text learning mini-project\n",
    "    authors_file_handler = open(authors_file, \"rb\")\n",
    "    authors = pickle.load(authors_file_handler)\n",
    "    authors_file_handler.close()\n",
    "\n",
    "    words_file_handler = open(words_file, \"rb\")\n",
    "    word_data = cPickle.load(words_file_handler)\n",
    "    words_file_handler.close()\n",
    "\n",
    "    ### test_size is the percentage of events assigned to the test set\n",
    "    ### (remainder go into training)\n",
    "    features_train, features_test, labels_train, labels_test = cross_validation.train_test_split(word_data, authors, test_size=0.1, random_state=42)\n",
    "\n",
    "\n",
    "\n",
    "    ### text vectorization--go from strings to lists of numbers\n",
    "    vectorizer = TfidfVectorizer(sublinear_tf=True, max_df=0.5,\n",
    "                                 stop_words='english')\n",
    "    features_train_transformed = vectorizer.fit_transform(features_train)\n",
    "    features_test_transformed  = vectorizer.transform(features_test)\n",
    "\n",
    "\n",
    "\n",
    "    ### feature selection, because text is super high dimensional and \n",
    "    ### can be really computationally chewy as a result\n",
    "    selector = SelectPercentile(f_classif, percentile=1)\n",
    "    selector.fit(features_train_transformed, labels_train)\n",
    "    features_train_transformed = selector.transform(features_train_transformed).toarray()\n",
    "    features_test_transformed  = selector.transform(features_test_transformed).toarray()\n",
    "\n",
    "    ### info on the data\n",
    "    print(\"no. of Chris training emails:\", sum(labels_train))\n",
    "    print(\"no. of Sara training emails:\", len(labels_train)-sum(labels_train))\n",
    "    \n",
    "    return features_train_transformed, features_test_transformed, labels_train, labels_test\n",
    "\n",
    "features_trainX, features_testX, labels_trainX, labels_testX = preprocess_x()\n",
    "print(features_train.shape)\n",
    "print(features_trainX.shape)"
   ]
  },
  {
   "cell_type": "code",
   "execution_count": 28,
   "metadata": {},
   "outputs": [
    {
     "name": "stdout",
     "output_type": "stream",
     "text": [
      "training time: 3.616 s\n",
      "0.967007963595\n",
      "prediction time: 0.008 s\n"
     ]
    }
   ],
   "source": [
    "from sklearn import tree\n",
    "t0 = time()\n",
    "clf_DTX = tree.DecisionTreeClassifier(min_samples_split=40)\n",
    "clf_DTX.fit(features_trainX, labels_trainX)\n",
    "print(\"training time:\", round(time()-t0, 3), \"s\")\n",
    "\n",
    "t0 = time()\n",
    "acc = accuracy_score(clf_DTX.predict(features_testX), labels_testX)\n",
    "print(acc)\n",
    "print(\"prediction time:\", round(time()-t0, 3), \"s\")"
   ]
  },
  {
   "cell_type": "markdown",
   "metadata": {},
   "source": [
    "### RESEARCH ON SOME OTHER ALGORIGHTM\n",
    "A critical skill for any data analyst is the ability to figure out new things about machine learning, which is the goal for this lesson. The whole lesson is a mini-project. The goal is to do terrain classification with an algorithm of your choice, researching and deploying it on your own.\n",
    "\n",
    "Your algorithm choices are the following:\n",
    "\n",
    "**k nearest neighbors  \n",
    "random forest  \n",
    "adaboost (sometimes also called boosted decision tree)  **\n",
    "\n",
    "We can’t check your results, because there are too many combinations of algorithms and parameters to check everything that you could try, but you have seen the accuracy that our previous algorithms (Naive Bayes, SVM, decision tree) achieved and can self-assess whether the new algorithm does better.\n",
    "\n",
    "In the choose_your_own/your_algorithm.py file, you’ll find some starter code to get the data all set up for you. The following videos also give a little more background on the algorithms and process you should follow, but you’re mostly finding your own way here. Good luck!"
   ]
  },
  {
   "cell_type": "markdown",
   "metadata": {},
   "source": [
    "<IMG SRC='IMAGE/0.PNG'>"
   ]
  },
  {
   "cell_type": "code",
   "execution_count": 42,
   "metadata": {},
   "outputs": [
    {
     "name": "stdout",
     "output_type": "stream",
     "text": [
      "training time: 3.007 s\n",
      "0.990329920364\n",
      "prediction time: 0.127 s\n"
     ]
    }
   ],
   "source": [
    "from sklearn.ensemble import RandomForestClassifier\n",
    "t0 = time()\n",
    "clf_RF = RandomForestClassifier(n_estimators = 35,max_depth=100, n_jobs =6,min_samples_split =5,random_state=0)\n",
    "clf_RF.fit(features_train, labels_train)\n",
    "print(\"training time:\", round(time()-t0, 3), \"s\")\n",
    "\n",
    "t0 = time()\n",
    "acc = accuracy_score(clf_RF.predict(features_test), labels_test)\n",
    "print(acc)\n",
    "print(\"prediction time:\", round(time()-t0, 3), \"s\")"
   ]
  },
  {
   "cell_type": "code",
   "execution_count": 44,
   "metadata": {},
   "outputs": [
    {
     "name": "stdout",
     "output_type": "stream",
     "text": [
      "training time: 353.258 s\n",
      "0.998293515358\n",
      "prediction time: 0.13 s\n"
     ]
    }
   ],
   "source": [
    "from sklearn.ensemble import AdaBoostClassifier\n",
    "from sklearn.tree import DecisionTreeClassifier\n",
    "\n",
    "t0 = time()\n",
    "bdt = AdaBoostClassifier(DecisionTreeClassifier(max_depth=50, min_samples_split=10, min_samples_leaf=5),\n",
    "                         algorithm=\"SAMME\",\n",
    "                         n_estimators=20, learning_rate=0.8)\n",
    "\n",
    "bdt.fit(features_train, labels_train)\n",
    "print(\"training time:\", round(time()-t0, 3), \"s\")\n",
    "\n",
    "t0 = time()\n",
    "acc = accuracy_score(bdt.predict(features_test), labels_test)\n",
    "print(acc)\n",
    "print(\"prediction time:\", round(time()-t0, 3), \"s\")"
   ]
  },
  {
   "cell_type": "code",
   "execution_count": null,
   "metadata": {
    "collapsed": true
   },
   "outputs": [],
   "source": []
  },
  {
   "cell_type": "markdown",
   "metadata": {},
   "source": [
    "### Aaron"
   ]
  },
  {
   "cell_type": "markdown",
   "metadata": {},
   "source": [
    "<IMG SRC='IMAGE/2.PNG'>"
   ]
  },
  {
   "cell_type": "markdown",
   "metadata": {},
   "source": [
    "#### The Enron fraud is a big, messy and totally fascinating story about corporate malfeasance of nearly every imaginable type. The Enron email and financial datasets are also big, messy treasure troves of information, which become much more useful once you know your way around them a bit. We’ve combined the email and finance data into a single dataset, which you’ll explore in this mini-project."
   ]
  },
  {
   "cell_type": "markdown",
   "metadata": {},
   "source": [
    "The aggregated Enron email + financial dataset is stored in a dictionary, where each key in the dictionary is a person’s name and the value is a dictionary containing all the features of that person.\n",
    "The email + finance (E+F) data dictionary is stored as a pickle file, which is a handy way to store and load python objects directly. Use datasets_questions/explore_enron_data.py to load the dataset."
   ]
  },
  {
   "cell_type": "code",
   "execution_count": 47,
   "metadata": {},
   "outputs": [],
   "source": [
    "\"\"\" \n",
    "    Starter code for exploring the Enron dataset (emails + finances);\n",
    "    loads up the dataset (pickled dict of dicts).\n",
    "\n",
    "    The dataset has the form:\n",
    "    enron_data[\"LASTNAME FIRSTNAME MIDDLEINITIAL\"] = { features_dict }\n",
    "\n",
    "    {features_dict} is a dictionary of features associated with that person.\n",
    "    You should explore features_dict as part of the mini-project,\n",
    "    but here's an example to get you started:\n",
    "\n",
    "    enron_data[\"SKILLING JEFFREY K\"][\"bonus\"] = 5600000\n",
    "    \n",
    "\"\"\"\n",
    "\n",
    "import pickle\n",
    "enron_data = pickle.load(open(\"data/final_project_dataset.pkl\", \"rb\"))"
   ]
  },
  {
   "cell_type": "code",
   "execution_count": 65,
   "metadata": {},
   "outputs": [
    {
     "name": "stdout",
     "output_type": "stream",
     "text": [
      "<class 'dict'>\n",
      "KOPPER MICHAEL J {'poi': True, 'director_fees': 'NaN', 'long_term_incentive': 602671, 'exercised_stock_options': 'NaN', 'from_poi_to_this_person': 'NaN', 'other': 907502, 'restricted_stock_deferred': 'NaN', 'from_this_person_to_poi': 'NaN', 'salary': 224305, 'total_payments': 2652612, 'from_messages': 'NaN', 'shared_receipt_with_poi': 'NaN', 'loan_advances': 'NaN', 'total_stock_value': 985032, 'deferred_income': 'NaN', 'to_messages': 'NaN', 'bonus': 800000, 'restricted_stock': 985032, 'expenses': 118134, 'deferral_payments': 'NaN', 'email_address': 'michael.kopper@enron.com'}\n",
      "HAYES ROBERT E {'poi': False, 'director_fees': 'NaN', 'long_term_incentive': 'NaN', 'exercised_stock_options': 'NaN', 'from_poi_to_this_person': 16, 'other': 'NaN', 'restricted_stock_deferred': 'NaN', 'from_this_person_to_poi': 0, 'salary': 'NaN', 'total_payments': 7961, 'from_messages': 12, 'shared_receipt_with_poi': 50, 'loan_advances': 'NaN', 'total_stock_value': 151418, 'deferred_income': 'NaN', 'to_messages': 504, 'bonus': 'NaN', 'restricted_stock': 151418, 'expenses': 'NaN', 'deferral_payments': 7961, 'email_address': 'robert.hayes@enron.com'}\n",
      "FOWLER PEGGY {'poi': False, 'director_fees': 'NaN', 'long_term_incentive': 'NaN', 'exercised_stock_options': 1324578, 'from_poi_to_this_person': 0, 'other': 'NaN', 'restricted_stock_deferred': 'NaN', 'from_this_person_to_poi': 0, 'salary': 'NaN', 'total_payments': 'NaN', 'from_messages': 36, 'shared_receipt_with_poi': 10, 'loan_advances': 'NaN', 'total_stock_value': 1884748, 'deferred_income': 'NaN', 'to_messages': 517, 'bonus': 'NaN', 'restricted_stock': 560170, 'expenses': 'NaN', 'deferral_payments': 'NaN', 'email_address': 'kulvinder.fowler@enron.com'}\n",
      "SAVAGE FRANK {'poi': False, 'director_fees': 125034, 'long_term_incentive': 'NaN', 'exercised_stock_options': 'NaN', 'from_poi_to_this_person': 'NaN', 'other': 'NaN', 'restricted_stock_deferred': 'NaN', 'from_this_person_to_poi': 'NaN', 'salary': 'NaN', 'total_payments': 3750, 'from_messages': 'NaN', 'shared_receipt_with_poi': 'NaN', 'loan_advances': 'NaN', 'total_stock_value': 'NaN', 'deferred_income': -121284, 'to_messages': 'NaN', 'bonus': 'NaN', 'restricted_stock': 'NaN', 'expenses': 'NaN', 'deferral_payments': 'NaN', 'email_address': 'NaN'}\n",
      "DIMICHELE RICHARD G {'poi': False, 'director_fees': 'NaN', 'long_term_incentive': 694862, 'exercised_stock_options': 8191755, 'from_poi_to_this_person': 'NaN', 'other': 374689, 'restricted_stock_deferred': 'NaN', 'from_this_person_to_poi': 'NaN', 'salary': 262788, 'total_payments': 2368151, 'from_messages': 'NaN', 'shared_receipt_with_poi': 'NaN', 'loan_advances': 'NaN', 'total_stock_value': 8317782, 'deferred_income': 'NaN', 'to_messages': 'NaN', 'bonus': 1000000, 'restricted_stock': 126027, 'expenses': 35812, 'deferral_payments': 'NaN', 'email_address': 'richard.dimichele@enron.com'}\n",
      "TOTAL {'poi': False, 'director_fees': 1398517, 'long_term_incentive': 48521928, 'exercised_stock_options': 311764000, 'from_poi_to_this_person': 'NaN', 'other': 42667589, 'restricted_stock_deferred': -7576788, 'from_this_person_to_poi': 'NaN', 'salary': 26704229, 'total_payments': 309886585, 'from_messages': 'NaN', 'shared_receipt_with_poi': 'NaN', 'loan_advances': 83925000, 'total_stock_value': 434509511, 'deferred_income': -27992891, 'to_messages': 'NaN', 'bonus': 97343619, 'restricted_stock': 130322299, 'expenses': 5235198, 'deferral_payments': 32083396, 'email_address': 'NaN'}\n",
      "BOWEN JR RAYMOND M {'poi': True, 'director_fees': 'NaN', 'long_term_incentive': 974293, 'exercised_stock_options': 'NaN', 'from_poi_to_this_person': 140, 'other': 1621, 'restricted_stock_deferred': 'NaN', 'from_this_person_to_poi': 15, 'salary': 278601, 'total_payments': 2669589, 'from_messages': 27, 'shared_receipt_with_poi': 1593, 'loan_advances': 'NaN', 'total_stock_value': 252055, 'deferred_income': -833, 'to_messages': 1858, 'bonus': 1350000, 'restricted_stock': 252055, 'expenses': 65907, 'deferral_payments': 'NaN', 'email_address': 'raymond.bowen@enron.com'}\n",
      "PIPER GREGORY F {'poi': False, 'director_fees': 'NaN', 'long_term_incentive': 'NaN', 'exercised_stock_options': 880290, 'from_poi_to_this_person': 61, 'other': 778, 'restricted_stock_deferred': -409554, 'from_this_person_to_poi': 48, 'salary': 197091, 'total_payments': 1737629, 'from_messages': 222, 'shared_receipt_with_poi': 742, 'loan_advances': 'NaN', 'total_stock_value': 880290, 'deferred_income': -33333, 'to_messages': 1238, 'bonus': 400000, 'restricted_stock': 409554, 'expenses': 43057, 'deferral_payments': 1130036, 'email_address': 'greg.piper@enron.com'}\n",
      "WHALLEY LAWRENCE G {'poi': False, 'director_fees': 'NaN', 'long_term_incentive': 808346, 'exercised_stock_options': 3282960, 'from_poi_to_this_person': 186, 'other': 301026, 'restricted_stock_deferred': 'NaN', 'from_this_person_to_poi': 24, 'salary': 510364, 'total_payments': 4677574, 'from_messages': 556, 'shared_receipt_with_poi': 3920, 'loan_advances': 'NaN', 'total_stock_value': 6079137, 'deferred_income': 'NaN', 'to_messages': 6019, 'bonus': 3000000, 'restricted_stock': 2796177, 'expenses': 57838, 'deferral_payments': 'NaN', 'email_address': 'greg.whalley@enron.com'}\n",
      "DURAN WILLIAM D {'poi': False, 'director_fees': 'NaN', 'long_term_incentive': 1105218, 'exercised_stock_options': 1451869, 'from_poi_to_this_person': 106, 'other': 1568, 'restricted_stock_deferred': 'NaN', 'from_this_person_to_poi': 3, 'salary': 210692, 'total_payments': 2093263, 'from_messages': 12, 'shared_receipt_with_poi': 599, 'loan_advances': 'NaN', 'total_stock_value': 1640910, 'deferred_income': 'NaN', 'to_messages': 904, 'bonus': 750000, 'restricted_stock': 189041, 'expenses': 25785, 'deferral_payments': 'NaN', 'email_address': 'w.duran@enron.com'}\n",
      "MEYER JEROME J {'poi': False, 'director_fees': 38346, 'long_term_incentive': 'NaN', 'exercised_stock_options': 'NaN', 'from_poi_to_this_person': 'NaN', 'other': 'NaN', 'restricted_stock_deferred': 'NaN', 'from_this_person_to_poi': 'NaN', 'salary': 'NaN', 'total_payments': 2151, 'from_messages': 'NaN', 'shared_receipt_with_poi': 'NaN', 'loan_advances': 'NaN', 'total_stock_value': 'NaN', 'deferred_income': -38346, 'to_messages': 'NaN', 'bonus': 'NaN', 'restricted_stock': 'NaN', 'expenses': 2151, 'deferral_payments': 'NaN', 'email_address': 'NaN'}\n",
      "WHALEY DAVID A {'poi': False, 'director_fees': 'NaN', 'long_term_incentive': 'NaN', 'exercised_stock_options': 98718, 'from_poi_to_this_person': 'NaN', 'other': 'NaN', 'restricted_stock_deferred': 'NaN', 'from_this_person_to_poi': 'NaN', 'salary': 'NaN', 'total_payments': 'NaN', 'from_messages': 'NaN', 'shared_receipt_with_poi': 'NaN', 'loan_advances': 'NaN', 'total_stock_value': 98718, 'deferred_income': 'NaN', 'to_messages': 'NaN', 'bonus': 'NaN', 'restricted_stock': 'NaN', 'expenses': 'NaN', 'deferral_payments': 'NaN', 'email_address': 'NaN'}\n",
      "CORDES WILLIAM R {'poi': False, 'director_fees': 'NaN', 'long_term_incentive': 'NaN', 'exercised_stock_options': 651850, 'from_poi_to_this_person': 10, 'other': 'NaN', 'restricted_stock_deferred': 'NaN', 'from_this_person_to_poi': 0, 'salary': 'NaN', 'total_payments': 'NaN', 'from_messages': 12, 'shared_receipt_with_poi': 58, 'loan_advances': 'NaN', 'total_stock_value': 1038185, 'deferred_income': 'NaN', 'to_messages': 764, 'bonus': 'NaN', 'restricted_stock': 386335, 'expenses': 'NaN', 'deferral_payments': 'NaN', 'email_address': 'bill.cordes@enron.com'}\n",
      "HUGHES JAMES A {'poi': False, 'director_fees': 'NaN', 'long_term_incentive': 'NaN', 'exercised_stock_options': 754966, 'from_poi_to_this_person': 35, 'other': 'NaN', 'restricted_stock_deferred': 'NaN', 'from_this_person_to_poi': 5, 'salary': 'NaN', 'total_payments': 'NaN', 'from_messages': 34, 'shared_receipt_with_poi': 589, 'loan_advances': 'NaN', 'total_stock_value': 1118394, 'deferred_income': 'NaN', 'to_messages': 719, 'bonus': 'NaN', 'restricted_stock': 363428, 'expenses': 'NaN', 'deferral_payments': 'NaN', 'email_address': 'james.hughes@enron.com'}\n",
      "WODRASKA JOHN {'poi': False, 'director_fees': 'NaN', 'long_term_incentive': 'NaN', 'exercised_stock_options': 'NaN', 'from_poi_to_this_person': 'NaN', 'other': 189583, 'restricted_stock_deferred': 'NaN', 'from_this_person_to_poi': 'NaN', 'salary': 'NaN', 'total_payments': 189583, 'from_messages': 'NaN', 'shared_receipt_with_poi': 'NaN', 'loan_advances': 'NaN', 'total_stock_value': 'NaN', 'deferred_income': 'NaN', 'to_messages': 'NaN', 'bonus': 'NaN', 'restricted_stock': 'NaN', 'expenses': 'NaN', 'deferral_payments': 'NaN', 'email_address': 'john.wodraska@enron.com'}\n",
      "TILNEY ELIZABETH A {'poi': False, 'director_fees': 'NaN', 'long_term_incentive': 275000, 'exercised_stock_options': 591250, 'from_poi_to_this_person': 10, 'other': 152055, 'restricted_stock_deferred': 'NaN', 'from_this_person_to_poi': 11, 'salary': 247338, 'total_payments': 399393, 'from_messages': 19, 'shared_receipt_with_poi': 379, 'loan_advances': 'NaN', 'total_stock_value': 1168042, 'deferred_income': -575000, 'to_messages': 460, 'bonus': 300000, 'restricted_stock': 576792, 'expenses': 'NaN', 'deferral_payments': 'NaN', 'email_address': 'elizabeth.tilney@enron.com'}\n",
      "SHARP VICTORIA T {'poi': False, 'director_fees': 'NaN', 'long_term_incentive': 422158, 'exercised_stock_options': 281073, 'from_poi_to_this_person': 24, 'other': 2401, 'restricted_stock_deferred': 'NaN', 'from_this_person_to_poi': 6, 'salary': 248146, 'total_payments': 1576511, 'from_messages': 136, 'shared_receipt_with_poi': 2477, 'loan_advances': 'NaN', 'total_stock_value': 494136, 'deferred_income': 'NaN', 'to_messages': 3136, 'bonus': 600000, 'restricted_stock': 213063, 'expenses': 116337, 'deferral_payments': 187469, 'email_address': 'vicki.sharp@enron.com'}\n",
      "BUTTS ROBERT H {'poi': False, 'director_fees': 'NaN', 'long_term_incentive': 175000, 'exercised_stock_options': 'NaN', 'from_poi_to_this_person': 'NaN', 'other': 150656, 'restricted_stock_deferred': 'NaN', 'from_this_person_to_poi': 'NaN', 'salary': 261516, 'total_payments': 1271582, 'from_messages': 'NaN', 'shared_receipt_with_poi': 'NaN', 'loan_advances': 'NaN', 'total_stock_value': 417619, 'deferred_income': -75000, 'to_messages': 'NaN', 'bonus': 750000, 'restricted_stock': 417619, 'expenses': 9410, 'deferral_payments': 'NaN', 'email_address': 'bob.butts@enron.com'}\n",
      "METTS MARK {'poi': False, 'director_fees': 'NaN', 'long_term_incentive': 'NaN', 'exercised_stock_options': 'NaN', 'from_poi_to_this_person': 38, 'other': 1740, 'restricted_stock_deferred': 'NaN', 'from_this_person_to_poi': 1, 'salary': 365788, 'total_payments': 1061827, 'from_messages': 29, 'shared_receipt_with_poi': 702, 'loan_advances': 'NaN', 'total_stock_value': 585062, 'deferred_income': 'NaN', 'to_messages': 807, 'bonus': 600000, 'restricted_stock': 585062, 'expenses': 94299, 'deferral_payments': 'NaN', 'email_address': 'mark.metts@enron.com'}\n",
      "DIETRICH JANET R {'poi': False, 'director_fees': 'NaN', 'long_term_incentive': 556416, 'exercised_stock_options': 1550019, 'from_poi_to_this_person': 305, 'other': 473, 'restricted_stock_deferred': 'NaN', 'from_this_person_to_poi': 14, 'salary': 250100, 'total_payments': 1410464, 'from_messages': 63, 'shared_receipt_with_poi': 1902, 'loan_advances': 'NaN', 'total_stock_value': 1865087, 'deferred_income': 'NaN', 'to_messages': 2572, 'bonus': 600000, 'restricted_stock': 315068, 'expenses': 3475, 'deferral_payments': 'NaN', 'email_address': 'janet.dietrich@enron.com'}\n",
      "JACKSON CHARLENE R {'poi': False, 'director_fees': 'NaN', 'long_term_incentive': 'NaN', 'exercised_stock_options': 185063, 'from_poi_to_this_person': 25, 'other': 2435, 'restricted_stock_deferred': 'NaN', 'from_this_person_to_poi': 19, 'salary': 288558, 'total_payments': 551174, 'from_messages': 56, 'shared_receipt_with_poi': 117, 'loan_advances': 'NaN', 'total_stock_value': 725735, 'deferred_income': 'NaN', 'to_messages': 258, 'bonus': 250000, 'restricted_stock': 540672, 'expenses': 10181, 'deferral_payments': 'NaN', 'email_address': 'charlene.jackson@enron.com'}\n",
      "COX DAVID {'poi': False, 'director_fees': 'NaN', 'long_term_incentive': 'NaN', 'exercised_stock_options': 117551, 'from_poi_to_this_person': 0, 'other': 494, 'restricted_stock_deferred': 'NaN', 'from_this_person_to_poi': 4, 'salary': 314288, 'total_payments': 1101393, 'from_messages': 33, 'shared_receipt_with_poi': 71, 'loan_advances': 'NaN', 'total_stock_value': 495633, 'deferred_income': -41250, 'to_messages': 102, 'bonus': 800000, 'restricted_stock': 378082, 'expenses': 27861, 'deferral_payments': 'NaN', 'email_address': 'chip.cox@enron.com'}\n",
      "WAKEHAM JOHN {'poi': False, 'director_fees': 109298, 'long_term_incentive': 'NaN', 'exercised_stock_options': 'NaN', 'from_poi_to_this_person': 'NaN', 'other': 'NaN', 'restricted_stock_deferred': 'NaN', 'from_this_person_to_poi': 'NaN', 'salary': 'NaN', 'total_payments': 213071, 'from_messages': 'NaN', 'shared_receipt_with_poi': 'NaN', 'loan_advances': 'NaN', 'total_stock_value': 'NaN', 'deferred_income': 'NaN', 'to_messages': 'NaN', 'bonus': 'NaN', 'restricted_stock': 'NaN', 'expenses': 103773, 'deferral_payments': 'NaN', 'email_address': 'NaN'}\n",
      "GOLD JOSEPH {'poi': False, 'director_fees': 'NaN', 'long_term_incentive': 304805, 'exercised_stock_options': 436515, 'from_poi_to_this_person': 'NaN', 'other': 819288, 'restricted_stock_deferred': 'NaN', 'from_this_person_to_poi': 'NaN', 'salary': 272880, 'total_payments': 2146973, 'from_messages': 'NaN', 'shared_receipt_with_poi': 'NaN', 'loan_advances': 'NaN', 'total_stock_value': 877611, 'deferred_income': 'NaN', 'to_messages': 'NaN', 'bonus': 750000, 'restricted_stock': 441096, 'expenses': 'NaN', 'deferral_payments': 'NaN', 'email_address': 'joe.gold@enron.com'}\n",
      "HANNON KEVIN P {'poi': True, 'director_fees': 'NaN', 'long_term_incentive': 1617011, 'exercised_stock_options': 5538001, 'from_poi_to_this_person': 32, 'other': 11350, 'restricted_stock_deferred': 'NaN', 'from_this_person_to_poi': 21, 'salary': 243293, 'total_payments': 288682, 'from_messages': 32, 'shared_receipt_with_poi': 1035, 'loan_advances': 'NaN', 'total_stock_value': 6391065, 'deferred_income': -3117011, 'to_messages': 1045, 'bonus': 1500000, 'restricted_stock': 853064, 'expenses': 34039, 'deferral_payments': 'NaN', 'email_address': 'kevin.hannon@enron.com'}\n",
      "CUMBERLAND MICHAEL S {'poi': False, 'director_fees': 'NaN', 'long_term_incentive': 275000, 'exercised_stock_options': 'NaN', 'from_poi_to_this_person': 'NaN', 'other': 713, 'restricted_stock_deferred': 'NaN', 'from_this_person_to_poi': 'NaN', 'salary': 184899, 'total_payments': 807956, 'from_messages': 'NaN', 'shared_receipt_with_poi': 'NaN', 'loan_advances': 'NaN', 'total_stock_value': 207940, 'deferred_income': 'NaN', 'to_messages': 'NaN', 'bonus': 325000, 'restricted_stock': 207940, 'expenses': 22344, 'deferral_payments': 'NaN', 'email_address': 'NaN'}\n",
      "MCCLELLAN GEORGE {'poi': False, 'director_fees': 'NaN', 'long_term_incentive': 'NaN', 'exercised_stock_options': 506765, 'from_poi_to_this_person': 52, 'other': 51587, 'restricted_stock_deferred': 'NaN', 'from_this_person_to_poi': 0, 'salary': 263413, 'total_payments': 1318763, 'from_messages': 49, 'shared_receipt_with_poi': 1469, 'loan_advances': 'NaN', 'total_stock_value': 947861, 'deferred_income': -125000, 'to_messages': 1744, 'bonus': 900000, 'restricted_stock': 441096, 'expenses': 228763, 'deferral_payments': 'NaN', 'email_address': 'george.mcclellan@enron.com'}\n",
      "THE TRAVEL AGENCY IN THE PARK {'poi': False, 'director_fees': 'NaN', 'long_term_incentive': 'NaN', 'exercised_stock_options': 'NaN', 'from_poi_to_this_person': 'NaN', 'other': 362096, 'restricted_stock_deferred': 'NaN', 'from_this_person_to_poi': 'NaN', 'salary': 'NaN', 'total_payments': 362096, 'from_messages': 'NaN', 'shared_receipt_with_poi': 'NaN', 'loan_advances': 'NaN', 'total_stock_value': 'NaN', 'deferred_income': 'NaN', 'to_messages': 'NaN', 'bonus': 'NaN', 'restricted_stock': 'NaN', 'expenses': 'NaN', 'deferral_payments': 'NaN', 'email_address': 'NaN'}\n",
      "UMANOFF ADAM S {'poi': False, 'director_fees': 'NaN', 'long_term_incentive': 'NaN', 'exercised_stock_options': 'NaN', 'from_poi_to_this_person': 12, 'other': 'NaN', 'restricted_stock_deferred': 'NaN', 'from_this_person_to_poi': 0, 'salary': 288589, 'total_payments': 1130461, 'from_messages': 18, 'shared_receipt_with_poi': 41, 'loan_advances': 'NaN', 'total_stock_value': 'NaN', 'deferred_income': 'NaN', 'to_messages': 111, 'bonus': 788750, 'restricted_stock': 'NaN', 'expenses': 53122, 'deferral_payments': 'NaN', 'email_address': 'adam.umanoff@enron.com'}\n",
      "GARLAND C KEVIN {'poi': False, 'director_fees': 'NaN', 'long_term_incentive': 375304, 'exercised_stock_options': 636246, 'from_poi_to_this_person': 10, 'other': 60814, 'restricted_stock_deferred': 'NaN', 'from_this_person_to_poi': 27, 'salary': 231946, 'total_payments': 1566469, 'from_messages': 44, 'shared_receipt_with_poi': 178, 'loan_advances': 'NaN', 'total_stock_value': 896153, 'deferred_income': 'NaN', 'to_messages': 209, 'bonus': 850000, 'restricted_stock': 259907, 'expenses': 48405, 'deferral_payments': 'NaN', 'email_address': 'kevin.garland@enron.com'}\n",
      "BERGSIEKER RICHARD P {'poi': False, 'director_fees': 'NaN', 'long_term_incentive': 180250, 'exercised_stock_options': 'NaN', 'from_poi_to_this_person': 4, 'other': 427316, 'restricted_stock_deferred': 'NaN', 'from_this_person_to_poi': 0, 'salary': 187922, 'total_payments': 618850, 'from_messages': 59, 'shared_receipt_with_poi': 233, 'loan_advances': 'NaN', 'total_stock_value': 659249, 'deferred_income': -485813, 'to_messages': 383, 'bonus': 250000, 'restricted_stock': 659249, 'expenses': 59175, 'deferral_payments': 'NaN', 'email_address': 'rick.bergsieker@enron.com'}\n",
      "WHITE JR THOMAS E {'poi': False, 'director_fees': 'NaN', 'long_term_incentive': 'NaN', 'exercised_stock_options': 1297049, 'from_poi_to_this_person': 'NaN', 'other': 1085463, 'restricted_stock_deferred': 'NaN', 'from_this_person_to_poi': 'NaN', 'salary': 317543, 'total_payments': 1934359, 'from_messages': 'NaN', 'shared_receipt_with_poi': 'NaN', 'loan_advances': 'NaN', 'total_stock_value': 15144123, 'deferred_income': 'NaN', 'to_messages': 'NaN', 'bonus': 450000, 'restricted_stock': 13847074, 'expenses': 81353, 'deferral_payments': 'NaN', 'email_address': 'thomas.white@enron.com'}\n",
      "FUGH JOHN L {'poi': False, 'director_fees': 'NaN', 'long_term_incentive': 'NaN', 'exercised_stock_options': 176378, 'from_poi_to_this_person': 'NaN', 'other': 'NaN', 'restricted_stock_deferred': 'NaN', 'from_this_person_to_poi': 'NaN', 'salary': 'NaN', 'total_payments': 50591, 'from_messages': 'NaN', 'shared_receipt_with_poi': 'NaN', 'loan_advances': 'NaN', 'total_stock_value': 176378, 'deferred_income': 'NaN', 'to_messages': 'NaN', 'bonus': 'NaN', 'restricted_stock': 'NaN', 'expenses': 'NaN', 'deferral_payments': 50591, 'email_address': 'NaN'}\n",
      "THORN TERENCE H {'poi': False, 'director_fees': 'NaN', 'long_term_incentive': 200000, 'exercised_stock_options': 4452476, 'from_poi_to_this_person': 0, 'other': 426629, 'restricted_stock_deferred': 'NaN', 'from_this_person_to_poi': 0, 'salary': 222093, 'total_payments': 911453, 'from_messages': 41, 'shared_receipt_with_poi': 73, 'loan_advances': 'NaN', 'total_stock_value': 4817796, 'deferred_income': 'NaN', 'to_messages': 266, 'bonus': 'NaN', 'restricted_stock': 365320, 'expenses': 46145, 'deferral_payments': 16586, 'email_address': 'terence.thorn@enron.com'}\n",
      "BADUM JAMES P {'poi': False, 'director_fees': 'NaN', 'long_term_incentive': 'NaN', 'exercised_stock_options': 257817, 'from_poi_to_this_person': 'NaN', 'other': 'NaN', 'restricted_stock_deferred': 'NaN', 'from_this_person_to_poi': 'NaN', 'salary': 'NaN', 'total_payments': 182466, 'from_messages': 'NaN', 'shared_receipt_with_poi': 'NaN', 'loan_advances': 'NaN', 'total_stock_value': 257817, 'deferred_income': 'NaN', 'to_messages': 'NaN', 'bonus': 'NaN', 'restricted_stock': 'NaN', 'expenses': 3486, 'deferral_payments': 178980, 'email_address': 'NaN'}\n",
      "CALGER CHRISTOPHER F {'poi': True, 'director_fees': 'NaN', 'long_term_incentive': 375304, 'exercised_stock_options': 'NaN', 'from_poi_to_this_person': 199, 'other': 486, 'restricted_stock_deferred': 'NaN', 'from_this_person_to_poi': 25, 'salary': 240189, 'total_payments': 1639297, 'from_messages': 144, 'shared_receipt_with_poi': 2188, 'loan_advances': 'NaN', 'total_stock_value': 126027, 'deferred_income': -262500, 'to_messages': 2598, 'bonus': 1250000, 'restricted_stock': 126027, 'expenses': 35818, 'deferral_payments': 'NaN', 'email_address': 'christopher.calger@enron.com'}\n",
      "HICKERSON GARY J {'poi': False, 'director_fees': 'NaN', 'long_term_incentive': 69223, 'exercised_stock_options': 'NaN', 'from_poi_to_this_person': 40, 'other': 1936, 'restricted_stock_deferred': 'NaN', 'from_this_person_to_poi': 1, 'salary': 211788, 'total_payments': 2081796, 'from_messages': 27, 'shared_receipt_with_poi': 900, 'loan_advances': 'NaN', 'total_stock_value': 441096, 'deferred_income': 'NaN', 'to_messages': 1320, 'bonus': 1700000, 'restricted_stock': 441096, 'expenses': 98849, 'deferral_payments': 'NaN', 'email_address': 'gary.hickerson@enron.com'}\n",
      "CARTER REBECCA C {'poi': False, 'director_fees': 'NaN', 'long_term_incentive': 75000, 'exercised_stock_options': 'NaN', 'from_poi_to_this_person': 29, 'other': 540, 'restricted_stock_deferred': -307301, 'from_this_person_to_poi': 7, 'salary': 261809, 'total_payments': 477557, 'from_messages': 15, 'shared_receipt_with_poi': 196, 'loan_advances': 'NaN', 'total_stock_value': 'NaN', 'deferred_income': -159792, 'to_messages': 312, 'bonus': 300000, 'restricted_stock': 307301, 'expenses': 'NaN', 'deferral_payments': 'NaN', 'email_address': 'rebecca.carter@enron.com'}\n",
      "HIRKO JOSEPH {'poi': True, 'director_fees': 'NaN', 'long_term_incentive': 'NaN', 'exercised_stock_options': 30766064, 'from_poi_to_this_person': 'NaN', 'other': 2856, 'restricted_stock_deferred': 'NaN', 'from_this_person_to_poi': 'NaN', 'salary': 'NaN', 'total_payments': 91093, 'from_messages': 'NaN', 'shared_receipt_with_poi': 'NaN', 'loan_advances': 'NaN', 'total_stock_value': 30766064, 'deferred_income': 'NaN', 'to_messages': 'NaN', 'bonus': 'NaN', 'restricted_stock': 'NaN', 'expenses': 77978, 'deferral_payments': 10259, 'email_address': 'joe.hirko@enron.com'}\n",
      "HERMANN ROBERT J {'poi': False, 'director_fees': 'NaN', 'long_term_incentive': 150000, 'exercised_stock_options': 187500, 'from_poi_to_this_person': 'NaN', 'other': 416441, 'restricted_stock_deferred': 'NaN', 'from_this_person_to_poi': 'NaN', 'salary': 262663, 'total_payments': 1297461, 'from_messages': 'NaN', 'shared_receipt_with_poi': 'NaN', 'loan_advances': 'NaN', 'total_stock_value': 668132, 'deferred_income': -280000, 'to_messages': 'NaN', 'bonus': 700000, 'restricted_stock': 480632, 'expenses': 48357, 'deferral_payments': 'NaN', 'email_address': 'robert.hermann@enron.com'}\n",
      "BAY FRANKLIN R {'poi': False, 'director_fees': 'NaN', 'long_term_incentive': 'NaN', 'exercised_stock_options': 'NaN', 'from_poi_to_this_person': 'NaN', 'other': 69, 'restricted_stock_deferred': -82782, 'from_this_person_to_poi': 'NaN', 'salary': 239671, 'total_payments': 827696, 'from_messages': 'NaN', 'shared_receipt_with_poi': 'NaN', 'loan_advances': 'NaN', 'total_stock_value': 63014, 'deferred_income': -201641, 'to_messages': 'NaN', 'bonus': 400000, 'restricted_stock': 145796, 'expenses': 129142, 'deferral_payments': 260455, 'email_address': 'frank.bay@enron.com'}\n",
      "DELAINEY DAVID W {'poi': True, 'director_fees': 'NaN', 'long_term_incentive': 1294981, 'exercised_stock_options': 2291113, 'from_poi_to_this_person': 66, 'other': 1661, 'restricted_stock_deferred': 'NaN', 'from_this_person_to_poi': 609, 'salary': 365163, 'total_payments': 4747979, 'from_messages': 3069, 'shared_receipt_with_poi': 2097, 'loan_advances': 'NaN', 'total_stock_value': 3614261, 'deferred_income': 'NaN', 'to_messages': 3093, 'bonus': 3000000, 'restricted_stock': 1323148, 'expenses': 86174, 'deferral_payments': 'NaN', 'email_address': 'david.delainey@enron.com'}\n",
      "KAMINSKI WINCENTY J {'poi': False, 'director_fees': 'NaN', 'long_term_incentive': 323466, 'exercised_stock_options': 850010, 'from_poi_to_this_person': 41, 'other': 4669, 'restricted_stock_deferred': 'NaN', 'from_this_person_to_poi': 171, 'salary': 275101, 'total_payments': 1086821, 'from_messages': 14368, 'shared_receipt_with_poi': 583, 'loan_advances': 'NaN', 'total_stock_value': 976037, 'deferred_income': 'NaN', 'to_messages': 4607, 'bonus': 400000, 'restricted_stock': 126027, 'expenses': 83585, 'deferral_payments': 'NaN', 'email_address': 'vince.kaminski@enron.com'}\n",
      "FREVERT MARK A {'poi': False, 'director_fees': 'NaN', 'long_term_incentive': 1617011, 'exercised_stock_options': 10433518, 'from_poi_to_this_person': 242, 'other': 7427621, 'restricted_stock_deferred': 'NaN', 'from_this_person_to_poi': 6, 'salary': 1060932, 'total_payments': 17252530, 'from_messages': 21, 'shared_receipt_with_poi': 2979, 'loan_advances': 2000000, 'total_stock_value': 14622185, 'deferred_income': -3367011, 'to_messages': 3275, 'bonus': 2000000, 'restricted_stock': 4188667, 'expenses': 86987, 'deferral_payments': 6426990, 'email_address': 'mark.frevert@enron.com'}\n",
      "WROBEL BRUCE {'poi': False, 'director_fees': 'NaN', 'long_term_incentive': 'NaN', 'exercised_stock_options': 139130, 'from_poi_to_this_person': 'NaN', 'other': 'NaN', 'restricted_stock_deferred': 'NaN', 'from_this_person_to_poi': 'NaN', 'salary': 'NaN', 'total_payments': 'NaN', 'from_messages': 'NaN', 'shared_receipt_with_poi': 'NaN', 'loan_advances': 'NaN', 'total_stock_value': 139130, 'deferred_income': 'NaN', 'to_messages': 'NaN', 'bonus': 'NaN', 'restricted_stock': 'NaN', 'expenses': 'NaN', 'deferral_payments': 'NaN', 'email_address': 'NaN'}\n",
      "SHELBY REX {'poi': True, 'director_fees': 'NaN', 'long_term_incentive': 'NaN', 'exercised_stock_options': 1624396, 'from_poi_to_this_person': 13, 'other': 1573324, 'restricted_stock_deferred': 'NaN', 'from_this_person_to_poi': 14, 'salary': 211844, 'total_payments': 2003885, 'from_messages': 39, 'shared_receipt_with_poi': 91, 'loan_advances': 'NaN', 'total_stock_value': 2493616, 'deferred_income': -4167, 'to_messages': 225, 'bonus': 200000, 'restricted_stock': 869220, 'expenses': 22884, 'deferral_payments': 'NaN', 'email_address': 'rex.shelby@enron.com'}\n",
      "MORAN MICHAEL P {'poi': False, 'director_fees': 'NaN', 'long_term_incentive': 'NaN', 'exercised_stock_options': 59539, 'from_poi_to_this_person': 0, 'other': 'NaN', 'restricted_stock_deferred': 'NaN', 'from_this_person_to_poi': 0, 'salary': 'NaN', 'total_payments': 'NaN', 'from_messages': 19, 'shared_receipt_with_poi': 127, 'loan_advances': 'NaN', 'total_stock_value': 221141, 'deferred_income': 'NaN', 'to_messages': 672, 'bonus': 'NaN', 'restricted_stock': 161602, 'expenses': 'NaN', 'deferral_payments': 'NaN', 'email_address': 'michael.moran@enron.com'}\n",
      "SUNDE MARTIN {'poi': False, 'director_fees': 'NaN', 'long_term_incentive': 476451, 'exercised_stock_options': 'NaN', 'from_poi_to_this_person': 37, 'other': 111122, 'restricted_stock_deferred': 'NaN', 'from_this_person_to_poi': 13, 'salary': 257486, 'total_payments': 1545059, 'from_messages': 38, 'shared_receipt_with_poi': 2565, 'loan_advances': 'NaN', 'total_stock_value': 698920, 'deferred_income': 'NaN', 'to_messages': 2647, 'bonus': 700000, 'restricted_stock': 698920, 'expenses': 'NaN', 'deferral_payments': 'NaN', 'email_address': 'marty.sunde@enron.com'}\n",
      "CLINE KENNETH W {'poi': False, 'director_fees': 'NaN', 'long_term_incentive': 'NaN', 'exercised_stock_options': 'NaN', 'from_poi_to_this_person': 'NaN', 'other': 'NaN', 'restricted_stock_deferred': -472568, 'from_this_person_to_poi': 'NaN', 'salary': 'NaN', 'total_payments': 'NaN', 'from_messages': 'NaN', 'shared_receipt_with_poi': 'NaN', 'loan_advances': 'NaN', 'total_stock_value': 189518, 'deferred_income': 'NaN', 'to_messages': 'NaN', 'bonus': 'NaN', 'restricted_stock': 662086, 'expenses': 'NaN', 'deferral_payments': 'NaN', 'email_address': 'NaN'}\n",
      "JAEDICKE ROBERT {'poi': False, 'director_fees': 108750, 'long_term_incentive': 'NaN', 'exercised_stock_options': 431750, 'from_poi_to_this_person': 'NaN', 'other': 'NaN', 'restricted_stock_deferred': -44093, 'from_this_person_to_poi': 'NaN', 'salary': 'NaN', 'total_payments': 83750, 'from_messages': 'NaN', 'shared_receipt_with_poi': 'NaN', 'loan_advances': 'NaN', 'total_stock_value': 431750, 'deferred_income': -25000, 'to_messages': 'NaN', 'bonus': 'NaN', 'restricted_stock': 44093, 'expenses': 'NaN', 'deferral_payments': 'NaN', 'email_address': 'NaN'}\n",
      "LINDHOLM TOD A {'poi': False, 'director_fees': 'NaN', 'long_term_incentive': 175000, 'exercised_stock_options': 2549361, 'from_poi_to_this_person': 'NaN', 'other': 2630, 'restricted_stock_deferred': 'NaN', 'from_this_person_to_poi': 'NaN', 'salary': 236457, 'total_payments': 875889, 'from_messages': 'NaN', 'shared_receipt_with_poi': 'NaN', 'loan_advances': 'NaN', 'total_stock_value': 3064208, 'deferred_income': 'NaN', 'to_messages': 'NaN', 'bonus': 200000, 'restricted_stock': 514847, 'expenses': 57727, 'deferral_payments': 204075, 'email_address': 'tod.lindholm@enron.com'}\n",
      "HAUG DAVID L {'poi': False, 'director_fees': 'NaN', 'long_term_incentive': 'NaN', 'exercised_stock_options': 'NaN', 'from_poi_to_this_person': 4, 'other': 'NaN', 'restricted_stock_deferred': 'NaN', 'from_this_person_to_poi': 7, 'salary': 'NaN', 'total_payments': 475, 'from_messages': 19, 'shared_receipt_with_poi': 471, 'loan_advances': 'NaN', 'total_stock_value': 2217299, 'deferred_income': 'NaN', 'to_messages': 573, 'bonus': 'NaN', 'restricted_stock': 2217299, 'expenses': 475, 'deferral_payments': 'NaN', 'email_address': 'david.haug@enron.com'}\n",
      "BANNANTINE JAMES M {'poi': False, 'director_fees': 'NaN', 'long_term_incentive': 'NaN', 'exercised_stock_options': 4046157, 'from_poi_to_this_person': 39, 'other': 864523, 'restricted_stock_deferred': -560222, 'from_this_person_to_poi': 0, 'salary': 477, 'total_payments': 916197, 'from_messages': 29, 'shared_receipt_with_poi': 465, 'loan_advances': 'NaN', 'total_stock_value': 5243487, 'deferred_income': -5104, 'to_messages': 566, 'bonus': 'NaN', 'restricted_stock': 1757552, 'expenses': 56301, 'deferral_payments': 'NaN', 'email_address': 'james.bannantine@enron.com'}\n",
      "GATHMANN WILLIAM D {'poi': False, 'director_fees': 'NaN', 'long_term_incentive': 'NaN', 'exercised_stock_options': 1753766, 'from_poi_to_this_person': 'NaN', 'other': 'NaN', 'restricted_stock_deferred': -72419, 'from_this_person_to_poi': 'NaN', 'salary': 'NaN', 'total_payments': 'NaN', 'from_messages': 'NaN', 'shared_receipt_with_poi': 'NaN', 'loan_advances': 'NaN', 'total_stock_value': 1945360, 'deferred_income': 'NaN', 'to_messages': 'NaN', 'bonus': 'NaN', 'restricted_stock': 264013, 'expenses': 'NaN', 'deferral_payments': 'NaN', 'email_address': 'NaN'}\n",
      "MURRAY JULIA H {'poi': False, 'director_fees': 'NaN', 'long_term_incentive': 125000, 'exercised_stock_options': 400478, 'from_poi_to_this_person': 11, 'other': 330, 'restricted_stock_deferred': 'NaN', 'from_this_person_to_poi': 2, 'salary': 229284, 'total_payments': 812194, 'from_messages': 45, 'shared_receipt_with_poi': 395, 'loan_advances': 'NaN', 'total_stock_value': 597461, 'deferred_income': 'NaN', 'to_messages': 2192, 'bonus': 400000, 'restricted_stock': 196983, 'expenses': 57580, 'deferral_payments': 'NaN', 'email_address': 'julia.murray@enron.com'}\n",
      "GILLIS JOHN {'poi': False, 'director_fees': 'NaN', 'long_term_incentive': 'NaN', 'exercised_stock_options': 9803, 'from_poi_to_this_person': 'NaN', 'other': 'NaN', 'restricted_stock_deferred': 'NaN', 'from_this_person_to_poi': 'NaN', 'salary': 'NaN', 'total_payments': 'NaN', 'from_messages': 'NaN', 'shared_receipt_with_poi': 'NaN', 'loan_advances': 'NaN', 'total_stock_value': 85641, 'deferred_income': 'NaN', 'to_messages': 'NaN', 'bonus': 'NaN', 'restricted_stock': 75838, 'expenses': 'NaN', 'deferral_payments': 'NaN', 'email_address': 'NaN'}\n",
      "HAEDICKE MARK E {'poi': False, 'director_fees': 'NaN', 'long_term_incentive': 983346, 'exercised_stock_options': 608750, 'from_poi_to_this_person': 180, 'other': 52382, 'restricted_stock_deferred': -329825, 'from_this_person_to_poi': 61, 'salary': 374125, 'total_payments': 3859065, 'from_messages': 1941, 'shared_receipt_with_poi': 1847, 'loan_advances': 'NaN', 'total_stock_value': 803094, 'deferred_income': -934484, 'to_messages': 4009, 'bonus': 1150000, 'restricted_stock': 524169, 'expenses': 76169, 'deferral_payments': 2157527, 'email_address': 'mark.haedicke@enron.com'}\n",
      "MCCONNELL MICHAEL S {'poi': False, 'director_fees': 'NaN', 'long_term_incentive': 554422, 'exercised_stock_options': 1623010, 'from_poi_to_this_person': 92, 'other': 540, 'restricted_stock_deferred': 'NaN', 'from_this_person_to_poi': 194, 'salary': 365038, 'total_payments': 2101364, 'from_messages': 2742, 'shared_receipt_with_poi': 2189, 'loan_advances': 'NaN', 'total_stock_value': 3101279, 'deferred_income': 'NaN', 'to_messages': 3329, 'bonus': 1100000, 'restricted_stock': 1478269, 'expenses': 81364, 'deferral_payments': 'NaN', 'email_address': 'mike.mcconnell@enron.com'}\n",
      "OLSON CINDY K {'poi': False, 'director_fees': 'NaN', 'long_term_incentive': 100000, 'exercised_stock_options': 1637034, 'from_poi_to_this_person': 20, 'other': 972, 'restricted_stock_deferred': 'NaN', 'from_this_person_to_poi': 15, 'salary': 329078, 'total_payments': 1321557, 'from_messages': 52, 'shared_receipt_with_poi': 856, 'loan_advances': 'NaN', 'total_stock_value': 2606763, 'deferred_income': 'NaN', 'to_messages': 1184, 'bonus': 750000, 'restricted_stock': 969729, 'expenses': 63791, 'deferral_payments': 77716, 'email_address': 'cindy.olson@enron.com'}\n",
      "MENDELSOHN JOHN {'poi': False, 'director_fees': 103750, 'long_term_incentive': 'NaN', 'exercised_stock_options': 'NaN', 'from_poi_to_this_person': 'NaN', 'other': 'NaN', 'restricted_stock_deferred': 'NaN', 'from_this_person_to_poi': 'NaN', 'salary': 'NaN', 'total_payments': 148, 'from_messages': 'NaN', 'shared_receipt_with_poi': 'NaN', 'loan_advances': 'NaN', 'total_stock_value': 'NaN', 'deferred_income': -103750, 'to_messages': 'NaN', 'bonus': 'NaN', 'restricted_stock': 'NaN', 'expenses': 148, 'deferral_payments': 'NaN', 'email_address': 'NaN'}\n",
      "ALLEN PHILLIP K {'poi': False, 'director_fees': 'NaN', 'long_term_incentive': 304805, 'exercised_stock_options': 1729541, 'from_poi_to_this_person': 47, 'other': 152, 'restricted_stock_deferred': -126027, 'from_this_person_to_poi': 65, 'salary': 201955, 'total_payments': 4484442, 'from_messages': 2195, 'shared_receipt_with_poi': 1407, 'loan_advances': 'NaN', 'total_stock_value': 1729541, 'deferred_income': -3081055, 'to_messages': 2902, 'bonus': 4175000, 'restricted_stock': 126027, 'expenses': 13868, 'deferral_payments': 2869717, 'email_address': 'phillip.allen@enron.com'}\n",
      "LOWRY CHARLES P {'poi': False, 'director_fees': 'NaN', 'long_term_incentive': 'NaN', 'exercised_stock_options': 372205, 'from_poi_to_this_person': 'NaN', 'other': 'NaN', 'restricted_stock_deferred': -153686, 'from_this_person_to_poi': 'NaN', 'salary': 'NaN', 'total_payments': 'NaN', 'from_messages': 'NaN', 'shared_receipt_with_poi': 'NaN', 'loan_advances': 'NaN', 'total_stock_value': 372205, 'deferred_income': 'NaN', 'to_messages': 'NaN', 'bonus': 'NaN', 'restricted_stock': 153686, 'expenses': 'NaN', 'deferral_payments': 'NaN', 'email_address': 'NaN'}\n",
      "MARTIN AMANDA K {'poi': False, 'director_fees': 'NaN', 'long_term_incentive': 5145434, 'exercised_stock_options': 2070306, 'from_poi_to_this_person': 8, 'other': 2818454, 'restricted_stock_deferred': 'NaN', 'from_this_person_to_poi': 0, 'salary': 349487, 'total_payments': 8407016, 'from_messages': 230, 'shared_receipt_with_poi': 477, 'loan_advances': 'NaN', 'total_stock_value': 2070306, 'deferred_income': 'NaN', 'to_messages': 1522, 'bonus': 'NaN', 'restricted_stock': 'NaN', 'expenses': 8211, 'deferral_payments': 85430, 'email_address': 'a..martin@enron.com'}\n",
      "IZZO LAWRENCE L {'poi': False, 'director_fees': 'NaN', 'long_term_incentive': 312500, 'exercised_stock_options': 2165172, 'from_poi_to_this_person': 28, 'other': 1553729, 'restricted_stock_deferred': 'NaN', 'from_this_person_to_poi': 5, 'salary': 85274, 'total_payments': 1979596, 'from_messages': 19, 'shared_receipt_with_poi': 437, 'loan_advances': 'NaN', 'total_stock_value': 5819980, 'deferred_income': 'NaN', 'to_messages': 496, 'bonus': 'NaN', 'restricted_stock': 3654808, 'expenses': 28093, 'deferral_payments': 'NaN', 'email_address': 'larry.izzo@enron.com'}\n",
      "SHAPIRO RICHARD S {'poi': False, 'director_fees': 'NaN', 'long_term_incentive': 'NaN', 'exercised_stock_options': 607837, 'from_poi_to_this_person': 74, 'other': 705, 'restricted_stock_deferred': 'NaN', 'from_this_person_to_poi': 65, 'salary': 269076, 'total_payments': 1057548, 'from_messages': 1215, 'shared_receipt_with_poi': 4527, 'loan_advances': 'NaN', 'total_stock_value': 987001, 'deferred_income': 'NaN', 'to_messages': 15149, 'bonus': 650000, 'restricted_stock': 379164, 'expenses': 137767, 'deferral_payments': 'NaN', 'email_address': 'richard.shapiro@enron.com'}\n",
      "NOLES JAMES L {'poi': False, 'director_fees': 'NaN', 'long_term_incentive': 'NaN', 'exercised_stock_options': 'NaN', 'from_poi_to_this_person': 'NaN', 'other': 'NaN', 'restricted_stock_deferred': -94556, 'from_this_person_to_poi': 'NaN', 'salary': 'NaN', 'total_payments': 774401, 'from_messages': 'NaN', 'shared_receipt_with_poi': 'NaN', 'loan_advances': 'NaN', 'total_stock_value': 368705, 'deferred_income': 'NaN', 'to_messages': 'NaN', 'bonus': 'NaN', 'restricted_stock': 463261, 'expenses': 'NaN', 'deferral_payments': 774401, 'email_address': 'NaN'}\n",
      "MEYER ROCKFORD G {'poi': False, 'director_fees': 'NaN', 'long_term_incentive': 'NaN', 'exercised_stock_options': 493489, 'from_poi_to_this_person': 0, 'other': 'NaN', 'restricted_stock_deferred': 'NaN', 'from_this_person_to_poi': 0, 'salary': 'NaN', 'total_payments': 1848227, 'from_messages': 28, 'shared_receipt_with_poi': 22, 'loan_advances': 'NaN', 'total_stock_value': 955873, 'deferred_income': 'NaN', 'to_messages': 232, 'bonus': 'NaN', 'restricted_stock': 462384, 'expenses': 'NaN', 'deferral_payments': 1848227, 'email_address': 'rockford.meyer@enron.com'}\n",
      "CAUSEY RICHARD A {'poi': True, 'director_fees': 'NaN', 'long_term_incentive': 350000, 'exercised_stock_options': 'NaN', 'from_poi_to_this_person': 58, 'other': 307895, 'restricted_stock_deferred': 'NaN', 'from_this_person_to_poi': 12, 'salary': 415189, 'total_payments': 1868758, 'from_messages': 49, 'shared_receipt_with_poi': 1585, 'loan_advances': 'NaN', 'total_stock_value': 2502063, 'deferred_income': -235000, 'to_messages': 1892, 'bonus': 1000000, 'restricted_stock': 2502063, 'expenses': 30674, 'deferral_payments': 'NaN', 'email_address': 'richard.causey@enron.com'}\n",
      "GRAMM WENDY L {'poi': False, 'director_fees': 119292, 'long_term_incentive': 'NaN', 'exercised_stock_options': 'NaN', 'from_poi_to_this_person': 'NaN', 'other': 'NaN', 'restricted_stock_deferred': 'NaN', 'from_this_person_to_poi': 'NaN', 'salary': 'NaN', 'total_payments': 119292, 'from_messages': 'NaN', 'shared_receipt_with_poi': 'NaN', 'loan_advances': 'NaN', 'total_stock_value': 'NaN', 'deferred_income': 'NaN', 'to_messages': 'NaN', 'bonus': 'NaN', 'restricted_stock': 'NaN', 'expenses': 'NaN', 'deferral_payments': 'NaN', 'email_address': 'NaN'}\n",
      "REDMOND BRIAN L {'poi': False, 'director_fees': 'NaN', 'long_term_incentive': 'NaN', 'exercised_stock_options': 7509039, 'from_poi_to_this_person': 204, 'other': 'NaN', 'restricted_stock_deferred': 'NaN', 'from_this_person_to_poi': 49, 'salary': 96840, 'total_payments': 111529, 'from_messages': 221, 'shared_receipt_with_poi': 1063, 'loan_advances': 'NaN', 'total_stock_value': 7890324, 'deferred_income': 'NaN', 'to_messages': 1671, 'bonus': 'NaN', 'restricted_stock': 381285, 'expenses': 14689, 'deferral_payments': 'NaN', 'email_address': 'brian.redmond@enron.com'}\n",
      "FITZGERALD JAY L {'poi': False, 'director_fees': 'NaN', 'long_term_incentive': 556416, 'exercised_stock_options': 664461, 'from_poi_to_this_person': 1, 'other': 285414, 'restricted_stock_deferred': 'NaN', 'from_this_person_to_poi': 8, 'salary': 199157, 'total_payments': 1414857, 'from_messages': 16, 'shared_receipt_with_poi': 723, 'loan_advances': 'NaN', 'total_stock_value': 1621236, 'deferred_income': 'NaN', 'to_messages': 936, 'bonus': 350000, 'restricted_stock': 956775, 'expenses': 23870, 'deferral_payments': 'NaN', 'email_address': 'jay.fitzgerald@enron.com'}\n",
      "DUNCAN JOHN H {'poi': False, 'director_fees': 102492, 'long_term_incentive': 'NaN', 'exercised_stock_options': 371750, 'from_poi_to_this_person': 'NaN', 'other': 'NaN', 'restricted_stock_deferred': 'NaN', 'from_this_person_to_poi': 'NaN', 'salary': 'NaN', 'total_payments': 77492, 'from_messages': 'NaN', 'shared_receipt_with_poi': 'NaN', 'loan_advances': 'NaN', 'total_stock_value': 371750, 'deferred_income': -25000, 'to_messages': 'NaN', 'bonus': 'NaN', 'restricted_stock': 'NaN', 'expenses': 'NaN', 'deferral_payments': 'NaN', 'email_address': 'NaN'}\n",
      "LAVORATO JOHN J {'poi': False, 'director_fees': 'NaN', 'long_term_incentive': 2035380, 'exercised_stock_options': 4158995, 'from_poi_to_this_person': 528, 'other': 1552, 'restricted_stock_deferred': 'NaN', 'from_this_person_to_poi': 411, 'salary': 339288, 'total_payments': 10425757, 'from_messages': 2585, 'shared_receipt_with_poi': 3962, 'loan_advances': 'NaN', 'total_stock_value': 5167144, 'deferred_income': 'NaN', 'to_messages': 7259, 'bonus': 8000000, 'restricted_stock': 1008149, 'expenses': 49537, 'deferral_payments': 'NaN', 'email_address': 'john.lavorato@enron.com'}\n",
      "YEAP SOON {'poi': False, 'director_fees': 'NaN', 'long_term_incentive': 'NaN', 'exercised_stock_options': 192758, 'from_poi_to_this_person': 'NaN', 'other': 'NaN', 'restricted_stock_deferred': 'NaN', 'from_this_person_to_poi': 'NaN', 'salary': 'NaN', 'total_payments': 55097, 'from_messages': 'NaN', 'shared_receipt_with_poi': 'NaN', 'loan_advances': 'NaN', 'total_stock_value': 192758, 'deferred_income': 'NaN', 'to_messages': 'NaN', 'bonus': 'NaN', 'restricted_stock': 'NaN', 'expenses': 55097, 'deferral_payments': 'NaN', 'email_address': 'NaN'}\n",
      "FASTOW ANDREW S {'poi': True, 'director_fees': 'NaN', 'long_term_incentive': 1736055, 'exercised_stock_options': 'NaN', 'from_poi_to_this_person': 'NaN', 'other': 277464, 'restricted_stock_deferred': 'NaN', 'from_this_person_to_poi': 'NaN', 'salary': 440698, 'total_payments': 2424083, 'from_messages': 'NaN', 'shared_receipt_with_poi': 'NaN', 'loan_advances': 'NaN', 'total_stock_value': 1794412, 'deferred_income': -1386055, 'to_messages': 'NaN', 'bonus': 1300000, 'restricted_stock': 1794412, 'expenses': 55921, 'deferral_payments': 'NaN', 'email_address': 'andrew.fastow@enron.com'}\n",
      "BERBERIAN DAVID {'poi': False, 'director_fees': 'NaN', 'long_term_incentive': 'NaN', 'exercised_stock_options': 1624396, 'from_poi_to_this_person': 'NaN', 'other': 'NaN', 'restricted_stock_deferred': 'NaN', 'from_this_person_to_poi': 'NaN', 'salary': 216582, 'total_payments': 228474, 'from_messages': 'NaN', 'shared_receipt_with_poi': 'NaN', 'loan_advances': 'NaN', 'total_stock_value': 2493616, 'deferred_income': 'NaN', 'to_messages': 'NaN', 'bonus': 'NaN', 'restricted_stock': 869220, 'expenses': 11892, 'deferral_payments': 'NaN', 'email_address': 'david.berberian@enron.com'}\n",
      "SKILLING JEFFREY K {'poi': True, 'director_fees': 'NaN', 'long_term_incentive': 1920000, 'exercised_stock_options': 19250000, 'from_poi_to_this_person': 88, 'other': 22122, 'restricted_stock_deferred': 'NaN', 'from_this_person_to_poi': 30, 'salary': 1111258, 'total_payments': 8682716, 'from_messages': 108, 'shared_receipt_with_poi': 2042, 'loan_advances': 'NaN', 'total_stock_value': 26093672, 'deferred_income': 'NaN', 'to_messages': 3627, 'bonus': 5600000, 'restricted_stock': 6843672, 'expenses': 29336, 'deferral_payments': 'NaN', 'email_address': 'jeff.skilling@enron.com'}\n",
      "BUCHANAN HAROLD G {'poi': False, 'director_fees': 'NaN', 'long_term_incentive': 304805, 'exercised_stock_options': 825464, 'from_poi_to_this_person': 0, 'other': 1215, 'restricted_stock_deferred': 'NaN', 'from_this_person_to_poi': 0, 'salary': 248017, 'total_payments': 1054637, 'from_messages': 125, 'shared_receipt_with_poi': 23, 'loan_advances': 'NaN', 'total_stock_value': 1014505, 'deferred_income': 'NaN', 'to_messages': 1088, 'bonus': 500000, 'restricted_stock': 189041, 'expenses': 600, 'deferral_payments': 'NaN', 'email_address': 'john.buchanan@enron.com'}\n",
      "ECHOLS JOHN B {'poi': False, 'director_fees': 'NaN', 'long_term_incentive': 2234774, 'exercised_stock_options': 601438, 'from_poi_to_this_person': 'NaN', 'other': 53775, 'restricted_stock_deferred': 'NaN', 'from_this_person_to_poi': 'NaN', 'salary': 182245, 'total_payments': 2692324, 'from_messages': 'NaN', 'shared_receipt_with_poi': 'NaN', 'loan_advances': 'NaN', 'total_stock_value': 1008941, 'deferred_income': 'NaN', 'to_messages': 'NaN', 'bonus': 200000, 'restricted_stock': 407503, 'expenses': 21530, 'deferral_payments': 'NaN', 'email_address': 'john.echols@enron.com'}\n",
      "WALLS JR ROBERT H {'poi': False, 'director_fees': 'NaN', 'long_term_incentive': 540751, 'exercised_stock_options': 4346544, 'from_poi_to_this_person': 17, 'other': 2, 'restricted_stock_deferred': 'NaN', 'from_this_person_to_poi': 0, 'salary': 357091, 'total_payments': 1798780, 'from_messages': 146, 'shared_receipt_with_poi': 215, 'loan_advances': 'NaN', 'total_stock_value': 5898997, 'deferred_income': 'NaN', 'to_messages': 671, 'bonus': 850000, 'restricted_stock': 1552453, 'expenses': 50936, 'deferral_payments': 'NaN', 'email_address': 'rob.walls@enron.com'}\n",
      "WASAFF GEORGE {'poi': False, 'director_fees': 'NaN', 'long_term_incentive': 200000, 'exercised_stock_options': 1668260, 'from_poi_to_this_person': 22, 'other': 1425, 'restricted_stock_deferred': 'NaN', 'from_this_person_to_poi': 7, 'salary': 259996, 'total_payments': 1034395, 'from_messages': 30, 'shared_receipt_with_poi': 337, 'loan_advances': 'NaN', 'total_stock_value': 2056427, 'deferred_income': -583325, 'to_messages': 400, 'bonus': 325000, 'restricted_stock': 388167, 'expenses': 'NaN', 'deferral_payments': 831299, 'email_address': 'george.wasaff@enron.com'}\n",
      "BHATNAGAR SANJAY {'poi': False, 'director_fees': 137864, 'long_term_incentive': 'NaN', 'exercised_stock_options': 2604490, 'from_poi_to_this_person': 0, 'other': 137864, 'restricted_stock_deferred': 15456290, 'from_this_person_to_poi': 1, 'salary': 'NaN', 'total_payments': 15456290, 'from_messages': 29, 'shared_receipt_with_poi': 463, 'loan_advances': 'NaN', 'total_stock_value': 'NaN', 'deferred_income': 'NaN', 'to_messages': 523, 'bonus': 'NaN', 'restricted_stock': -2604490, 'expenses': 'NaN', 'deferral_payments': 'NaN', 'email_address': 'sanjay.bhatnagar@enron.com'}\n",
      "BELDEN TIMOTHY N {'poi': True, 'director_fees': 'NaN', 'long_term_incentive': 'NaN', 'exercised_stock_options': 953136, 'from_poi_to_this_person': 228, 'other': 210698, 'restricted_stock_deferred': 'NaN', 'from_this_person_to_poi': 108, 'salary': 213999, 'total_payments': 5501630, 'from_messages': 484, 'shared_receipt_with_poi': 5521, 'loan_advances': 'NaN', 'total_stock_value': 1110705, 'deferred_income': -2334434, 'to_messages': 7991, 'bonus': 5249999, 'restricted_stock': 157569, 'expenses': 17355, 'deferral_payments': 2144013, 'email_address': 'tim.belden@enron.com'}\n",
      "GIBBS DANA R {'poi': False, 'director_fees': 'NaN', 'long_term_incentive': 461912, 'exercised_stock_options': 2218275, 'from_poi_to_this_person': 0, 'other': 'NaN', 'restricted_stock_deferred': 'NaN', 'from_this_person_to_poi': 0, 'salary': 'NaN', 'total_payments': 966522, 'from_messages': 12, 'shared_receipt_with_poi': 23, 'loan_advances': 'NaN', 'total_stock_value': 2218275, 'deferred_income': 'NaN', 'to_messages': 169, 'bonus': 'NaN', 'restricted_stock': 'NaN', 'expenses': 'NaN', 'deferral_payments': 504610, 'email_address': 'dana.gibbs@enron.com'}\n",
      "DETMERING TIMOTHY J {'poi': False, 'director_fees': 'NaN', 'long_term_incentive': 415657, 'exercised_stock_options': 2027865, 'from_poi_to_this_person': 'NaN', 'other': 1105, 'restricted_stock_deferred': -315068, 'from_this_person_to_poi': 'NaN', 'salary': 210500, 'total_payments': 1204583, 'from_messages': 'NaN', 'shared_receipt_with_poi': 'NaN', 'loan_advances': 'NaN', 'total_stock_value': 2027865, 'deferred_income': -775241, 'to_messages': 'NaN', 'bonus': 425000, 'restricted_stock': 315068, 'expenses': 52255, 'deferral_payments': 875307, 'email_address': 'timothy.detmering@enron.com'}\n",
      "BELFER ROBERT {'poi': False, 'director_fees': 3285, 'long_term_incentive': 'NaN', 'exercised_stock_options': 3285, 'from_poi_to_this_person': 'NaN', 'other': 'NaN', 'restricted_stock_deferred': 44093, 'from_this_person_to_poi': 'NaN', 'salary': 'NaN', 'total_payments': 102500, 'from_messages': 'NaN', 'shared_receipt_with_poi': 'NaN', 'loan_advances': 'NaN', 'total_stock_value': -44093, 'deferred_income': 'NaN', 'to_messages': 'NaN', 'bonus': 'NaN', 'restricted_stock': 'NaN', 'expenses': 'NaN', 'deferral_payments': -102500, 'email_address': 'NaN'}\n",
      "CHRISTODOULOU DIOMEDES {'poi': False, 'director_fees': 'NaN', 'long_term_incentive': 'NaN', 'exercised_stock_options': 5127155, 'from_poi_to_this_person': 'NaN', 'other': 'NaN', 'restricted_stock_deferred': 'NaN', 'from_this_person_to_poi': 'NaN', 'salary': 'NaN', 'total_payments': 'NaN', 'from_messages': 'NaN', 'shared_receipt_with_poi': 'NaN', 'loan_advances': 'NaN', 'total_stock_value': 6077885, 'deferred_income': 'NaN', 'to_messages': 'NaN', 'bonus': 'NaN', 'restricted_stock': 950730, 'expenses': 'NaN', 'deferral_payments': 'NaN', 'email_address': 'diomedes.christodoulou@enron.com'}\n",
      "URQUHART JOHN A {'poi': False, 'director_fees': 36666, 'long_term_incentive': 'NaN', 'exercised_stock_options': 'NaN', 'from_poi_to_this_person': 'NaN', 'other': 'NaN', 'restricted_stock_deferred': 'NaN', 'from_this_person_to_poi': 'NaN', 'salary': 'NaN', 'total_payments': 228656, 'from_messages': 'NaN', 'shared_receipt_with_poi': 'NaN', 'loan_advances': 'NaN', 'total_stock_value': 'NaN', 'deferred_income': -36666, 'to_messages': 'NaN', 'bonus': 'NaN', 'restricted_stock': 'NaN', 'expenses': 228656, 'deferral_payments': 'NaN', 'email_address': 'NaN'}\n",
      "LAY KENNETH L {'poi': True, 'director_fees': 'NaN', 'long_term_incentive': 3600000, 'exercised_stock_options': 34348384, 'from_poi_to_this_person': 123, 'other': 10359729, 'restricted_stock_deferred': 'NaN', 'from_this_person_to_poi': 16, 'salary': 1072321, 'total_payments': 103559793, 'from_messages': 36, 'shared_receipt_with_poi': 2411, 'loan_advances': 81525000, 'total_stock_value': 49110078, 'deferred_income': -300000, 'to_messages': 4273, 'bonus': 7000000, 'restricted_stock': 14761694, 'expenses': 99832, 'deferral_payments': 202911, 'email_address': 'kenneth.lay@enron.com'}\n",
      "KITCHEN LOUISE {'poi': False, 'director_fees': 'NaN', 'long_term_incentive': 'NaN', 'exercised_stock_options': 81042, 'from_poi_to_this_person': 251, 'other': 93925, 'restricted_stock_deferred': 'NaN', 'from_this_person_to_poi': 194, 'salary': 271442, 'total_payments': 3471141, 'from_messages': 1728, 'shared_receipt_with_poi': 3669, 'loan_advances': 'NaN', 'total_stock_value': 547143, 'deferred_income': 'NaN', 'to_messages': 8305, 'bonus': 3100000, 'restricted_stock': 466101, 'expenses': 5774, 'deferral_payments': 'NaN', 'email_address': 'louise.kitchen@enron.com'}\n",
      "LEFF DANIEL P {'poi': False, 'director_fees': 'NaN', 'long_term_incentive': 1387399, 'exercised_stock_options': 'NaN', 'from_poi_to_this_person': 67, 'other': 3083, 'restricted_stock_deferred': 'NaN', 'from_this_person_to_poi': 14, 'salary': 273746, 'total_payments': 2664228, 'from_messages': 63, 'shared_receipt_with_poi': 2672, 'loan_advances': 'NaN', 'total_stock_value': 360528, 'deferred_income': 'NaN', 'to_messages': 2822, 'bonus': 1000000, 'restricted_stock': 360528, 'expenses': 'NaN', 'deferral_payments': 'NaN', 'email_address': 'dan.leff@enron.com'}\n",
      "BUY RICHARD B {'poi': False, 'director_fees': 'NaN', 'long_term_incentive': 769862, 'exercised_stock_options': 2542813, 'from_poi_to_this_person': 156, 'other': 400572, 'restricted_stock_deferred': 'NaN', 'from_this_person_to_poi': 71, 'salary': 330546, 'total_payments': 2355702, 'from_messages': 1053, 'shared_receipt_with_poi': 2333, 'loan_advances': 'NaN', 'total_stock_value': 3444470, 'deferred_income': -694862, 'to_messages': 3523, 'bonus': 900000, 'restricted_stock': 901657, 'expenses': 'NaN', 'deferral_payments': 649584, 'email_address': 'rick.buy@enron.com'}\n",
      "STABLER FRANK {'poi': False, 'director_fees': 'NaN', 'long_term_incentive': 'NaN', 'exercised_stock_options': 'NaN', 'from_poi_to_this_person': 'NaN', 'other': 356071, 'restricted_stock_deferred': 'NaN', 'from_this_person_to_poi': 'NaN', 'salary': 239502, 'total_payments': 1112087, 'from_messages': 'NaN', 'shared_receipt_with_poi': 'NaN', 'loan_advances': 'NaN', 'total_stock_value': 511734, 'deferred_income': 'NaN', 'to_messages': 'NaN', 'bonus': 500000, 'restricted_stock': 511734, 'expenses': 16514, 'deferral_payments': 'NaN', 'email_address': 'frank.stabler@enron.com'}\n",
      "SHERRICK JEFFREY B {'poi': False, 'director_fees': 'NaN', 'long_term_incentive': 'NaN', 'exercised_stock_options': 1426469, 'from_poi_to_this_person': 39, 'other': 'NaN', 'restricted_stock_deferred': 'NaN', 'from_this_person_to_poi': 18, 'salary': 'NaN', 'total_payments': 'NaN', 'from_messages': 25, 'shared_receipt_with_poi': 583, 'loan_advances': 'NaN', 'total_stock_value': 1832468, 'deferred_income': 'NaN', 'to_messages': 613, 'bonus': 'NaN', 'restricted_stock': 405999, 'expenses': 'NaN', 'deferral_payments': 'NaN', 'email_address': 'jeffrey.sherrick@enron.com'}\n",
      "HORTON STANLEY C {'poi': False, 'director_fees': 'NaN', 'long_term_incentive': 'NaN', 'exercised_stock_options': 5210569, 'from_poi_to_this_person': 44, 'other': 'NaN', 'restricted_stock_deferred': 'NaN', 'from_this_person_to_poi': 15, 'salary': 'NaN', 'total_payments': 3131860, 'from_messages': 1073, 'shared_receipt_with_poi': 1074, 'loan_advances': 'NaN', 'total_stock_value': 7256648, 'deferred_income': 'NaN', 'to_messages': 2350, 'bonus': 'NaN', 'restricted_stock': 2046079, 'expenses': 'NaN', 'deferral_payments': 3131860, 'email_address': 'stanley.horton@enron.com'}\n",
      "DODSON KEITH {'poi': False, 'director_fees': 'NaN', 'long_term_incentive': 'NaN', 'exercised_stock_options': 'NaN', 'from_poi_to_this_person': 10, 'other': 774, 'restricted_stock_deferred': 'NaN', 'from_this_person_to_poi': 3, 'salary': 221003, 'total_payments': 319941, 'from_messages': 14, 'shared_receipt_with_poi': 114, 'loan_advances': 'NaN', 'total_stock_value': 'NaN', 'deferred_income': 'NaN', 'to_messages': 176, 'bonus': 70000, 'restricted_stock': 'NaN', 'expenses': 28164, 'deferral_payments': 'NaN', 'email_address': 'keith.dodson@enron.com'}\n",
      "BAXTER JOHN C {'poi': False, 'director_fees': 'NaN', 'long_term_incentive': 1586055, 'exercised_stock_options': 6680544, 'from_poi_to_this_person': 'NaN', 'other': 2660303, 'restricted_stock_deferred': 'NaN', 'from_this_person_to_poi': 'NaN', 'salary': 267102, 'total_payments': 5634343, 'from_messages': 'NaN', 'shared_receipt_with_poi': 'NaN', 'loan_advances': 'NaN', 'total_stock_value': 10623258, 'deferred_income': -1386055, 'to_messages': 'NaN', 'bonus': 1200000, 'restricted_stock': 3942714, 'expenses': 11200, 'deferral_payments': 1295738, 'email_address': 'NaN'}\n",
      "PRENTICE JAMES {'poi': False, 'director_fees': 'NaN', 'long_term_incentive': 'NaN', 'exercised_stock_options': 886231, 'from_poi_to_this_person': 'NaN', 'other': 'NaN', 'restricted_stock_deferred': 'NaN', 'from_this_person_to_poi': 'NaN', 'salary': 'NaN', 'total_payments': 564348, 'from_messages': 'NaN', 'shared_receipt_with_poi': 'NaN', 'loan_advances': 'NaN', 'total_stock_value': 1095040, 'deferred_income': 'NaN', 'to_messages': 'NaN', 'bonus': 'NaN', 'restricted_stock': 208809, 'expenses': 'NaN', 'deferral_payments': 564348, 'email_address': 'james.prentice@enron.com'}\n",
      "YEAGER F SCOTT {'poi': True, 'director_fees': 'NaN', 'long_term_incentive': 'NaN', 'exercised_stock_options': 8308552, 'from_poi_to_this_person': 'NaN', 'other': 147950, 'restricted_stock_deferred': 'NaN', 'from_this_person_to_poi': 'NaN', 'salary': 158403, 'total_payments': 360300, 'from_messages': 'NaN', 'shared_receipt_with_poi': 'NaN', 'loan_advances': 'NaN', 'total_stock_value': 11884758, 'deferred_income': 'NaN', 'to_messages': 'NaN', 'bonus': 'NaN', 'restricted_stock': 3576206, 'expenses': 53947, 'deferral_payments': 'NaN', 'email_address': 'scott.yeager@enron.com'}\n",
      "MCCARTY DANNY J {'poi': False, 'director_fees': 'NaN', 'long_term_incentive': 'NaN', 'exercised_stock_options': 664375, 'from_poi_to_this_person': 25, 'other': 'NaN', 'restricted_stock_deferred': 'NaN', 'from_this_person_to_poi': 2, 'salary': 'NaN', 'total_payments': 'NaN', 'from_messages': 215, 'shared_receipt_with_poi': 508, 'loan_advances': 'NaN', 'total_stock_value': 758931, 'deferred_income': 'NaN', 'to_messages': 1433, 'bonus': 'NaN', 'restricted_stock': 94556, 'expenses': 'NaN', 'deferral_payments': 'NaN', 'email_address': 'danny.mccarty@enron.com'}\n",
      "COLWELL WESLEY {'poi': True, 'director_fees': 'NaN', 'long_term_incentive': 'NaN', 'exercised_stock_options': 'NaN', 'from_poi_to_this_person': 240, 'other': 101740, 'restricted_stock_deferred': 'NaN', 'from_this_person_to_poi': 11, 'salary': 288542, 'total_payments': 1490344, 'from_messages': 40, 'shared_receipt_with_poi': 1132, 'loan_advances': 'NaN', 'total_stock_value': 698242, 'deferred_income': -144062, 'to_messages': 1758, 'bonus': 1200000, 'restricted_stock': 698242, 'expenses': 16514, 'deferral_payments': 27610, 'email_address': 'wes.colwell@enron.com'}\n",
      "PICKERING MARK R {'poi': False, 'director_fees': 'NaN', 'long_term_incentive': 'NaN', 'exercised_stock_options': 28798, 'from_poi_to_this_person': 7, 'other': 'NaN', 'restricted_stock_deferred': 'NaN', 'from_this_person_to_poi': 0, 'salary': 655037, 'total_payments': 1386690, 'from_messages': 67, 'shared_receipt_with_poi': 728, 'loan_advances': 400000, 'total_stock_value': 28798, 'deferred_income': 'NaN', 'to_messages': 898, 'bonus': 300000, 'restricted_stock': 'NaN', 'expenses': 31653, 'deferral_payments': 'NaN', 'email_address': 'mark.pickering@enron.com'}\n",
      "SHANKMAN JEFFREY A {'poi': False, 'director_fees': 'NaN', 'long_term_incentive': 554422, 'exercised_stock_options': 1441898, 'from_poi_to_this_person': 94, 'other': 1191, 'restricted_stock_deferred': 'NaN', 'from_this_person_to_poi': 83, 'salary': 304110, 'total_payments': 3038702, 'from_messages': 2681, 'shared_receipt_with_poi': 1730, 'loan_advances': 'NaN', 'total_stock_value': 2072035, 'deferred_income': 'NaN', 'to_messages': 3221, 'bonus': 2000000, 'restricted_stock': 630137, 'expenses': 178979, 'deferral_payments': 'NaN', 'email_address': 'jeffrey.shankman@enron.com'}\n",
      "ELLIOTT STEVEN {'poi': False, 'director_fees': 'NaN', 'long_term_incentive': 'NaN', 'exercised_stock_options': 4890344, 'from_poi_to_this_person': 'NaN', 'other': 12961, 'restricted_stock_deferred': 'NaN', 'from_this_person_to_poi': 'NaN', 'salary': 170941, 'total_payments': 211725, 'from_messages': 'NaN', 'shared_receipt_with_poi': 'NaN', 'loan_advances': 'NaN', 'total_stock_value': 6678735, 'deferred_income': -400729, 'to_messages': 'NaN', 'bonus': 350000, 'restricted_stock': 1788391, 'expenses': 78552, 'deferral_payments': 'NaN', 'email_address': 'steven.elliott@enron.com'}\n",
      "KEAN STEVEN J {'poi': False, 'director_fees': 'NaN', 'long_term_incentive': 300000, 'exercised_stock_options': 2022048, 'from_poi_to_this_person': 140, 'other': 1231, 'restricted_stock_deferred': 'NaN', 'from_this_person_to_poi': 387, 'salary': 404338, 'total_payments': 1747522, 'from_messages': 6759, 'shared_receipt_with_poi': 3639, 'loan_advances': 'NaN', 'total_stock_value': 6153642, 'deferred_income': 'NaN', 'to_messages': 12754, 'bonus': 1000000, 'restricted_stock': 4131594, 'expenses': 41953, 'deferral_payments': 'NaN', 'email_address': 'steven.kean@enron.com'}\n",
      "LEWIS RICHARD {'poi': False, 'director_fees': 'NaN', 'long_term_incentive': 'NaN', 'exercised_stock_options': 850477, 'from_poi_to_this_person': 10, 'other': 'NaN', 'restricted_stock_deferred': 'NaN', 'from_this_person_to_poi': 0, 'salary': 'NaN', 'total_payments': 'NaN', 'from_messages': 26, 'shared_receipt_with_poi': 739, 'loan_advances': 'NaN', 'total_stock_value': 850477, 'deferred_income': 'NaN', 'to_messages': 952, 'bonus': 'NaN', 'restricted_stock': 'NaN', 'expenses': 'NaN', 'deferral_payments': 'NaN', 'email_address': 'richard.lewis@enron.com'}\n",
      "PAI LOU L {'poi': False, 'director_fees': 'NaN', 'long_term_incentive': 'NaN', 'exercised_stock_options': 15364167, 'from_poi_to_this_person': 'NaN', 'other': 1829457, 'restricted_stock_deferred': 'NaN', 'from_this_person_to_poi': 'NaN', 'salary': 261879, 'total_payments': 3123383, 'from_messages': 'NaN', 'shared_receipt_with_poi': 'NaN', 'loan_advances': 'NaN', 'total_stock_value': 23817930, 'deferred_income': 'NaN', 'to_messages': 'NaN', 'bonus': 1000000, 'restricted_stock': 8453763, 'expenses': 32047, 'deferral_payments': 'NaN', 'email_address': 'lou.pai@enron.com'}\n",
      "GLISAN JR BEN F {'poi': True, 'director_fees': 'NaN', 'long_term_incentive': 71023, 'exercised_stock_options': 384728, 'from_poi_to_this_person': 52, 'other': 200308, 'restricted_stock_deferred': 'NaN', 'from_this_person_to_poi': 6, 'salary': 274975, 'total_payments': 1272284, 'from_messages': 16, 'shared_receipt_with_poi': 874, 'loan_advances': 'NaN', 'total_stock_value': 778546, 'deferred_income': 'NaN', 'to_messages': 873, 'bonus': 600000, 'restricted_stock': 393818, 'expenses': 125978, 'deferral_payments': 'NaN', 'email_address': 'ben.glisan@enron.com'}\n",
      "DERRICK JR. JAMES V {'poi': False, 'director_fees': 'NaN', 'long_term_incentive': 484000, 'exercised_stock_options': 8831913, 'from_poi_to_this_person': 64, 'other': 7482, 'restricted_stock_deferred': -1787380, 'from_this_person_to_poi': 20, 'salary': 492375, 'total_payments': 550981, 'from_messages': 909, 'shared_receipt_with_poi': 1401, 'loan_advances': 'NaN', 'total_stock_value': 8831913, 'deferred_income': -1284000, 'to_messages': 2181, 'bonus': 800000, 'restricted_stock': 1787380, 'expenses': 51124, 'deferral_payments': 'NaN', 'email_address': 'james.derrick@enron.com'}\n",
      "FOY JOE {'poi': False, 'director_fees': 'NaN', 'long_term_incentive': 'NaN', 'exercised_stock_options': 343434, 'from_poi_to_this_person': 0, 'other': 'NaN', 'restricted_stock_deferred': 'NaN', 'from_this_person_to_poi': 0, 'salary': 'NaN', 'total_payments': 181755, 'from_messages': 13, 'shared_receipt_with_poi': 2, 'loan_advances': 'NaN', 'total_stock_value': 343434, 'deferred_income': 'NaN', 'to_messages': 57, 'bonus': 'NaN', 'restricted_stock': 'NaN', 'expenses': 'NaN', 'deferral_payments': 181755, 'email_address': 'tracy.foy@enron.com'}\n",
      "GRAY RODNEY {'poi': False, 'director_fees': 'NaN', 'long_term_incentive': 365625, 'exercised_stock_options': 'NaN', 'from_poi_to_this_person': 'NaN', 'other': 680833, 'restricted_stock_deferred': 'NaN', 'from_this_person_to_poi': 'NaN', 'salary': 6615, 'total_payments': 1146658, 'from_messages': 'NaN', 'shared_receipt_with_poi': 'NaN', 'loan_advances': 'NaN', 'total_stock_value': 'NaN', 'deferred_income': 'NaN', 'to_messages': 'NaN', 'bonus': 'NaN', 'restricted_stock': 'NaN', 'expenses': 'NaN', 'deferral_payments': 93585, 'email_address': 'NaN'}\n",
      "MORDAUNT KRISTINA M {'poi': False, 'director_fees': 'NaN', 'long_term_incentive': 'NaN', 'exercised_stock_options': 'NaN', 'from_poi_to_this_person': 'NaN', 'other': 1411, 'restricted_stock_deferred': 'NaN', 'from_this_person_to_poi': 'NaN', 'salary': 267093, 'total_payments': 628522, 'from_messages': 'NaN', 'shared_receipt_with_poi': 'NaN', 'loan_advances': 'NaN', 'total_stock_value': 208510, 'deferred_income': 'NaN', 'to_messages': 'NaN', 'bonus': 325000, 'restricted_stock': 208510, 'expenses': 35018, 'deferral_payments': 'NaN', 'email_address': 'kristina.mordaunt@enron.com'}\n",
      "MCMAHON JEFFREY {'poi': False, 'director_fees': 'NaN', 'long_term_incentive': 694862, 'exercised_stock_options': 1104054, 'from_poi_to_this_person': 58, 'other': 297353, 'restricted_stock_deferred': 'NaN', 'from_this_person_to_poi': 26, 'salary': 370448, 'total_payments': 4099771, 'from_messages': 48, 'shared_receipt_with_poi': 2228, 'loan_advances': 'NaN', 'total_stock_value': 1662855, 'deferred_income': 'NaN', 'to_messages': 2355, 'bonus': 2600000, 'restricted_stock': 558801, 'expenses': 137108, 'deferral_payments': 'NaN', 'email_address': 'jeffrey.mcmahon@enron.com'}\n",
      "BECK SALLY W {'poi': False, 'director_fees': 'NaN', 'long_term_incentive': 'NaN', 'exercised_stock_options': 'NaN', 'from_poi_to_this_person': 144, 'other': 566, 'restricted_stock_deferred': 'NaN', 'from_this_person_to_poi': 386, 'salary': 231330, 'total_payments': 969068, 'from_messages': 4343, 'shared_receipt_with_poi': 2639, 'loan_advances': 'NaN', 'total_stock_value': 126027, 'deferred_income': 'NaN', 'to_messages': 7315, 'bonus': 700000, 'restricted_stock': 126027, 'expenses': 37172, 'deferral_payments': 'NaN', 'email_address': 'sally.beck@enron.com'}\n",
      "MULLER MARK S {'poi': False, 'director_fees': 'NaN', 'long_term_incentive': 1725545, 'exercised_stock_options': 1056320, 'from_poi_to_this_person': 12, 'other': 947, 'restricted_stock_deferred': 'NaN', 'from_this_person_to_poi': 0, 'salary': 251654, 'total_payments': 3202070, 'from_messages': 16, 'shared_receipt_with_poi': 114, 'loan_advances': 'NaN', 'total_stock_value': 1416848, 'deferred_income': -719000, 'to_messages': 136, 'bonus': 1100000, 'restricted_stock': 360528, 'expenses': 'NaN', 'deferral_payments': 842924, 'email_address': 's..muller@enron.com'}\n",
      "BLAKE JR. NORMAN P {'poi': False, 'director_fees': 113784, 'long_term_incentive': 'NaN', 'exercised_stock_options': 'NaN', 'from_poi_to_this_person': 'NaN', 'other': 'NaN', 'restricted_stock_deferred': 'NaN', 'from_this_person_to_poi': 'NaN', 'salary': 'NaN', 'total_payments': 1279, 'from_messages': 'NaN', 'shared_receipt_with_poi': 'NaN', 'loan_advances': 'NaN', 'total_stock_value': 'NaN', 'deferred_income': -113784, 'to_messages': 'NaN', 'bonus': 'NaN', 'restricted_stock': 'NaN', 'expenses': 1279, 'deferral_payments': 'NaN', 'email_address': 'NaN'}\n",
      "TAYLOR MITCHELL S {'poi': False, 'director_fees': 'NaN', 'long_term_incentive': 'NaN', 'exercised_stock_options': 3181250, 'from_poi_to_this_person': 0, 'other': 'NaN', 'restricted_stock_deferred': 'NaN', 'from_this_person_to_poi': 0, 'salary': 265214, 'total_payments': 1092663, 'from_messages': 29, 'shared_receipt_with_poi': 300, 'loan_advances': 'NaN', 'total_stock_value': 3745048, 'deferred_income': 'NaN', 'to_messages': 533, 'bonus': 600000, 'restricted_stock': 563798, 'expenses': 'NaN', 'deferral_payments': 227449, 'email_address': 'mitchell.taylor@enron.com'}\n",
      "BIBI PHILIPPE A {'poi': False, 'director_fees': 'NaN', 'long_term_incentive': 369721, 'exercised_stock_options': 1465734, 'from_poi_to_this_person': 23, 'other': 425688, 'restricted_stock_deferred': 'NaN', 'from_this_person_to_poi': 8, 'salary': 213625, 'total_payments': 2047593, 'from_messages': 40, 'shared_receipt_with_poi': 1336, 'loan_advances': 'NaN', 'total_stock_value': 1843816, 'deferred_income': 'NaN', 'to_messages': 1607, 'bonus': 1000000, 'restricted_stock': 378082, 'expenses': 38559, 'deferral_payments': 'NaN', 'email_address': 'philippe.bibi@enron.com'}\n",
      "BROWN MICHAEL {'poi': False, 'director_fees': 'NaN', 'long_term_incentive': 'NaN', 'exercised_stock_options': 'NaN', 'from_poi_to_this_person': 13, 'other': 'NaN', 'restricted_stock_deferred': 'NaN', 'from_this_person_to_poi': 1, 'salary': 'NaN', 'total_payments': 49288, 'from_messages': 41, 'shared_receipt_with_poi': 761, 'loan_advances': 'NaN', 'total_stock_value': 'NaN', 'deferred_income': 'NaN', 'to_messages': 1486, 'bonus': 'NaN', 'restricted_stock': 'NaN', 'expenses': 49288, 'deferral_payments': 'NaN', 'email_address': 'michael.brown@enron.com'}\n",
      "BAZELIDES PHILIP J {'poi': False, 'director_fees': 'NaN', 'long_term_incentive': 93750, 'exercised_stock_options': 1599641, 'from_poi_to_this_person': 'NaN', 'other': 874, 'restricted_stock_deferred': 'NaN', 'from_this_person_to_poi': 'NaN', 'salary': 80818, 'total_payments': 860136, 'from_messages': 'NaN', 'shared_receipt_with_poi': 'NaN', 'loan_advances': 'NaN', 'total_stock_value': 1599641, 'deferred_income': 'NaN', 'to_messages': 'NaN', 'bonus': 'NaN', 'restricted_stock': 'NaN', 'expenses': 'NaN', 'deferral_payments': 684694, 'email_address': 'NaN'}\n",
      "KOENIG MARK E {'poi': True, 'director_fees': 'NaN', 'long_term_incentive': 300000, 'exercised_stock_options': 671737, 'from_poi_to_this_person': 53, 'other': 150458, 'restricted_stock_deferred': 'NaN', 'from_this_person_to_poi': 15, 'salary': 309946, 'total_payments': 1587421, 'from_messages': 61, 'shared_receipt_with_poi': 2271, 'loan_advances': 'NaN', 'total_stock_value': 1920055, 'deferred_income': 'NaN', 'to_messages': 2374, 'bonus': 700000, 'restricted_stock': 1248318, 'expenses': 127017, 'deferral_payments': 'NaN', 'email_address': 'mark.koenig@enron.com'}\n",
      "GAHN ROBERT S {'poi': False, 'director_fees': 'NaN', 'long_term_incentive': 'NaN', 'exercised_stock_options': 83237, 'from_poi_to_this_person': 'NaN', 'other': 76547, 'restricted_stock_deferred': 'NaN', 'from_this_person_to_poi': 'NaN', 'salary': 192008, 'total_payments': 900585, 'from_messages': 'NaN', 'shared_receipt_with_poi': 'NaN', 'loan_advances': 'NaN', 'total_stock_value': 318607, 'deferred_income': -1042, 'to_messages': 'NaN', 'bonus': 509870, 'restricted_stock': 235370, 'expenses': 50080, 'deferral_payments': 73122, 'email_address': 'NaN'}\n",
      "WESTFAHL RICHARD K {'poi': False, 'director_fees': 'NaN', 'long_term_incentive': 256191, 'exercised_stock_options': 'NaN', 'from_poi_to_this_person': 'NaN', 'other': 401130, 'restricted_stock_deferred': 'NaN', 'from_this_person_to_poi': 'NaN', 'salary': 63744, 'total_payments': 762135, 'from_messages': 'NaN', 'shared_receipt_with_poi': 'NaN', 'loan_advances': 'NaN', 'total_stock_value': 384930, 'deferred_income': -10800, 'to_messages': 'NaN', 'bonus': 'NaN', 'restricted_stock': 384930, 'expenses': 51870, 'deferral_payments': 'NaN', 'email_address': 'dick.westfahl@enron.com'}\n",
      "DEFFNER JOSEPH M {'poi': False, 'director_fees': 'NaN', 'long_term_incentive': 335349, 'exercised_stock_options': 17378, 'from_poi_to_this_person': 115, 'other': 25553, 'restricted_stock_deferred': 'NaN', 'from_this_person_to_poi': 4, 'salary': 206121, 'total_payments': 1208649, 'from_messages': 74, 'shared_receipt_with_poi': 552, 'loan_advances': 'NaN', 'total_stock_value': 159211, 'deferred_income': 'NaN', 'to_messages': 714, 'bonus': 600000, 'restricted_stock': 141833, 'expenses': 41626, 'deferral_payments': 'NaN', 'email_address': 'joseph.deffner@enron.com'}\n",
      "WALTERS GARETH W {'poi': False, 'director_fees': 'NaN', 'long_term_incentive': 'NaN', 'exercised_stock_options': 1030329, 'from_poi_to_this_person': 'NaN', 'other': 'NaN', 'restricted_stock_deferred': 'NaN', 'from_this_person_to_poi': 'NaN', 'salary': 'NaN', 'total_payments': 87410, 'from_messages': 'NaN', 'shared_receipt_with_poi': 'NaN', 'loan_advances': 'NaN', 'total_stock_value': 1030329, 'deferred_income': 'NaN', 'to_messages': 'NaN', 'bonus': 'NaN', 'restricted_stock': 'NaN', 'expenses': 33785, 'deferral_payments': 53625, 'email_address': 'NaN'}\n",
      "PEREIRA PAULO V. FERRAZ {'poi': False, 'director_fees': 101250, 'long_term_incentive': 'NaN', 'exercised_stock_options': 'NaN', 'from_poi_to_this_person': 'NaN', 'other': 'NaN', 'restricted_stock_deferred': 'NaN', 'from_this_person_to_poi': 'NaN', 'salary': 'NaN', 'total_payments': 27942, 'from_messages': 'NaN', 'shared_receipt_with_poi': 'NaN', 'loan_advances': 'NaN', 'total_stock_value': 'NaN', 'deferred_income': -101250, 'to_messages': 'NaN', 'bonus': 'NaN', 'restricted_stock': 'NaN', 'expenses': 27942, 'deferral_payments': 'NaN', 'email_address': 'NaN'}\n",
      "CHAN RONNIE {'poi': False, 'director_fees': 98784, 'long_term_incentive': 'NaN', 'exercised_stock_options': 'NaN', 'from_poi_to_this_person': 'NaN', 'other': 'NaN', 'restricted_stock_deferred': -32460, 'from_this_person_to_poi': 'NaN', 'salary': 'NaN', 'total_payments': 'NaN', 'from_messages': 'NaN', 'shared_receipt_with_poi': 'NaN', 'loan_advances': 'NaN', 'total_stock_value': 'NaN', 'deferred_income': -98784, 'to_messages': 'NaN', 'bonus': 'NaN', 'restricted_stock': 32460, 'expenses': 'NaN', 'deferral_payments': 'NaN', 'email_address': 'NaN'}\n",
      "SCRIMSHAW MATTHEW {'poi': False, 'director_fees': 'NaN', 'long_term_incentive': 'NaN', 'exercised_stock_options': 759557, 'from_poi_to_this_person': 'NaN', 'other': 'NaN', 'restricted_stock_deferred': 'NaN', 'from_this_person_to_poi': 'NaN', 'salary': 'NaN', 'total_payments': 'NaN', 'from_messages': 'NaN', 'shared_receipt_with_poi': 'NaN', 'loan_advances': 'NaN', 'total_stock_value': 759557, 'deferred_income': 'NaN', 'to_messages': 'NaN', 'bonus': 'NaN', 'restricted_stock': 'NaN', 'expenses': 'NaN', 'deferral_payments': 'NaN', 'email_address': 'matthew.scrimshaw@enron.com'}\n",
      "LOCKHART EUGENE E {'poi': False, 'director_fees': 'NaN', 'long_term_incentive': 'NaN', 'exercised_stock_options': 'NaN', 'from_poi_to_this_person': 'NaN', 'other': 'NaN', 'restricted_stock_deferred': 'NaN', 'from_this_person_to_poi': 'NaN', 'salary': 'NaN', 'total_payments': 'NaN', 'from_messages': 'NaN', 'shared_receipt_with_poi': 'NaN', 'loan_advances': 'NaN', 'total_stock_value': 'NaN', 'deferred_income': 'NaN', 'to_messages': 'NaN', 'bonus': 'NaN', 'restricted_stock': 'NaN', 'expenses': 'NaN', 'deferral_payments': 'NaN', 'email_address': 'NaN'}\n",
      "BLACHMAN JEREMY M {'poi': False, 'director_fees': 'NaN', 'long_term_incentive': 831809, 'exercised_stock_options': 765313, 'from_poi_to_this_person': 25, 'other': 272, 'restricted_stock_deferred': 'NaN', 'from_this_person_to_poi': 2, 'salary': 248546, 'total_payments': 2014835, 'from_messages': 14, 'shared_receipt_with_poi': 2326, 'loan_advances': 'NaN', 'total_stock_value': 954354, 'deferred_income': 'NaN', 'to_messages': 2475, 'bonus': 850000, 'restricted_stock': 189041, 'expenses': 84208, 'deferral_payments': 'NaN', 'email_address': 'jeremy.blachman@enron.com'}\n",
      "SHERRIFF JOHN R {'poi': False, 'director_fees': 'NaN', 'long_term_incentive': 554422, 'exercised_stock_options': 1835558, 'from_poi_to_this_person': 28, 'other': 1852186, 'restricted_stock_deferred': 'NaN', 'from_this_person_to_poi': 23, 'salary': 428780, 'total_payments': 4335388, 'from_messages': 92, 'shared_receipt_with_poi': 2103, 'loan_advances': 'NaN', 'total_stock_value': 3128982, 'deferred_income': 'NaN', 'to_messages': 3187, 'bonus': 1500000, 'restricted_stock': 1293424, 'expenses': 'NaN', 'deferral_payments': 'NaN', 'email_address': 'john.sherriff@enron.com'}\n",
      "REYNOLDS LAWRENCE {'poi': False, 'director_fees': 'NaN', 'long_term_incentive': 156250, 'exercised_stock_options': 4160672, 'from_poi_to_this_person': 'NaN', 'other': 202052, 'restricted_stock_deferred': -140264, 'from_this_person_to_poi': 'NaN', 'salary': 76399, 'total_payments': 394475, 'from_messages': 'NaN', 'shared_receipt_with_poi': 'NaN', 'loan_advances': 'NaN', 'total_stock_value': 4221891, 'deferred_income': -200000, 'to_messages': 'NaN', 'bonus': 100000, 'restricted_stock': 201483, 'expenses': 8409, 'deferral_payments': 51365, 'email_address': 'NaN'}\n",
      "LEMAISTRE CHARLES {'poi': False, 'director_fees': 112492, 'long_term_incentive': 'NaN', 'exercised_stock_options': 412878, 'from_poi_to_this_person': 'NaN', 'other': 'NaN', 'restricted_stock_deferred': 'NaN', 'from_this_person_to_poi': 'NaN', 'salary': 'NaN', 'total_payments': 87492, 'from_messages': 'NaN', 'shared_receipt_with_poi': 'NaN', 'loan_advances': 'NaN', 'total_stock_value': 412878, 'deferred_income': -25000, 'to_messages': 'NaN', 'bonus': 'NaN', 'restricted_stock': 'NaN', 'expenses': 'NaN', 'deferral_payments': 'NaN', 'email_address': 'NaN'}\n",
      "MCDONALD REBECCA {'poi': False, 'director_fees': 'NaN', 'long_term_incentive': 'NaN', 'exercised_stock_options': 757301, 'from_poi_to_this_person': 54, 'other': 'NaN', 'restricted_stock_deferred': 'NaN', 'from_this_person_to_poi': 1, 'salary': 'NaN', 'total_payments': 'NaN', 'from_messages': 13, 'shared_receipt_with_poi': 720, 'loan_advances': 'NaN', 'total_stock_value': 1691366, 'deferred_income': 'NaN', 'to_messages': 894, 'bonus': 'NaN', 'restricted_stock': 934065, 'expenses': 'NaN', 'deferral_payments': 'NaN', 'email_address': 'rebecca.mcdonald@enron.com'}\n",
      "RICE KENNETH D {'poi': True, 'director_fees': 'NaN', 'long_term_incentive': 1617011, 'exercised_stock_options': 19794175, 'from_poi_to_this_person': 42, 'other': 174839, 'restricted_stock_deferred': 'NaN', 'from_this_person_to_poi': 4, 'salary': 420636, 'total_payments': 505050, 'from_messages': 18, 'shared_receipt_with_poi': 864, 'loan_advances': 'NaN', 'total_stock_value': 22542539, 'deferred_income': -3504386, 'to_messages': 905, 'bonus': 1750000, 'restricted_stock': 2748364, 'expenses': 46950, 'deferral_payments': 'NaN', 'email_address': 'ken.rice@enron.com'}\n",
      "HAYSLETT RODERICK J {'poi': False, 'director_fees': 'NaN', 'long_term_incentive': 'NaN', 'exercised_stock_options': 'NaN', 'from_poi_to_this_person': 35, 'other': 'NaN', 'restricted_stock_deferred': 'NaN', 'from_this_person_to_poi': 38, 'salary': 'NaN', 'total_payments': 'NaN', 'from_messages': 1061, 'shared_receipt_with_poi': 571, 'loan_advances': 'NaN', 'total_stock_value': 346663, 'deferred_income': 'NaN', 'to_messages': 2649, 'bonus': 'NaN', 'restricted_stock': 346663, 'expenses': 'NaN', 'deferral_payments': 'NaN', 'email_address': 'rod.hayslett@enron.com'}\n",
      "HUMPHREY GENE E {'poi': False, 'director_fees': 'NaN', 'long_term_incentive': 'NaN', 'exercised_stock_options': 2282768, 'from_poi_to_this_person': 10, 'other': 'NaN', 'restricted_stock_deferred': 'NaN', 'from_this_person_to_poi': 17, 'salary': 130724, 'total_payments': 3100224, 'from_messages': 17, 'shared_receipt_with_poi': 119, 'loan_advances': 'NaN', 'total_stock_value': 2282768, 'deferred_income': 'NaN', 'to_messages': 128, 'bonus': 'NaN', 'restricted_stock': 'NaN', 'expenses': 4994, 'deferral_payments': 2964506, 'email_address': 'gene.humphrey@enron.com'}\n",
      "SULLIVAN-SHAKLOVITZ COLLEEN {'poi': False, 'director_fees': 'NaN', 'long_term_incentive': 554422, 'exercised_stock_options': 1362375, 'from_poi_to_this_person': 'NaN', 'other': 162, 'restricted_stock_deferred': 'NaN', 'from_this_person_to_poi': 'NaN', 'salary': 162779, 'total_payments': 999356, 'from_messages': 'NaN', 'shared_receipt_with_poi': 'NaN', 'loan_advances': 'NaN', 'total_stock_value': 1362375, 'deferred_income': 'NaN', 'to_messages': 'NaN', 'bonus': 100000, 'restricted_stock': 'NaN', 'expenses': 'NaN', 'deferral_payments': 181993, 'email_address': 'NaN'}\n",
      "FALLON JAMES B {'poi': False, 'director_fees': 'NaN', 'long_term_incentive': 374347, 'exercised_stock_options': 940257, 'from_poi_to_this_person': 42, 'other': 401481, 'restricted_stock_deferred': 'NaN', 'from_this_person_to_poi': 37, 'salary': 304588, 'total_payments': 3676340, 'from_messages': 75, 'shared_receipt_with_poi': 1604, 'loan_advances': 'NaN', 'total_stock_value': 2332399, 'deferred_income': 'NaN', 'to_messages': 1755, 'bonus': 2500000, 'restricted_stock': 1392142, 'expenses': 95924, 'deferral_payments': 'NaN', 'email_address': 'jim.fallon@enron.com'}\n",
      "POWERS WILLIAM {'poi': False, 'director_fees': 17500, 'long_term_incentive': 'NaN', 'exercised_stock_options': 'NaN', 'from_poi_to_this_person': 0, 'other': 'NaN', 'restricted_stock_deferred': 'NaN', 'from_this_person_to_poi': 0, 'salary': 'NaN', 'total_payments': 'NaN', 'from_messages': 26, 'shared_receipt_with_poi': 12, 'loan_advances': 'NaN', 'total_stock_value': 'NaN', 'deferred_income': -17500, 'to_messages': 653, 'bonus': 'NaN', 'restricted_stock': 'NaN', 'expenses': 'NaN', 'deferral_payments': 'NaN', 'email_address': 'ken.powers@enron.com'}\n",
      "RIEKER PAULA H {'poi': True, 'director_fees': 'NaN', 'long_term_incentive': 'NaN', 'exercised_stock_options': 1635238, 'from_poi_to_this_person': 35, 'other': 1950, 'restricted_stock_deferred': 'NaN', 'from_this_person_to_poi': 48, 'salary': 249201, 'total_payments': 1099100, 'from_messages': 82, 'shared_receipt_with_poi': 1258, 'loan_advances': 'NaN', 'total_stock_value': 1918887, 'deferred_income': -100000, 'to_messages': 1328, 'bonus': 700000, 'restricted_stock': 283649, 'expenses': 33271, 'deferral_payments': 214678, 'email_address': 'paula.rieker@enron.com'}\n",
      "WINOKUR JR. HERBERT S {'poi': False, 'director_fees': 108579, 'long_term_incentive': 'NaN', 'exercised_stock_options': 'NaN', 'from_poi_to_this_person': 'NaN', 'other': 'NaN', 'restricted_stock_deferred': 'NaN', 'from_this_person_to_poi': 'NaN', 'salary': 'NaN', 'total_payments': 84992, 'from_messages': 'NaN', 'shared_receipt_with_poi': 'NaN', 'loan_advances': 'NaN', 'total_stock_value': 'NaN', 'deferred_income': -25000, 'to_messages': 'NaN', 'bonus': 'NaN', 'restricted_stock': 'NaN', 'expenses': 1413, 'deferral_payments': 'NaN', 'email_address': 'NaN'}\n",
      "PIRO JIM {'poi': False, 'director_fees': 'NaN', 'long_term_incentive': 'NaN', 'exercised_stock_options': 'NaN', 'from_poi_to_this_person': 0, 'other': 'NaN', 'restricted_stock_deferred': 'NaN', 'from_this_person_to_poi': 1, 'salary': 'NaN', 'total_payments': 'NaN', 'from_messages': 16, 'shared_receipt_with_poi': 3, 'loan_advances': 'NaN', 'total_stock_value': 47304, 'deferred_income': 'NaN', 'to_messages': 58, 'bonus': 'NaN', 'restricted_stock': 47304, 'expenses': 'NaN', 'deferral_payments': 'NaN', 'email_address': 'jim.piro@enron.com'}\n",
      "KISHKILL JOSEPH G {'poi': False, 'director_fees': 'NaN', 'long_term_incentive': 'NaN', 'exercised_stock_options': 'NaN', 'from_poi_to_this_person': 'NaN', 'other': 465357, 'restricted_stock_deferred': 'NaN', 'from_this_person_to_poi': 'NaN', 'salary': 174246, 'total_payments': 704896, 'from_messages': 'NaN', 'shared_receipt_with_poi': 'NaN', 'loan_advances': 'NaN', 'total_stock_value': 1034346, 'deferred_income': -51042, 'to_messages': 'NaN', 'bonus': 'NaN', 'restricted_stock': 1034346, 'expenses': 116335, 'deferral_payments': 'NaN', 'email_address': 'joe.kishkill@enron.com'}\n",
      "OVERDYKE JR JERE C {'poi': False, 'director_fees': 'NaN', 'long_term_incentive': 135836, 'exercised_stock_options': 5266578, 'from_poi_to_this_person': 'NaN', 'other': 176, 'restricted_stock_deferred': 'NaN', 'from_this_person_to_poi': 'NaN', 'salary': 94941, 'total_payments': 249787, 'from_messages': 'NaN', 'shared_receipt_with_poi': 'NaN', 'loan_advances': 'NaN', 'total_stock_value': 7307594, 'deferred_income': 'NaN', 'to_messages': 'NaN', 'bonus': 'NaN', 'restricted_stock': 2041016, 'expenses': 18834, 'deferral_payments': 'NaN', 'email_address': 'jere.overdyke@enron.com'}\n",
      "DONAHUE JR JEFFREY M {'poi': False, 'director_fees': 'NaN', 'long_term_incentive': 'NaN', 'exercised_stock_options': 765920, 'from_poi_to_this_person': 188, 'other': 891, 'restricted_stock_deferred': 'NaN', 'from_this_person_to_poi': 11, 'salary': 278601, 'total_payments': 875760, 'from_messages': 22, 'shared_receipt_with_poi': 772, 'loan_advances': 'NaN', 'total_stock_value': 1080988, 'deferred_income': -300000, 'to_messages': 865, 'bonus': 800000, 'restricted_stock': 315068, 'expenses': 96268, 'deferral_payments': 'NaN', 'email_address': 'jeff.donahue@enron.com'}\n",
      "number of instance 146\n",
      "number of features 21\n"
     ]
    }
   ],
   "source": [
    "print(type(enron_data))\n",
    "for key, val in enron_data.items():\n",
    "    print(key, val)\n",
    "print(\"number of instance\",len(enron_data.keys()))\n",
    "print(\"number of features\",len(enron_data[\"SKILLING JEFFREY K\"].keys()))"
   ]
  },
  {
   "cell_type": "code",
   "execution_count": 60,
   "metadata": {},
   "outputs": [
    {
     "name": "stdout",
     "output_type": "stream",
     "text": [
      "number_of_POI:  18\n"
     ]
    }
   ],
   "source": [
    "number_of_POI =0\n",
    "for key, val in enron_data.items():\n",
    "    if val['poi'] == True:\n",
    "        number_of_POI +=1\n",
    "print(\"number_of_POI: \",number_of_POI)   "
   ]
  },
  {
   "cell_type": "code",
   "execution_count": 67,
   "metadata": {},
   "outputs": [
    {
     "name": "stdout",
     "output_type": "stream",
     "text": [
      "{'poi': False, 'director_fees': 'NaN', 'long_term_incentive': 'NaN', 'exercised_stock_options': 886231, 'from_poi_to_this_person': 'NaN', 'other': 'NaN', 'restricted_stock_deferred': 'NaN', 'from_this_person_to_poi': 'NaN', 'salary': 'NaN', 'total_payments': 564348, 'from_messages': 'NaN', 'shared_receipt_with_poi': 'NaN', 'loan_advances': 'NaN', 'total_stock_value': 1095040, 'deferred_income': 'NaN', 'to_messages': 'NaN', 'bonus': 'NaN', 'restricted_stock': 208809, 'expenses': 'NaN', 'deferral_payments': 564348, 'email_address': 'james.prentice@enron.com'}\n"
     ]
    }
   ],
   "source": [
    "print(enron_data['PRENTICE JAMES'])"
   ]
  },
  {
   "cell_type": "markdown",
   "metadata": {},
   "source": [
    "'poi':  WHETHER THIS PERSON IS POI\n",
    "'director_fees': 'NaN', \n",
    "'long_term_incentive': 'NaN', \n",
    "'exercised_stock_options': STOCK OPTIONS\n",
    "'from_poi_to_this_person': HOW MANY MESSENGE IS RECIEVED FROM POI TO THIS PERSON\n",
    "'other': 'NaN', \n",
    "'restricted_stock_deferred': 'NaN', \n",
    "'from_this_person_to_poi': HOW MANY MESSENGE IS SEND FROM THIS PERSON TO POI\n",
    "'salary': SALARY  \n",
    "'total_payments': TAKE THE HOME BACK\n",
    "'from_messages': 'NaN', \n",
    "'shared_receipt_with_poi': 'NaN', \n",
    "'loan_advances': 'NaN', \n",
    "'total_stock_value': TOTAL STOCK VALUE\n",
    "'deferred_income': 'NaN', \n",
    "'to_messages': 'NaN', \n",
    "'bonus': BONUS\n",
    "'restricted_stock': 208809, \n",
    "'expenses': 'NaN', \n",
    "'deferral_payments': 564348, \n",
    "'email_address': 'james.prentice@enron.com'\n"
   ]
  },
  {
   "cell_type": "markdown",
   "metadata": {},
   "source": [
    "A python dictionary can’t be read directly into an sklearn classification or regression algorithm; instead, it needs a numpy array or a list of lists (each element of the list (itself a list) is a data point, and the elements of the smaller list are the features of that point).\n",
    "\n",
    "We’ve written some helper functions (featureFormat() and targetFeatureSplit()) that can take a list of feature names and the data dictionary, and return a numpy array.\n",
    "\n",
    "In the case when a feature does not have a value for a particular person, this function will also replace the feature value with 0 (zero)."
   ]
  },
  {
   "cell_type": "code",
   "execution_count": 70,
   "metadata": {},
   "outputs": [
    {
     "name": "stdout",
     "output_type": "stream",
     "text": [
      "[  1.00000000e+00   2.24305000e+05   8.00000000e+05]\n"
     ]
    }
   ],
   "source": [
    "\"\"\" \n",
    "    A general tool for converting data from the dictionary format to an (n x k) python list\n",
    "    that's ready for training an sklearn algorithm\n",
    "\n",
    "    n--no. of key-value pairs in dictonary\n",
    "    k--no. of features being extracted\n",
    "\n",
    "    dictionary keys are names of persons in dataset, dictionary values are dictionaries\n",
    "    where each key-value pair in the dict is the name of a feature, and its value for that person\n",
    "\n",
    "    In addition to converting a dictionary to a numpy array, \n",
    "    you may want to separate the labels from the features\n",
    "    --this is what targetFeatureSplit is for\n",
    "\n",
    "    so, if you want to have the poi label as the target,\n",
    "    and the features you want to use are the person's\n",
    "    salary and bonus, here's what you would do:\n",
    "\n",
    "    feature_list = [\"poi\", \"salary\", \"bonus\"] \n",
    "    data_array = featureFormat( data_dictionary, feature_list )\n",
    "    label, features = targetFeatureSplit(data_array)\n",
    "\n",
    "    the line above (targetFeatureSplit) assumes that the\n",
    "    label is the _first_ item in feature_list--very important\n",
    "    that poi is listed first!\n",
    "\"\"\"\n",
    "import numpy as np\n",
    "\n",
    "def featureFormat( dictionary, features, remove_NaN=True, remove_all_zeroes=True, remove_any_zeroes=False, sort_keys = False):\n",
    "    \"\"\" convert dictionary to numpy array of features\n",
    "        remove_NaN = True will convert \"NaN\" string to 0.0\n",
    "        remove_all_zeroes = True will omit any data points for which\n",
    "            all the features you seek are 0.0\n",
    "        remove_any_zeroes = True will omit any data points for which\n",
    "            any of the features you seek are 0.0\n",
    "        sort_keys = True sorts keys by alphabetical order. Setting the value as\n",
    "            a string opens the corresponding pickle file with a preset key\n",
    "            order (this is used for Python 3 compatibility, and sort_keys\n",
    "            should be left as False for the course mini-projects).\n",
    "        NOTE: first feature is assumed to be 'poi' and is not checked for\n",
    "            removal for zero or missing values.\n",
    "    \"\"\"\n",
    "\n",
    "    return_list = []\n",
    "\n",
    "    # Key order - first branch is for Python 3 compatibility on mini-projects,\n",
    "    # second branch is for compatibility on final project.\n",
    "    if isinstance(sort_keys, str):\n",
    "        import pickle\n",
    "        keys = pickle.load(open(sort_keys, \"rb\"))\n",
    "    elif sort_keys:\n",
    "        keys = sorted(dictionary.keys())\n",
    "    else:\n",
    "        keys = dictionary.keys()\n",
    "\n",
    "    for key in keys:\n",
    "        tmp_list = []\n",
    "        for feature in features:\n",
    "            try:\n",
    "                dictionary[key][feature]\n",
    "            except KeyError:\n",
    "                print(\"error: key \", feature, \" not present\")\n",
    "                return\n",
    "            value = dictionary[key][feature]\n",
    "            if value==\"NaN\" and remove_NaN:\n",
    "                value = 0\n",
    "            tmp_list.append( float(value) )\n",
    "\n",
    "        # Logic for deciding whether or not to add the data point.\n",
    "        append = True\n",
    "        # exclude 'poi' class as criteria.\n",
    "        if features[0] == 'poi':\n",
    "            test_list = tmp_list[1:]\n",
    "        else:\n",
    "            test_list = tmp_list\n",
    "        ### if all features are zero and you want to remove\n",
    "        ### data points that are all zero, do that here\n",
    "        if remove_all_zeroes:\n",
    "            append = False\n",
    "            for item in test_list:\n",
    "                if item != 0 and item != \"NaN\":\n",
    "                    append = True\n",
    "                    break\n",
    "        ### if any features for a given data point are zero\n",
    "        ### and you want to remove data points with any zeroes,\n",
    "        ### handle that here\n",
    "        if remove_any_zeroes:\n",
    "            if 0 in test_list or \"NaN\" in test_list:\n",
    "                append = False\n",
    "        ### Append the data point if flagged for addition.\n",
    "        if append:\n",
    "            return_list.append( np.array(tmp_list) )\n",
    "\n",
    "    return np.array(return_list)\n",
    "\n",
    "\n",
    "def targetFeatureSplit( data ):\n",
    "    \"\"\" \n",
    "        given a numpy array like the one returned from\n",
    "        featureFormat, separate out the first feature\n",
    "        and put it into its own list (this should be the \n",
    "        quantity you want to predict)\n",
    "\n",
    "        return targets and features as separate lists\n",
    "\n",
    "        (sklearn can generally handle both lists and numpy arrays as \n",
    "        input formats when training/predicting)\n",
    "    \"\"\"\n",
    "\n",
    "    target = []\n",
    "    features = []\n",
    "    for item in data:\n",
    "        target.append( item[0] )\n",
    "        features.append( item[1:] )\n",
    "\n",
    "    return target, features\n",
    "\n",
    "\n",
    "\n",
    "\n",
    "feature_list = [\"poi\", \"salary\", \"bonus\"] \n",
    "data_array = featureFormat( enron_data, feature_list )\n",
    "print(data_array[0])"
   ]
  },
  {
   "cell_type": "markdown",
   "metadata": {},
   "source": [
    "### regression"
   ]
  },
  {
   "cell_type": "markdown",
   "metadata": {},
   "source": [
    "In this project, you will use regression to predict financial data for Enron employees and associates. Once you know some financial data about an employee, like their salary, what would you predict for the size of their bonus?"
   ]
  },
  {
   "cell_type": "code",
   "execution_count": 83,
   "metadata": {},
   "outputs": [
    {
     "name": "stdout",
     "output_type": "stream",
     "text": [
      "[ 1.19214699]\n",
      "554478.756215\n"
     ]
    },
    {
     "data": {
      "image/png": "[encoded data removed]",
      "text/plain": [
       "<matplotlib.figure.Figure at 0x1a504923748>"
      ]
     },
     "metadata": {},
     "output_type": "display_data"
    }
   ],
   "source": [
    "\"\"\"\n",
    "    Starter code for the regression mini-project.\n",
    "    \n",
    "    Loads up/formats a modified version of the dataset\n",
    "    (why modified?  we've removed some trouble points\n",
    "    that you'll find yourself in the outliers mini-project).\n",
    "\n",
    "    Draws a little scatterplot of the training/testing data\n",
    "\n",
    "    You fill in the regression code where indicated:\n",
    "\"\"\"    \n",
    "\n",
    "\n",
    "import sys\n",
    "import pickle\n",
    "dictionary = pickle.load( open(\"data/final_project_dataset_modified.pkl\", \"rb\") )\n",
    "\n",
    "### list the features you want to look at--first item in the \n",
    "### list will be the \"target\" feature\n",
    "#features_list = [\"bonus\", \"salary\"]\n",
    "features_list = [\"bonus\", \"long_term_incentive\"]\n",
    "data = featureFormat( dictionary, features_list, remove_any_zeroes=True,sort_keys = 'data/python2_lesson06_keys.pkl')\n",
    "target, features = targetFeatureSplit( data )\n",
    "\n",
    "### training-testing split needed in regression, just like classification\n",
    "from sklearn.cross_validation import train_test_split\n",
    "feature_train, feature_test, target_train, target_test = train_test_split(features, target, test_size=0.5, random_state=42)\n",
    "train_color = \"b\"\n",
    "test_color = \"r\"\n",
    "\n",
    "\n",
    "\n",
    "### Your regression goes here!\n",
    "### Please name it reg, so that the plotting code below picks it up and \n",
    "### plots it correctly. Don't forget to change the test_color above from \"b\" to\n",
    "### \"r\" to differentiate training points from test points.\n",
    "\n",
    "from sklearn import linear_model\n",
    "from sklearn.linear_model import Ridge\n",
    "#reg = linear_model.Ridge (alpha = .5)\n",
    "#reg.fit () \n",
    "#Ridge(alpha=0.5, copy_X=True, fit_intercept=True, max_iter=None,\n",
    "#      normalize=False, random_state=None, solver='auto', tol=0.001)\n",
    "\n",
    "\n",
    "reg = linear_model.LinearRegression()\n",
    "reg.fit (feature_train,target_train) \n",
    "print(reg.coef_)\n",
    "print(reg.intercept_) \n",
    "\n",
    "\n",
    "### draw the scatterplot, with color-coded training and testing points\n",
    "import matplotlib.pyplot as plt\n",
    "for feature, target in zip(feature_test, target_test):\n",
    "    plt.scatter( feature, target, color=test_color ) \n",
    "for feature, target in zip(feature_train, target_train):\n",
    "    plt.scatter( feature, target, color=train_color ) \n",
    "\n",
    "### labels for the legend\n",
    "plt.scatter(feature_test[0], target_test[0], color=test_color, label=\"test\")\n",
    "plt.scatter(feature_test[0], target_test[0], color=train_color, label=\"train\")\n",
    "\n",
    "\n",
    "\n",
    "\n",
    "### draw the regression line, once it's coded\n",
    "try:\n",
    "    plt.plot( feature_test, reg.predict(feature_test) )\n",
    "except NameError:\n",
    "    pass\n",
    "plt.xlabel(features_list[1])\n",
    "plt.ylabel(features_list[0])\n",
    "plt.legend()\n",
    "plt.show()\n"
   ]
  },
  {
   "cell_type": "code",
   "execution_count": 84,
   "metadata": {},
   "outputs": [
    {
     "name": "stdout",
     "output_type": "stream",
     "text": [
      "train 0.217085971258\n",
      "test -0.59271289995\n"
     ]
    }
   ],
   "source": [
    "# R^2\n",
    "print(\"train\", reg.score(feature_train,target_train))\n",
    "print(\"test\", reg.score(feature_test,target_test))"
   ]
  },
  {
   "cell_type": "code",
   "execution_count": 91,
   "metadata": {},
   "outputs": [
    {
     "name": "stdout",
     "output_type": "stream",
     "text": [
      "[ 5.44814029]\n",
      "-102360.543294\n"
     ]
    },
    {
     "data": {
      "image/png": "[encoded data removed]",
      "text/plain": [
       "<matplotlib.figure.Figure at 0x1a505419f28>"
      ]
     },
     "metadata": {},
     "output_type": "display_data"
    },
    {
     "name": "stdout",
     "output_type": "stream",
     "text": [
      "train -0.123597985403\n",
      "test 0.251488150398\n"
     ]
    }
   ],
   "source": [
    "features_list = [\"bonus\", \"salary\"]\n",
    "data = featureFormat( dictionary, features_list, remove_any_zeroes=True,sort_keys = 'data/python2_lesson06_keys.pkl')\n",
    "target, features = targetFeatureSplit( data )\n",
    "### training-testing split needed in regression, just like classification\n",
    "from sklearn.cross_validation import train_test_split\n",
    "feature_train, feature_test, target_train, target_test = train_test_split(features, target, test_size=0.5, random_state=42)\n",
    "train_color = \"b\"\n",
    "test_color = \"r\"\n",
    "\n",
    "\n",
    "\n",
    "from sklearn import linear_model\n",
    "from sklearn.linear_model import Ridge\n",
    "\n",
    "reg = linear_model.LinearRegression()\n",
    "reg.fit (feature_train,target_train) \n",
    "print(reg.coef_)\n",
    "print(reg.intercept_) \n",
    "\n",
    "\n",
    "### draw the scatterplot, with color-coded training and testing points\n",
    "import matplotlib.pyplot as plt\n",
    "for feature, target in zip(feature_test, target_test):\n",
    "    plt.scatter( feature, target, color=test_color ) \n",
    "for feature, target in zip(feature_train, target_train):\n",
    "    plt.scatter( feature, target, color=train_color ) \n",
    "\n",
    "### labels for the legend\n",
    "plt.scatter(feature_test[0], target_test[0], color=test_color, label=\"test\")\n",
    "plt.scatter(feature_test[0], target_test[0], color=train_color, label=\"train\")\n",
    "\n",
    "\n",
    "\n",
    "\n",
    "### draw the regression line, once it's coded\n",
    "try:\n",
    "    plt.plot( feature_test, reg.predict(feature_test) )\n",
    "except NameError:\n",
    "    pass\n",
    "\n",
    "reg.fit(feature_test, target_test)\n",
    "plt.plot(feature_train, reg.predict(feature_train), color=\"y\") \n",
    "\n",
    "plt.xlabel(features_list[1])\n",
    "plt.ylabel(features_list[0])\n",
    "plt.legend()\n",
    "plt.show()\n",
    "\n",
    "# R^2\n",
    "print(\"train\", reg.score(feature_train,target_train))\n",
    "print(\"test\", reg.score(feature_test,target_test))"
   ]
  },
  {
   "cell_type": "markdown",
   "metadata": {},
   "source": [
    "This is a sneak peek of the next lesson, on outlier identification and removal. Go back to a setup where you are using the salary to predict the bonus, and rerun the code to remind yourself of what the data look like. You might notice a few data points that fall outside the main trend, someone who gets a high salary (over a million dollars!) but a relatively small bonus. This is an example of an outlier, and we’ll spend lots of time on them in the next lesson.\n",
    "\n",
    "A point like this can have a big effect on a regression: if it falls in the training set, it can have a significant effect on the slope/intercept if it falls in the test set, it can make the score much lower than it would otherwise be As things stand right now, this point falls into the test set (and probably hurting the score on our test data as a result). Let’s add a little hack to see what happens if it falls in the training set instead. Add these two lines near the bottom of finance_regression.py, right before plt.xlabel(features_list[1]):\n",
    "\n",
    "reg.fit(feature_test, target_test)\n",
    "plt.plot(feature_train, reg.predict(feature_train), color=\"b\") \n",
    "\n",
    "Now we’ll be drawing two regression lines, one fit on the test data (with outlier) and one fit on the training data (no outlier). Look at the plot now--big difference, huh? That single outlier is driving most of the difference. What’s the slope of the new regression line?\n",
    "\n",
    "(That’s a big difference, and it’s mostly driven by the outliers. The next lesson will dig into outliers in more detail so you have tools to detect and deal with them.)"
   ]
  },
  {
   "cell_type": "code",
   "execution_count": 95,
   "metadata": {},
   "outputs": [
    {
     "name": "stdout",
     "output_type": "stream",
     "text": [
      "train 0.22178257305\n",
      "test -0.464947882471\n"
     ]
    }
   ],
   "source": [
    "features_list = [\"bonus\", \"salary\", \"long_term_incentive\"]\n",
    "data = featureFormat( dictionary, features_list, remove_any_zeroes=True,sort_keys = 'data/python2_lesson06_keys.pkl')\n",
    "target, features = targetFeatureSplit( data )\n",
    "### training-testing split needed in regression, just like classification\n",
    "from sklearn.cross_validation import train_test_split\n",
    "feature_train, feature_test, target_train, target_test = train_test_split(features, target, test_size=0.5, random_state=42)\n",
    "\n",
    "reg =linear_model.Lasso(alpha=0.1)\n",
    "#reg = linear_model.Ridge (alpha = .5)\n",
    "reg.fit(feature_train, target_train)\n",
    "print(\"train\", reg.score(feature_train,target_train))\n",
    "print(\"test\", reg.score(feature_test,target_test))"
   ]
  },
  {
   "cell_type": "markdown",
   "metadata": {},
   "source": [
    "### OUTLIER"
   ]
  },
  {
   "cell_type": "markdown",
   "metadata": {},
   "source": [
    "This project has two parts. In the first part, you will run a regression, and identify and remove the 10% of points that have the largest residual errors. Then you’ll remove those outliers from the dataset and refit the regression, just like the strategy that Sebastian suggested in the lesson videos.\n",
    "\n",
    "In the second part, you will get acquainted with some of the outliers in the Enron finance data, and learn if/how to remove them."
   ]
  },
  {
   "cell_type": "code",
   "execution_count": 118,
   "metadata": {},
   "outputs": [
    {
     "name": "stdout",
     "output_type": "stream",
     "text": [
      "[5, 7, 9, 1, 3]\n",
      "[1, 3, 9, 7, 5]\n",
      "[5, 7, 9, 1, 3]\n",
      "[1, 3, 4, 7, 5, 9]\n"
     ]
    }
   ],
   "source": [
    "import heapq\n",
    "\n",
    "li = [5, 7, 9, 1, 3]\n",
    "li_copy = li[:]\n",
    "# using heapify to convert list into heap\n",
    "heapq.heapify(li_copy)\n",
    "print(li)\n",
    "print(li_copy)\n",
    "# using heappush() to push elements into heap\n",
    "# pushes 4\n",
    "heapq.heappush(li_copy,4)\n",
    "print(li)\n",
    "print(li_copy)"
   ]
  },
  {
   "cell_type": "code",
   "execution_count": 143,
   "metadata": {},
   "outputs": [],
   "source": [
    "def outlierCleaner(predictions, ages, net_worths):\n",
    "    \"\"\"\n",
    "        Clean away the 10% of points that have the largest\n",
    "        residual errors (difference between the prediction\n",
    "        and the actual net worth).\n",
    "\n",
    "        Return a list of tuples named cleaned_data where \n",
    "        each tuple is of the form (age, net_worth, error).\n",
    "    \"\"\"\n",
    "    cleaned_data =[]\n",
    "    \n",
    "    number_of_removed_element = len(net_worths)//10\n",
    "    \n",
    "    dif_2 = (predictions - net_worths)**2\n",
    "    dif_copy = dif_2[:,0].tolist()\n",
    "    dif_copy.sort()\n",
    "    \n",
    "    removed_element = dif_copy[-number_of_removed_element:]\n",
    "    \n",
    "    #print(removed_element)\n",
    "    \n",
    "    for i in range(len(ages)):\n",
    "        if dif_2[i] in removed_element:\n",
    "            pass\n",
    "        else:\n",
    "            cleaned_data.append((ages[i],net_worths[i],dif_2[i]))\n",
    "            \n",
    "    \n",
    "    \n",
    "    #print(len(cleaned_data))\n",
    "\n",
    "    ### your code goes here\n",
    "\n",
    "    \n",
    "    return cleaned_data\n",
    "\n",
    "cleaned_data = outlierCleaner( reg.predict(ages_train), ages_train, net_worths_train )"
   ]
  },
  {
   "cell_type": "code",
   "execution_count": 147,
   "metadata": {},
   "outputs": [
    {
     "name": "stdout",
     "output_type": "stream",
     "text": [
      "[[ 5.07793064]]\n",
      "[ 25.21002155]\n",
      "test 0.878262470366\n"
     ]
    },
    {
     "data": {
      "image/png": "[encoded data removed]",
      "text/plain": [
       "<matplotlib.figure.Figure at 0x1a504f6b470>"
      ]
     },
     "metadata": {},
     "output_type": "display_data"
    },
    {
     "name": "stdout",
     "output_type": "stream",
     "text": [
      "[[ 6.36859481]]\n",
      "[-6.91861069]\n",
      "test 0.983189455396\n"
     ]
    },
    {
     "data": {
      "image/png": "[encoded data removed]",
      "text/plain": [
       "<matplotlib.figure.Figure at 0x1a504f47320>"
      ]
     },
     "metadata": {},
     "output_type": "display_data"
    }
   ],
   "source": [
    "#!/usr/bin/python\n",
    "\n",
    "import random\n",
    "import numpy\n",
    "import matplotlib.pyplot as plt\n",
    "import pickle\n",
    "\n",
    "\n",
    "### load up some practice data with outliers in it\n",
    "ages = pickle.load( open(\"data/practice_outliers_ages.pkl\", \"rb\") )\n",
    "net_worths = pickle.load( open(\"data/practice_outliers_net_worths.pkl\", \"rb\") )\n",
    "\n",
    "\n",
    "\n",
    "### ages and net_worths need to be reshaped into 2D numpy arrays\n",
    "### second argument of reshape command is a tuple of integers: (n_rows, n_columns)\n",
    "### by convention, n_rows is the number of data points and n_columns is the number of features\n",
    "\n",
    "ages       = numpy.reshape( numpy.array(ages), (len(ages), 1))\n",
    "net_worths = numpy.reshape( numpy.array(net_worths), (len(net_worths), 1))\n",
    "from sklearn.cross_validation import train_test_split\n",
    "ages_train, ages_test, net_worths_train, net_worths_test = train_test_split(ages, net_worths, test_size=0.1, random_state=42)\n",
    "\n",
    "### fill in a regression here!  Name the regression object reg so that\n",
    "### the plotting code below works, and you can see what your regression looks like\n",
    "\n",
    "\n",
    "reg = linear_model.LinearRegression()\n",
    "reg.fit (ages_train,net_worths_train) \n",
    "print(reg.coef_)\n",
    "print(reg.intercept_) \n",
    "print(\"test\", reg.score(ages_test,net_worths_test))\n",
    "\n",
    "\n",
    "\n",
    "\n",
    "\n",
    "\n",
    "try:\n",
    "    plt.plot(ages, reg.predict(ages), color=\"blue\")\n",
    "except NameError:\n",
    "    pass\n",
    "plt.scatter(ages, net_worths)\n",
    "plt.show()\n",
    "\n",
    "\n",
    "### identify and remove the most outlier-y points\n",
    "cleaned_data = []\n",
    "try:\n",
    "    predictions = reg.predict(ages_train)\n",
    "    cleaned_data = outlierCleaner( predictions, ages_train, net_worths_train )\n",
    "except NameError:\n",
    "    print (\"your regression object doesn't exist, or isn't name reg\")\n",
    "    print (\"can't make predictions to use in identifying outliers\")\n",
    "\n",
    "\n",
    "\n",
    "\n",
    "\n",
    "\n",
    "\n",
    "### only run this code if cleaned_data is returning data\n",
    "if len(cleaned_data) > 0:\n",
    "    ages, net_worths, errors = zip(*cleaned_data)\n",
    "    ages       = numpy.reshape( numpy.array(ages), (len(ages), 1))\n",
    "    net_worths = numpy.reshape( numpy.array(net_worths), (len(net_worths), 1))\n",
    "\n",
    "    ### refit your cleaned data!\n",
    "    try:\n",
    "        reg.fit(ages, net_worths)\n",
    "        plt.plot(ages, reg.predict(ages), color=\"black\")\n",
    "        print(reg.coef_)\n",
    "        print(reg.intercept_) \n",
    "        print(\"test\", reg.score(ages_test,net_worths_test))\n",
    "    except NameError:\n",
    "        print (\"you don't seem to have regression imported/created,\")\n",
    "        print (\"   or else your regression object isn't named reg\")\n",
    "        print (\"   either way, only draw the scatter plot of the cleaned data\")\n",
    "    plt.scatter(ages, net_worths)\n",
    "    plt.xlabel(\"ages\")\n",
    "    plt.ylabel(\"net worths\")\n",
    "    plt.show()\n",
    "\n",
    "\n",
    "else:\n",
    "    print (\"outlierCleaner() is returning an empty list, no refitting to be done\")\n",
    "\n"
   ]
  },
  {
   "cell_type": "markdown",
   "metadata": {},
   "source": [
    "In the mini-project for the regressions lesson, you used a regression to predict the bonuses for Enron employees. As you saw, even a single outlier can make a big difference on the regression result. There was something we didn’t tell you, though, which was that the dataset we had you use in that project had already been cleaned of some significant outliers. Identifying and cleaning away outliers is something you should always think about when looking at a dataset for the first time, and now you’ll get some hands-on experience with the Enron data.\n",
    "\n",
    "Reads in the data (in dictionary form) and converts it into a sklearn-ready numpy array. Since there are two features being extracted from the dictionary (“salary” and “bonus”), the resulting numpy array will be of dimension N x 2, where N is the number of data points and 2 is the number of features. This is perfect input for a scatterplot; we’ll use the matplotlib.pyplot module to make that plot. (We’ve been using pyplot for all the visualizations in this course.) Add these lines to the bottom of the script to make your scatterplot:"
   ]
  },
  {
   "cell_type": "code",
   "execution_count": 149,
   "metadata": {},
   "outputs": [
    {
     "data": {
      "image/png": "[encoded data removed]",
      "text/plain": [
       "<matplotlib.figure.Figure at 0x1a50559b470>"
      ]
     },
     "metadata": {},
     "output_type": "display_data"
    }
   ],
   "source": [
    "import pickle\n",
    "import sys\n",
    "import matplotlib.pyplot\n",
    "\n",
    "### read in data dictionary, convert to numpy array\n",
    "data_dict = pickle.load( open(\"data/final_project_dataset.pkl\", \"rb\") )\n",
    "features = [\"salary\", \"bonus\"]\n",
    "data = featureFormat(data_dict, features)\n",
    "\n",
    "\n",
    "for point in data:\n",
    "    salary = point[0]\n",
    "    bonus = point[1]\n",
    "    matplotlib.pyplot.scatter( salary, bonus )\n",
    "\n",
    "matplotlib.pyplot.xlabel(\"salary\")\n",
    "matplotlib.pyplot.ylabel(\"bonus\")\n",
    "matplotlib.pyplot.show()"
   ]
  },
  {
   "cell_type": "code",
   "execution_count": 156,
   "metadata": {},
   "outputs": [
    {
     "name": "stdout",
     "output_type": "stream",
     "text": [
      "TOTAL\n"
     ]
    }
   ],
   "source": [
    "# biggest outlier\n",
    "data_dict = pickle.load( open(\"data/final_project_dataset.pkl\", \"rb\") )\n",
    "for key,val in data_dict.items():\n",
    "    try:\n",
    "        if int(val['salary']) > 1e7:\n",
    "            print(key)\n",
    "    except:\n",
    "        pass"
   ]
  },
  {
   "cell_type": "code",
   "execution_count": 159,
   "metadata": {},
   "outputs": [
    {
     "data": {
      "image/png": "[encoded data removed]",
      "text/plain": [
       "<matplotlib.figure.Figure at 0x1a503dd4ba8>"
      ]
     },
     "metadata": {},
     "output_type": "display_data"
    }
   ],
   "source": [
    "data_dict.pop( 'TOTAL', 0 )\n",
    "features = [\"salary\", \"bonus\"]\n",
    "data = featureFormat(data_dict, features)\n",
    "\n",
    "\n",
    "for point in data:\n",
    "    salary = point[0]\n",
    "    bonus = point[1]\n",
    "    matplotlib.pyplot.scatter( salary, bonus )\n",
    "\n",
    "matplotlib.pyplot.xlabel(\"salary\")\n",
    "matplotlib.pyplot.ylabel(\"bonus\")\n",
    "matplotlib.pyplot.show()"
   ]
  },
  {
   "cell_type": "code",
   "execution_count": 164,
   "metadata": {},
   "outputs": [
    {
     "name": "stdout",
     "output_type": "stream",
     "text": [
      "SKILLING JEFFREY K\n",
      "LAY KENNETH L\n"
     ]
    }
   ],
   "source": [
    "for key,val in data_dict.items():\n",
    "    try:\n",
    "        if int(val['bonus']) > 3e6 and int(val['salary']) > 1e6:\n",
    "            print(key)\n",
    "    except:\n",
    "        pass"
   ]
  },
  {
   "cell_type": "markdown",
   "metadata": {},
   "source": [
    "Would you guess that these are typos or weird spreadsheet lines that we should remove, or that there’s a meaningful reason why these points are different? (In other words, should they be removed before we, say, try to build a POI identifier?)  \n",
    "**keep it since they are potientially POI**"
   ]
  },
  {
   "cell_type": "markdown",
   "metadata": {},
   "source": [
    "## unsupervised"
   ]
  },
  {
   "cell_type": "markdown",
   "metadata": {},
   "source": [
    "### K-means (cluster)"
   ]
  },
  {
   "cell_type": "markdown",
   "metadata": {},
   "source": [
    "In this project, we’ll apply k-means clustering to our Enron financial data. Our final goal, of course, is to identify persons of interest; since we have labeled data, this is not a question that particularly calls for an unsupervised approach like k-means clustering.\n",
    "\n",
    "Nonetheless, you’ll get some hands-on practice with k-means in this project, and play around with feature scaling, which will give you a sneak preview of the next lesson’s material."
   ]
  },
  {
   "cell_type": "code",
   "execution_count": 173,
   "metadata": {},
   "outputs": [
    {
     "data": {
      "image/png": "[encoded data removed]",
      "text/plain": [
       "<matplotlib.figure.Figure at 0x1a505785e10>"
      ]
     },
     "metadata": {},
     "output_type": "display_data"
    },
    {
     "name": "stdout",
     "output_type": "stream",
     "text": [
      "[0 0 0 0 0 0 0 0 0 0 0 0 0 0 0 0 0 0 0 0 0 0 0 0 0 0 0 0 0 0 0 1 0 0 0 0 0\n",
      " 0 0 0 0 0 0 0 0 0 0 0 0 0 0 0 0 0 0 0 0 0 0 0 0 0 0 0 1 0 0 0 0 0 0 0 0 0\n",
      " 0 1 0 0 0 0 0 0 0 0 0 0 0 0 0 0 0 0 0 1 0 0 0 0 0 0 0 0 0 0 0 0 0 0 0 0 0\n",
      " 0 0 0 0 0 1 0 0 0 0 0 0 0]\n",
      "centers:  [[   200320.46218487   1507501.63865546]\n",
      " [   573218.8         23904558.        ]]\n"
     ]
    },
    {
     "data": {
      "image/png": "[encoded data removed]",
      "text/plain": [
       "<matplotlib.figure.Figure at 0x1a504f47a58>"
      ]
     },
     "metadata": {},
     "output_type": "display_data"
    }
   ],
   "source": [
    "import pickle\n",
    "import numpy\n",
    "import matplotlib.pyplot as plt\n",
    "import sys\n",
    "\n",
    "\n",
    "def Draw(pred, features, poi, mark_poi=False, name=\"image.png\", f1_name=\"feature 1\", f2_name=\"feature 2\"):\n",
    "    \"\"\" some plotting code designed to help you visualize your clusters \"\"\"\n",
    "\n",
    "    ### plot each cluster with a different color--add more colors for\n",
    "    ### drawing more than five clusters\n",
    "    colors = [\"b\", \"c\", \"k\", \"m\", \"g\"]\n",
    "    for ii, pp in enumerate(pred):\n",
    "        plt.scatter(features[ii][0], features[ii][1], color = colors[pred[ii]])\n",
    "\n",
    "    ### if you like, place red stars over points that are POIs (just for funsies)\n",
    "    if mark_poi:\n",
    "        for ii, pp in enumerate(pred):\n",
    "            if poi[ii]:\n",
    "                plt.scatter(features[ii][0], features[ii][1], color=\"r\", marker=\"*\")\n",
    "    plt.xlabel(f1_name)\n",
    "    plt.ylabel(f2_name)\n",
    "    plt.savefig(name)\n",
    "    plt.show()\n",
    "\n",
    "\n",
    "\n",
    "### load in the dict of dicts containing all the data on each person in the dataset\n",
    "data_dict = pickle.load( open(\"data/final_project_dataset.pkl\", \"rb\") )\n",
    "### there's an outlier--remove it! \n",
    "data_dict.pop(\"TOTAL\", 0)\n",
    "\n",
    "\n",
    "### the input features we want to use \n",
    "### can be any key in the person-level dictionary (salary, director_fees, etc.) \n",
    "feature_1 = \"salary\"\n",
    "feature_2 = \"exercised_stock_options\"\n",
    "poi  = \"poi\"\n",
    "features_list = [poi, feature_1, feature_2]\n",
    "data = featureFormat(data_dict, features_list )\n",
    "poi, finance_features = targetFeatureSplit( data )\n",
    "\n",
    "\n",
    "### in the \"clustering with 3 features\" part of the mini-project,\n",
    "### you'll want to change this line to \n",
    "### for f1, f2, _ in finance_features:\n",
    "### (as it's currently written, the line below assumes 2 features)\n",
    "#'''\n",
    "for f1, f2 in finance_features:\n",
    "    plt.scatter( f1, f2 )\n",
    "    \n",
    "plt.xlabel(feature_1)\n",
    "plt.ylabel(feature_2)\n",
    "plt.show()\n",
    "#'''\n",
    "### cluster here; create predictions of the cluster labels\n",
    "### for the data and store them to a list called pred\n",
    "\n",
    "from sklearn.cluster import KMeans\n",
    "import numpy as np\n",
    "kmeans = KMeans(n_clusters=2, random_state=0).fit(finance_features)\n",
    "print(kmeans.labels_)\n",
    "print(\"centers: \", kmeans.cluster_centers_)\n",
    "pred = kmeans.predict(finance_features)\n",
    "\n",
    "### rename the \"name\" parameter when you change the number of features\n",
    "### so that the figure gets saved to a different file\n",
    "try:\n",
    "    Draw(pred, finance_features, poi, mark_poi=False, name=\"clusters.pdf\", f1_name=feature_1, f2_name=feature_2)\n",
    "except NameError:\n",
    "    print(\"no predictions object named pred found, no clusters to plot\")\n"
   ]
  },
  {
   "cell_type": "markdown",
   "metadata": {},
   "source": [
    "Add a third feature to features_list, “total_payments\". Now rerun clustering, using 3 input features instead of 2 (obviously we can still only visualize the original 2 dimensions). Compare the plot with the clusterings to the one you obtained with 2 input features. Do any points switch clusters? How many? This new clustering, using 3 features, couldn’t have been guessed by eye--it was the k-means algorithm that identified it.\n",
    "\n",
    "(You'll need to change the code that makes the scatterplot to accommodate 3 features instead of 2, see the comments in the starter code for instructions on how to do this.)"
   ]
  },
  {
   "cell_type": "code",
   "execution_count": 182,
   "metadata": {},
   "outputs": [
    {
     "data": {
      "image/png": "[encoded data removed]",
      "text/plain": [
       "<matplotlib.figure.Figure at 0x1a505993f98>"
      ]
     },
     "metadata": {},
     "output_type": "display_data"
    },
    {
     "name": "stdout",
     "output_type": "stream",
     "text": [
      "[0 0 0 0 0 0 0 0 0 0 0 0 0 0 0 0 0 0 0 0 0 0 0 0 0 0 0 0 0 0 0 0 0 0 0 0 0\n",
      " 0 0 0 0 0 0 0 0 0 0 0 0 0 0 0 0 0 0 0 0 0 0 0 0 0 0 0 0 0 0 0 0 0 0 0 0 0\n",
      " 0 0 0 0 0 0 0 0 0 0 0 0 1 0 0 0 0 0 0 0 0 0 0 0 0 0 0 0 0 0 0 0 0 0 0 0 0\n",
      " 0 0 0 0 0 0 0 0 0 0 0 0 0 0 0 0 0 0 0 0 0 0 0 0 0 0 0 0]\n",
      "centers:  [[  1.85738464e+05   1.91715291e+06   1.60684372e+06]\n",
      " [  1.07232100e+06   3.43483840e+07   1.03559793e+08]]\n"
     ]
    },
    {
     "data": {
      "image/png": "[encoded data removed]",
      "text/plain": [
       "<matplotlib.figure.Figure at 0x1a50563d2e8>"
      ]
     },
     "metadata": {},
     "output_type": "display_data"
    }
   ],
   "source": [
    "data_dict = pickle.load( open(\"data/final_project_dataset.pkl\", \"rb\") )\n",
    "data_dict.pop(\"TOTAL\", 0)\n",
    "\n",
    "feature_1 = \"salary\"\n",
    "feature_2 = \"exercised_stock_options\"\n",
    "feature_3 = \"total_payments\"\n",
    "poi  = \"poi\"\n",
    "features_list = [poi, feature_1, feature_2,feature_3]\n",
    "data = featureFormat(data_dict, features_list )\n",
    "poi, finance_features = targetFeatureSplit( data )\n",
    "\n",
    "\n",
    "### in the \"clustering with 3 features\" part of the mini-project,\n",
    "### you'll want to change this line to \n",
    "### for f1, f2, _ in finance_features:\n",
    "### (as it's currently written, the line below assumes 2 features)\n",
    "#'''\n",
    "from mpl_toolkits.mplot3d import Axes3D\n",
    "import matplotlib.pyplot as plt\n",
    "\n",
    "fig = plt.figure()\n",
    "ax = fig.add_subplot(111, projection='3d')\n",
    "\n",
    "for f1, f2 , f3 in finance_features:\n",
    "    ax.scatter(f1, f2 , f3)\n",
    "    \n",
    "ax.set_xlabel(feature_1)\n",
    "ax.set_ylabel(feature_2)\n",
    "ax.set_zlabel(feature_3)   \n",
    "plt.show()\n",
    "\n",
    "#'''\n",
    "### cluster here; create predictions of the cluster labels\n",
    "### for the data and store them to a list called pred\n",
    "\n",
    "from sklearn.cluster import KMeans\n",
    "import numpy as np\n",
    "kmeans = KMeans(n_clusters=2, random_state=0).fit(finance_features)\n",
    "print(kmeans.labels_)\n",
    "print(\"centers: \", kmeans.cluster_centers_)\n",
    "pred = kmeans.predict(finance_features)\n",
    "\n",
    "### rename the \"name\" parameter when you change the number of features\n",
    "### so that the figure gets saved to a different file\n",
    "try:\n",
    "    Draw(pred, finance_features, poi, mark_poi=False, name=\"clusters.pdf\", f1_name=feature_1, f2_name=feature_2)\n",
    "except NameError:\n",
    "    print(\"no predictions object named pred found, no clusters to plot\")\n"
   ]
  },
  {
   "cell_type": "markdown",
   "metadata": {},
   "source": [
    "In the next lesson, we’ll talk about feature scaling. It’s a type of feature preprocessing that you should perform before some classification and regression tasks. Here’s a sneak preview that should call your attention to the general outline of what feature scaling does.\n",
    "\n",
    "What are the maximum and minimum values taken by the “exercised_stock_options” feature used in this example?\n",
    "\n",
    "(NB: if you look at finance_features, there are some \"NaN\" values that have been cleaned away and replaced with zeroes--so while those might look like the minima, it's a bit deceptive because they're more like points for which we don't have information, and just have to put in a number. So for this question, go back to data_dict and look for the maximum and minimum numbers that show up there, ignoring all the \"NaN\" entries.)"
   ]
  },
  {
   "cell_type": "markdown",
   "metadata": {},
   "source": [
    "### SCALING"
   ]
  },
  {
   "cell_type": "markdown",
   "metadata": {},
   "source": [
    "The plot on the next slide shows the exact same clustering code that you just wrote, but in this example we applied feature scaling before performing the clustering.\n",
    "\n",
    "We want you to compare the clustering with scaling (on the next slide) with the first clustering visualization you produced, when you used two features in your clustering algorithm.\n",
    "\n",
    "Notice that now the range of the features has changed to [0.0, 1.0]. That's the only change we've made.\n",
    "\n",
    "In the next lesson you’ll learn a lot more about what feature scaling means"
   ]
  },
  {
   "cell_type": "markdown",
   "metadata": {},
   "source": [
    "**In the last project, you performed k-means clustering on the Enron characters using their financial data as inputs. We’ll update that work to include scaled features, to see how that changes things.**"
   ]
  },
  {
   "cell_type": "code",
   "execution_count": 194,
   "metadata": {},
   "outputs": [
    {
     "name": "stdout",
     "output_type": "stream",
     "text": [
      "[[ 0.2         0.          0.6       ]\n",
      " [ 0.4         0.16666667  0.2       ]\n",
      " [ 0.          0.33333333  0.        ]\n",
      " [ 1.          1.          1.        ]]\n"
     ]
    }
   ],
   "source": [
    "# Here is an example to scale a toy data matrix to the [0, 1] range:\n",
    "from sklearn.preprocessing import MinMaxScaler\n",
    "X_train = np.array([[ 1., -1.,  2.],\n",
    "                    [ 2.,  0.,  0.],\n",
    "                    [ 0.,  1., -1.],\n",
    "                    [ 5.,    5.,   4.]])\n",
    "min_max_scaler = MinMaxScaler()\n",
    "X_train_minmax = min_max_scaler.fit_transform(X_train)\n",
    "print(X_train_minmax)"
   ]
  },
  {
   "cell_type": "code",
   "execution_count": 198,
   "metadata": {},
   "outputs": [
    {
     "name": "stdout",
     "output_type": "stream",
     "text": [
      "[[ 0.17997621  0.02911345]]\n"
     ]
    },
    {
     "data": {
      "image/png": "[encoded data removed]",
      "text/plain": [
       "<matplotlib.figure.Figure at 0x1a50596b048>"
      ]
     },
     "metadata": {},
     "output_type": "display_data"
    },
    {
     "name": "stdout",
     "output_type": "stream",
     "text": [
      "[1 1 1 1 1 1 1 1 1 1 1 1 1 1 1 1 1 1 1 1 1 1 1 1 1 1 1 1 1 1 1 0 1 1 1 1 0\n",
      " 1 1 1 1 1 1 1 1 1 1 1 1 1 1 1 1 1 1 1 1 1 1 1 1 1 1 1 0 1 1 1 1 1 1 1 1 1\n",
      " 1 0 1 1 1 1 1 1 1 1 1 1 1 1 1 1 1 1 1 1 1 1 1 1 1 1 1 1 1 1 1 1 1 1 1 1 1\n",
      " 1 1 1 1 1 0 1 1 1 1 1 1 1]\n",
      "centers:  [[ 0.65963926  0.66723454]\n",
      " [ 0.17422213  0.04509486]]\n"
     ]
    },
    {
     "data": {
      "image/png": "[encoded data removed]",
      "text/plain": [
       "<matplotlib.figure.Figure at 0x1a504e88080>"
      ]
     },
     "metadata": {},
     "output_type": "display_data"
    }
   ],
   "source": [
    "feature_1 = \"salary\"\n",
    "feature_2 = \"exercised_stock_options\"\n",
    "poi  = \"poi\"\n",
    "features_list = [poi, feature_1, feature_2]\n",
    "data = featureFormat(data_dict, features_list )\n",
    "poi, finance_features = targetFeatureSplit( data )\n",
    "min_max_scaler = MinMaxScaler()\n",
    "finance_features = min_max_scaler.fit_transform(finance_features)\n",
    "\n",
    "print(min_max_scaler.transform([[200000.,1000000.]]))\n",
    "### in the \"clustering with 3 features\" part of the mini-project,\n",
    "### you'll want to change this line to \n",
    "### for f1, f2, _ in finance_features:\n",
    "### (as it's currently written, the line below assumes 2 features)\n",
    "#'''\n",
    "for f1, f2 in finance_features:\n",
    "    plt.scatter( f1, f2 )\n",
    "    \n",
    "plt.xlabel(feature_1)\n",
    "plt.ylabel(feature_2)\n",
    "plt.show()\n",
    "#'''\n",
    "### cluster here; create predictions of the cluster labels\n",
    "### for the data and store them to a list called pred\n",
    "\n",
    "from sklearn.cluster import KMeans\n",
    "import numpy as np\n",
    "kmeans = KMeans(n_clusters=2, random_state=0).fit(finance_features)\n",
    "print(kmeans.labels_)\n",
    "print(\"centers: \", kmeans.cluster_centers_)\n",
    "pred = kmeans.predict(finance_features)\n",
    "\n",
    "### rename the \"name\" parameter when you change the number of features\n",
    "### so that the figure gets saved to a different file\n",
    "try:\n",
    "    Draw(pred, finance_features, poi, mark_poi=False, name=\"clusters.pdf\", f1_name=feature_1, f2_name=feature_2)\n",
    "except NameError:\n",
    "    print(\"no predictions object named pred found, no clusters to plot\")\n"
   ]
  },
  {
   "cell_type": "markdown",
   "metadata": {},
   "source": [
    "### Learn from text"
   ]
  },
  {
   "cell_type": "code",
   "execution_count": 224,
   "metadata": {},
   "outputs": [
    {
     "name": "stdout",
     "output_type": "stream",
     "text": [
      "['and', 'document', 'first', 'is', 'one', 'second', 'the', 'third', 'this']\n",
      "  (0, 1)\t1\n",
      "  (0, 2)\t1\n",
      "  (0, 3)\t1\n",
      "  (0, 6)\t1\n",
      "  (0, 8)\t1\n",
      "  (1, 1)\t1\n",
      "  (1, 3)\t1\n",
      "  (1, 5)\t2\n",
      "  (1, 6)\t1\n",
      "  (1, 8)\t1\n",
      "  (2, 0)\t1\n",
      "  (2, 4)\t1\n",
      "  (2, 6)\t1\n",
      "  (2, 7)\t1\n",
      "  (3, 1)\t1\n",
      "  (3, 2)\t1\n",
      "  (3, 3)\t1\n",
      "  (3, 6)\t1\n",
      "  (3, 8)\t1\n",
      "\n",
      "  (0, 8)\t2\n",
      "  (1, 8)\t1\n",
      "  (2, 0)\t1\n",
      "  (2, 3)\t1\n"
     ]
    }
   ],
   "source": [
    "from sklearn.feature_extraction.text import CountVectorizer\n",
    "vectorizer = CountVectorizer()\n",
    "corpus = [\n",
    "     'This is the first document.',\n",
    "     'This is the second second document.',\n",
    "     'And the third one.',\n",
    "     'Is this the first document?']\n",
    "vectorizer.fit(corpus)\n",
    "print(vectorizer.get_feature_names())\n",
    "print(vectorizer.transform(corpus))\n",
    "print()\n",
    "print(X.transform([\"this this \",\"This\",\"and is\"]))"
   ]
  },
  {
   "cell_type": "code",
   "execution_count": 210,
   "metadata": {},
   "outputs": [
    {
     "name": "stdout",
     "output_type": "stream",
     "text": [
      "153\n",
      "whom\n",
      "most\n",
      "who\n",
      "not\n",
      "ain\n",
      "through\n",
      "was\n",
      "aren\n",
      "wasn\n",
      "hasn\n",
      "any\n",
      "['All', 'work', 'play', 'makes', 'jack', 'dull', 'boy', '.', 'All', 'work', 'play', 'makes', 'jack', 'dull', 'boy', '.']\n"
     ]
    }
   ],
   "source": [
    "import nltk\n",
    "from nltk.tokenize import sent_tokenize, word_tokenize\n",
    "from nltk.corpus import stopwords\n",
    "\n",
    "data = \"All work and no play makes jack dull boy. All work and no play makes jack a dull boy.\"\n",
    "stopWords = set(stopwords.words('english'))\n",
    "\n",
    "print(len(stopWords))\n",
    "count = 0\n",
    "for a in stopWords:\n",
    "    print(a)\n",
    "    count += 1\n",
    "    if count > 10:\n",
    "        break\n",
    "\n",
    "words = word_tokenize(data)\n",
    "wordsFiltered = []\n",
    " \n",
    "for w in words:\n",
    "    if w not in stopWords:\n",
    "        wordsFiltered.append(w)\n",
    " \n",
    "print(wordsFiltered)"
   ]
  },
  {
   "cell_type": "code",
   "execution_count": 211,
   "metadata": {},
   "outputs": [
    {
     "name": "stdout",
     "output_type": "stream",
     "text": [
      "arabic danish dutch english finnish french german hungarian italian norwegian porter portuguese romanian russian spanish swedish\n",
      "run\n",
      "have\n",
      "having\n",
      "generous\n",
      "gener\n"
     ]
    }
   ],
   "source": [
    "from nltk.stem.snowball import SnowballStemmer\n",
    "# See which languages are supported.\n",
    "print(\" \".join(SnowballStemmer.languages))\n",
    "# Create a new instance of a language specific subclass.\n",
    "stemmer = SnowballStemmer(\"english\")\n",
    "# Stem a word.\n",
    "print(stemmer.stem(\"running\"))\n",
    "\n",
    "\n",
    "#Decide not to stem stopwords.\n",
    "stemmer2 = SnowballStemmer(\"english\", ignore_stopwords=True)\n",
    "print(stemmer.stem(\"having\"))\n",
    "print(stemmer2.stem(\"having\"))\n",
    "\n",
    "# The 'english' stemmer is better than the original 'porter' stemmer.\n",
    "print(SnowballStemmer(\"english\").stem(\"generously\"))\n",
    "print(SnowballStemmer(\"porter\").stem(\"generously\"))\n"
   ]
  },
  {
   "cell_type": "markdown",
   "metadata": {},
   "source": [
    "In the beginning of this class, you identified emails by their authors using a number of supervised classification algorithms. In those projects, we handled the preprocessing for you, transforming the input emails into a TfIdf so they could be fed into the algorithms. Now you will construct your own version of that preprocessing step, so that you are going directly from raw data to processed features.\n",
    "\n",
    "You will be given two text files: one contains the locations of all the emails from Sara, the other has emails from Chris. You will also have access to the parseOutText() function, which accepts an opened email as an argument and returns a string containing all the (stemmed) words in the email.\n",
    "\n",
    "parseOutText() takes the opened email and returns only the text part, stripping away any metadata that may occur at the beginning of the email, so what's left is the text of the message. We currently have this script set up so that it will print the text of the email to the screen, what is the text that you get when you run parseOutText()?"
   ]
  },
  {
   "cell_type": "code",
   "execution_count": 248,
   "metadata": {},
   "outputs": [
    {
     "name": "stdout",
     "output_type": "stream",
     "text": [
      "hi everyon if you can read this messag your proper use parseouttext pleas proceed to the next part of the project \n"
     ]
    },
    {
     "data": {
      "text/plain": [
       "'\\ndef main():\\n    ff = open(\"../text_learning/test_email.txt\", \"r\")\\n    text = parseOutText(ff)\\n    print text\\n\\n\\n\\nif __name__ == \\'__main__\\':\\n    main()\\n'"
      ]
     },
     "execution_count": 248,
     "metadata": {},
     "output_type": "execute_result"
    }
   ],
   "source": [
    "from nltk.stem.snowball import SnowballStemmer\n",
    "import string\n",
    "\n",
    "def parseOutText(f):\n",
    "    \"\"\" given an opened email file f, parse out all text below the\n",
    "        metadata block at the top\n",
    "        (in Part 2, you will also add stemming capabilities)\n",
    "        and return a string that contains all the words\n",
    "        in the email (space-separated) \n",
    "        \n",
    "        example use case:\n",
    "        f = open(\"email_file_name.txt\", \"r\")\n",
    "        text = parseOutText(f)\n",
    "        \n",
    "        \"\"\"\n",
    "\n",
    "    f.seek(0)  ### go back to beginning of file (annoying)\n",
    "    all_text = f.read()\n",
    "\n",
    "    ### split off metadata\n",
    "    content = all_text.split(\"X-FileName:\")\n",
    "    words = \"\"\n",
    "    if len(content) > 1:\n",
    "        ### remove punctuation\n",
    "        #print(content[1])\n",
    "        #print(string.punctuation)\n",
    "        #translator = str.maketrans(string.punctuation)\n",
    "        #text_string = content[1].translate(str.maketrans(dict.fromkeys(',!.')))\n",
    "        #text_string = content[1].translate(str.maketrans(dict.fromkeys(string.punctuation)))\n",
    "        #print(text_string)\n",
    "        ### project part 2: comment out the line below\n",
    "        translator = str.maketrans('', '', string.punctuation)\n",
    "        text_string = content[1].translate(translator)\n",
    "        \n",
    "\n",
    "        ### split the text string into individual words, stem each word,\n",
    "        ### and append the stemmed word to words (make sure there's a single\n",
    "        ### space between each stemmed word)\n",
    "        result = \"\"\n",
    "        from nltk.stem.snowball import SnowballStemmer\n",
    "        stemmer = SnowballStemmer(\"english\")\n",
    "        for e in text_string.split():\n",
    "            result += stemmer.stem(e) +\" \"\n",
    "        words = result\n",
    "        \n",
    "\n",
    "    return words\n",
    "\n",
    "ff = open(\"data/test_email.txt\", \"r\")\n",
    "text = parseOutText(ff)\n",
    "print(text)   \n",
    "'''\n",
    "def main():\n",
    "    ff = open(\"../text_learning/test_email.txt\", \"r\")\n",
    "    text = parseOutText(ff)\n",
    "    print text\n",
    "\n",
    "\n",
    "\n",
    "if __name__ == '__main__':\n",
    "    main()\n",
    "'''\n"
   ]
  },
  {
   "cell_type": "markdown",
   "metadata": {},
   "source": [
    "You will iterate through all the emails from Chris and from Sara. For each email, feed the opened email to parseOutText() and return the stemmed text string. Then do two things:\n",
    "\n",
    "remove signature words (“sara”, “shackleton”, “chris”, “germani”--bonus points if you can figure out why it's \"germani\" and not \"germany\")\n",
    "append the updated text string to word_data -- if the email is from Sara, append 0 (zero) to from_data, or append a 1 if Chris wrote the email.\n",
    "Once this step is complete, you should have two lists: one contains the stemmed text of each email, and the second should contain the labels that encode (via a 0 or 1) who the author of that email is.\n",
    "\n",
    "Running over all the emails can take a little while (5 minutes or more), so we've added a temp_counter to cut things off after the first 200 emails. Of course, once everything is working, you'd want to run over the full dataset.\n",
    "\n",
    "In the box below, put the string that you get for word_data[152]."
   ]
  },
  {
   "cell_type": "code",
   "execution_count": 265,
   "metadata": {},
   "outputs": [
    {
     "name": "stdout",
     "output_type": "stream",
     "text": [
      "emails processed\n",
      "tjonesnsf stephani and sam need nymex calendar \n",
      "0\n"
     ]
    }
   ],
   "source": [
    "import os\n",
    "import pickle\n",
    "import re\n",
    "import sys\n",
    "\n",
    "\"\"\"\n",
    "    Starter code to process the emails from Sara and Chris to extract\n",
    "    the features and get the documents ready for classification.\n",
    "\n",
    "    The list of all the emails from Sara are in the from_sara list\n",
    "    likewise for emails from Chris (from_chris)\n",
    "\n",
    "    The actual documents are in the Enron email dataset, which\n",
    "    you downloaded/unpacked in Part 0 of the first mini-project. If you have\n",
    "    not obtained the Enron email corpus, run startup.py in the tools folder.\n",
    "\n",
    "    The data is stored in lists and packed away in pickle files at the end.\n",
    "\"\"\"\n",
    "\n",
    "\n",
    "from_sara  = open(\"data/from_sara.txt\", \"r\")\n",
    "from_chris = open(\"data/from_chris.txt\", \"r\")\n",
    "\n",
    "from_data = []\n",
    "word_data = []\n",
    "\n",
    "### temp_counter is a way to speed up the development--there are\n",
    "### thousands of emails from Sara and Chris, so running over all of them\n",
    "### can take a long time\n",
    "### temp_counter helps you only look at the first 200 emails in the list so you\n",
    "### can iterate your modifications quicker\n",
    "temp_counter = 0\n",
    "\n",
    "\n",
    "for name, from_person in [(\"sara\", from_sara), (\"chris\", from_chris)]:\n",
    "    for path in from_person:\n",
    "        ### only look at first 200 emails when developing\n",
    "        ### once everything is working, remove this line to run over full dataset\n",
    "        temp_counter += 1\n",
    "        #if temp_counter < 200:\n",
    "        if temp_counter < 2000000:\n",
    "            email = open(path[:-1], \"r\") # -1 to remove the \\n at the end\n",
    "            \n",
    "            ### use parseOutText to extract the text from the opened email\n",
    "            temp_data = parseOutText(email)\n",
    "            ### use str.replace() to remove any instances of the words\n",
    "            ### [\"sara\", \"shackleton\", \"chris\", \"germani\"]\n",
    "            temp_data = re.sub(r'\\bsara\\b', '', temp_data)\n",
    "            temp_data = re.sub(r'\\bshackleton\\b', '', temp_data)\n",
    "            temp_data = re.sub(r'\\bchris\\b', '', temp_data)\n",
    "            temp_data = re.sub(r'\\bgermani\\b', '', temp_data)\n",
    "            ### append the text to word_data\n",
    "            word_data.append(temp_data)\n",
    "            ### append a 0 to from_data if email is from Sara, and 1 if email is from Chris\n",
    "            if name == 'sara':\n",
    "                from_data.append(0)\n",
    "            else:\n",
    "                from_data.append(1)\n",
    "\n",
    "            email.close()\n",
    "\n",
    "print( \"emails processed\")\n",
    "from_sara.close()\n",
    "from_chris.close()\n",
    "\n",
    "print(word_data[152])\n",
    "print(from_data[152])\n",
    "pickle.dump( word_data, open(\"your_word_data.pkl\", \"wb\") )\n",
    "pickle.dump( from_data, open(\"your_email_authors.pkl\", \"wb\") )\n",
    "\n",
    "\n",
    "\n",
    "### in Part 4, do TfIdf vectorization here\n",
    "\n",
    "\n"
   ]
  },
  {
   "cell_type": "markdown",
   "metadata": {},
   "source": [
    "Transform the word_data into a tf-idf matrix using the sklearn TfIdf transformation. Remove english stopwords.\n",
    "\n",
    "You can access the mapping between words and feature numbers using get_feature_names(), which returns a list of all the words in the vocabulary. How many different words are there?  \n",
    "  \n",
    "Be sure to use the tf-idf Vectorizer class to transform the word data.\n",
    "\n",
    "Don't forget to remove english stop words when you set up the vectorizer, using sklearn's stop word list (not NLTK)."
   ]
  },
  {
   "cell_type": "code",
   "execution_count": 268,
   "metadata": {},
   "outputs": [
    {
     "name": "stdout",
     "output_type": "stream",
     "text": [
      "38821\n"
     ]
    }
   ],
   "source": [
    "from sklearn.feature_extraction.text import TfidfVectorizer\n",
    "vectorizer = TfidfVectorizer(stop_words=\"english\")\n",
    "vectorizer.fit_transform(word_data)\n",
    "print(len(vectorizer.get_feature_names()))"
   ]
  },
  {
   "cell_type": "markdown",
   "metadata": {},
   "source": [
    "### feature selection"
   ]
  },
  {
   "cell_type": "markdown",
   "metadata": {},
   "source": [
    "Katie explained in a video a problem that arose in preparing Chris and Sara’s email for the author identification project; it had to do with a feature that was a little too powerful (effectively acting like a signature, which gives an arguably unfair advantage to an algorithm). You’ll work through that discovery process here."
   ]
  },
  {
   "cell_type": "markdown",
   "metadata": {},
   "source": [
    "This bug was found when Katie was trying to make an overfit decision tree to use as an example in the decision tree mini-project. A decision tree is classically an algorithm that can be easy to overfit; one of the easiest ways to get an overfit decision tree is to use a small training set and lots of features.\n",
    "If a decision tree is overfit, you can expect the accuracy on a test set to be pretty low"
   ]
  },
  {
   "cell_type": "code",
   "execution_count": 273,
   "metadata": {},
   "outputs": [
    {
     "name": "stdout",
     "output_type": "stream",
     "text": [
      "150\n",
      "training time: 0.082 s\n",
      "0.947098976109\n",
      "prediction time: 0.227 s\n"
     ]
    }
   ],
   "source": [
    "import pickle\n",
    "import numpy\n",
    "numpy.random.seed(42)\n",
    "\n",
    "\n",
    "### The words (features) and authors (labels), already largely processed.\n",
    "### These files should have been created from the previous (Lesson 10)\n",
    "### mini-project.\n",
    "words_file = \"your_word_data.pkl\" \n",
    "authors_file = \"your_email_authors.pkl\"\n",
    "word_data = pickle.load( open(words_file, \"rb\"))\n",
    "authors = pickle.load( open(authors_file, \"rb\") )\n",
    "\n",
    "\n",
    "\n",
    "### test_size is the percentage of events assigned to the test set (the\n",
    "### remainder go into training)\n",
    "### feature matrices changed to dense representations for compatibility with\n",
    "### classifier functions in versions 0.15.2 and earlier\n",
    "from sklearn import cross_validation\n",
    "features_train, features_test, labels_train, labels_test = cross_validation.train_test_split(word_data, authors, test_size=0.1, random_state=42)\n",
    "\n",
    "from sklearn.feature_extraction.text import TfidfVectorizer\n",
    "vectorizer = TfidfVectorizer(sublinear_tf=True, max_df=0.5,\n",
    "                             stop_words='english')\n",
    "features_train = vectorizer.fit_transform(features_train)\n",
    "features_test  = vectorizer.transform(features_test).toarray()\n",
    "\n",
    "\n",
    "### a classic way to overfit is to use a small number\n",
    "### of data points and a large number of features;\n",
    "### train on only 150 events to put ourselves in this regime\n",
    "features_train = features_train[:150].toarray()\n",
    "labels_train   = labels_train[:150]\n",
    "\n",
    "\n",
    "\n",
    "### your code goes here\n",
    "print(len(labels_train))\n",
    "from sklearn import tree\n",
    "t0 = time()\n",
    "clf_DT = tree.DecisionTreeClassifier()\n",
    "clf_DT.fit(features_train, labels_train)\n",
    "print(\"training time:\", round(time()-t0, 3), \"s\")\n",
    "\n",
    "t0 = time()\n",
    "acc = accuracy_score(clf_DT.predict(features_test), labels_test)\n",
    "print(acc)\n",
    "print(\"prediction time:\", round(time()-t0, 3), \"s\")\n",
    "\n"
   ]
  },
  {
   "cell_type": "markdown",
   "metadata": {},
   "source": [
    "Take your (overfit) decision tree and use the feature_importances_ attribute to get a list of the relative importance of all the features being used. We suggest iterating through this list (it’s long, since this is text data) and only printing out the feature importance if it’s above some threshold (say, 0.2--remember, if all words were equally important, each one would give an importance of far less than 0.01). What’s the importance of the most important feature? What is the number of this feature?"
   ]
  },
  {
   "cell_type": "code",
   "execution_count": 276,
   "metadata": {},
   "outputs": [
    {
     "name": "stdout",
     "output_type": "stream",
     "text": [
      "9575 0.134028294862\n",
      "19590 0.0263157894737\n",
      "19743 0.0749500333111\n",
      "33698 0.764705882353\n"
     ]
    }
   ],
   "source": [
    "for i,val in enumerate(clf_DT.feature_importances_):\n",
    "    if val != 0:\n",
    "        print(i,val)"
   ]
  },
  {
   "cell_type": "markdown",
   "metadata": {},
   "source": [
    "In order to figure out what words are causing the problem, you need to go back to the TfIdf and use the feature numbers that you obtained in the previous part of the mini-project to get the associated words. You can return a list of all the words in the TfIdf by calling get_feature_names() on it; pull out the word that’s causing most of the discrimination of the decision tree. What is it? Does it make sense as a word that’s uniquely tied to either Chris Germany or Sara Shackleton, a signature of sorts?"
   ]
  },
  {
   "cell_type": "code",
   "execution_count": 277,
   "metadata": {},
   "outputs": [
    {
     "name": "stdout",
     "output_type": "stream",
     "text": [
      "sshacklensf\n"
     ]
    }
   ],
   "source": [
    "print(vectorizer.get_feature_names()[33698 ])"
   ]
  },
  {
   "cell_type": "markdown",
   "metadata": {},
   "source": [
    "This word seems like an outlier in a certain sense, so let’s remove it and refit. Go back to remove this word from the emails using the same method you used to remove “sara”, “chris”, etc. And once that finishes, rerun back. Any other outliers pop up? What word is it? Seem like a signature-type word? (Define an outlier as a feature with importance >0.2, as before)."
   ]
  },
  {
   "cell_type": "code",
   "execution_count": 281,
   "metadata": {},
   "outputs": [
    {
     "name": "stdout",
     "output_type": "stream",
     "text": [
      "emails processed\n",
      "tjonesnsf stephani and sam need nymex calendar \n",
      "0\n",
      "38820\n"
     ]
    }
   ],
   "source": [
    "import os\n",
    "import pickle\n",
    "import re\n",
    "import sys\n",
    "\n",
    "from_sara  = open(\"data/from_sara.txt\", \"r\")\n",
    "from_chris = open(\"data/from_chris.txt\", \"r\")\n",
    "\n",
    "from_data = []\n",
    "word_data = []\n",
    "\n",
    "\n",
    "for name, from_person in [(\"sara\", from_sara), (\"chris\", from_chris)]:\n",
    "    for path in from_person:\n",
    "        email = open(path[:-1], \"r\") # -1 to remove the \\n at the end\n",
    "\n",
    "        ### use parseOutText to extract the text from the opened email\n",
    "        temp_data = parseOutText(email)\n",
    "        ### use str.replace() to remove any instances of the words\n",
    "        ### [\"sara\", \"shackleton\", \"chris\", \"germani\"]\n",
    "        temp_data = re.sub(r'\\bsara\\b', '', temp_data)\n",
    "        temp_data = re.sub(r'\\bshackleton\\b', '', temp_data)\n",
    "        temp_data = re.sub(r'\\bchris\\b', '', temp_data)\n",
    "        temp_data = re.sub(r'\\bgermani\\b', '', temp_data)\n",
    "        temp_data = re.sub(r'\\bsshacklensf\\b', '', temp_data)\n",
    "        ### append the text to word_data\n",
    "        word_data.append(temp_data)\n",
    "        ### append a 0 to from_data if email is from Sara, and 1 if email is from Chris\n",
    "        if name == 'sara':\n",
    "            from_data.append(0)\n",
    "        else:\n",
    "            from_data.append(1)\n",
    "\n",
    "        email.close()\n",
    "\n",
    "print( \"emails processed\")\n",
    "from_sara.close()\n",
    "from_chris.close()\n",
    "\n",
    "print(word_data[152])\n",
    "print(from_data[152])\n",
    "pickle.dump( word_data, open(\"your_word_data2.pkl\", \"wb\") )\n",
    "pickle.dump( from_data, open(\"your_email_authors2.pkl\", \"wb\") )\n",
    "\n",
    "\n",
    "from sklearn.feature_extraction.text import TfidfVectorizer\n",
    "vectorizer = TfidfVectorizer(stop_words=\"english\")\n",
    "vectorizer.fit_transform(word_data)\n",
    "print(len(vectorizer.get_feature_names()))\n",
    "\n"
   ]
  },
  {
   "cell_type": "code",
   "execution_count": 282,
   "metadata": {},
   "outputs": [
    {
     "name": "stdout",
     "output_type": "stream",
     "text": [
      "150\n",
      "training time: 0.085 s\n",
      "0.968714448237\n",
      "prediction time: 0.235 s\n",
      "8677 0.162601626016\n",
      "13866 0.0263157894737\n",
      "14343 0.0506072874494\n",
      "14349 0.666666666667\n",
      "16342 0.093808630394\n"
     ]
    }
   ],
   "source": [
    "import pickle\n",
    "import numpy\n",
    "numpy.random.seed(42)\n",
    "\n",
    "\n",
    "words_file = \"your_word_data2.pkl\" \n",
    "authors_file = \"your_email_authors2.pkl\"\n",
    "word_data = pickle.load( open(words_file, \"rb\"))\n",
    "authors = pickle.load( open(authors_file, \"rb\") )\n",
    "\n",
    "from sklearn import cross_validation\n",
    "features_train, features_test, labels_train, labels_test = cross_validation.train_test_split(word_data, authors, test_size=0.1, random_state=42)\n",
    "\n",
    "from sklearn.feature_extraction.text import TfidfVectorizer\n",
    "vectorizer = TfidfVectorizer(sublinear_tf=True, max_df=0.5,\n",
    "                             stop_words='english')\n",
    "features_train = vectorizer.fit_transform(features_train)\n",
    "features_test  = vectorizer.transform(features_test).toarray()\n",
    "\n",
    "\n",
    "features_train = features_train[:150].toarray()\n",
    "labels_train   = labels_train[:150]\n",
    "\n",
    "print(len(labels_train))\n",
    "from sklearn import tree\n",
    "t0 = time()\n",
    "clf_DT = tree.DecisionTreeClassifier()\n",
    "clf_DT.fit(features_train, labels_train)\n",
    "print(\"training time:\", round(time()-t0, 3), \"s\")\n",
    "\n",
    "t0 = time()\n",
    "acc = accuracy_score(clf_DT.predict(features_test), labels_test)\n",
    "print(acc)\n",
    "print(\"prediction time:\", round(time()-t0, 3), \"s\")\n",
    "for i,val in enumerate(clf_DT.feature_importances_):\n",
    "    if val != 0:\n",
    "        print(i,val)"
   ]
  },
  {
   "cell_type": "code",
   "execution_count": 283,
   "metadata": {},
   "outputs": [
    {
     "name": "stdout",
     "output_type": "stream",
     "text": [
      "cgermannsf\n"
     ]
    }
   ],
   "source": [
    "print(vectorizer.get_feature_names()[14349])"
   ]
  },
  {
   "cell_type": "markdown",
   "metadata": {},
   "source": [
    "Update vectorize_test.py one more time, and rerun. Then run find_signature.py again. Any other important features (importance>0.2) arise? How many? Do any of them look like “signature words”, or are they more “email content” words, that look like they legitimately come from the text of the messages?"
   ]
  },
  {
   "cell_type": "code",
   "execution_count": 284,
   "metadata": {},
   "outputs": [
    {
     "name": "stdout",
     "output_type": "stream",
     "text": [
      "emails processed\n",
      "tjonesnsf stephani and sam need nymex calendar \n",
      "0\n",
      "38819\n",
      "150\n",
      "training time: 0.102 s\n",
      "0.817406143345\n",
      "prediction time: 0.239 s\n",
      "11979 0.105378579003\n",
      "15441 0.0177777777778\n",
      "17322 0.0426666666667\n",
      "18920 0.186927243449\n",
      "19340 0.0262801932367\n",
      "22604 0.0840692099229\n",
      "25592 0.0255293305728\n",
      "29184 0.0248101945003\n",
      "29744 0.0618027481126\n",
      "32714 0.363636363636\n",
      "33983 0.0474074074074\n",
      "34942 0.0137142857143\n"
     ]
    }
   ],
   "source": [
    "import os\n",
    "import pickle\n",
    "import re\n",
    "import sys\n",
    "\n",
    "from_sara  = open(\"data/from_sara.txt\", \"r\")\n",
    "from_chris = open(\"data/from_chris.txt\", \"r\")\n",
    "\n",
    "from_data = []\n",
    "word_data = []\n",
    "\n",
    "\n",
    "for name, from_person in [(\"sara\", from_sara), (\"chris\", from_chris)]:\n",
    "    for path in from_person:\n",
    "        email = open(path[:-1], \"r\") # -1 to remove the \\n at the end\n",
    "\n",
    "        ### use parseOutText to extract the text from the opened email\n",
    "        temp_data = parseOutText(email)\n",
    "        ### use str.replace() to remove any instances of the words\n",
    "        ### [\"sara\", \"shackleton\", \"chris\", \"germani\"]\n",
    "        temp_data = re.sub(r'\\bsara\\b', '', temp_data)\n",
    "        temp_data = re.sub(r'\\bshackleton\\b', '', temp_data)\n",
    "        temp_data = re.sub(r'\\bchris\\b', '', temp_data)\n",
    "        temp_data = re.sub(r'\\bgermani\\b', '', temp_data)\n",
    "        temp_data = re.sub(r'\\bsshacklensf\\b', '', temp_data)\n",
    "        temp_data = re.sub(r'\\bcgermannsf\\b', '', temp_data)\n",
    "        ### append the text to word_data\n",
    "        word_data.append(temp_data)\n",
    "        ### append a 0 to from_data if email is from Sara, and 1 if email is from Chris\n",
    "        if name == 'sara':\n",
    "            from_data.append(0)\n",
    "        else:\n",
    "            from_data.append(1)\n",
    "\n",
    "        email.close()\n",
    "\n",
    "print( \"emails processed\")\n",
    "from_sara.close()\n",
    "from_chris.close()\n",
    "\n",
    "print(word_data[152])\n",
    "print(from_data[152])\n",
    "pickle.dump( word_data, open(\"your_word_data3.pkl\", \"wb\") )\n",
    "pickle.dump( from_data, open(\"your_email_authors3.pkl\", \"wb\") )\n",
    "\n",
    "\n",
    "from sklearn.feature_extraction.text import TfidfVectorizer\n",
    "vectorizer = TfidfVectorizer(stop_words=\"english\")\n",
    "vectorizer.fit_transform(word_data)\n",
    "print(len(vectorizer.get_feature_names()))\n",
    "\n",
    "import pickle\n",
    "import numpy\n",
    "numpy.random.seed(42)\n",
    "\n",
    "\n",
    "words_file = \"your_word_data3.pkl\" \n",
    "authors_file = \"your_email_authors3.pkl\"\n",
    "word_data = pickle.load( open(words_file, \"rb\"))\n",
    "authors = pickle.load( open(authors_file, \"rb\") )\n",
    "\n",
    "from sklearn import cross_validation\n",
    "features_train, features_test, labels_train, labels_test = cross_validation.train_test_split(word_data, authors, test_size=0.1, random_state=42)\n",
    "\n",
    "from sklearn.feature_extraction.text import TfidfVectorizer\n",
    "vectorizer = TfidfVectorizer(sublinear_tf=True, max_df=0.5,\n",
    "                             stop_words='english')\n",
    "features_train = vectorizer.fit_transform(features_train)\n",
    "features_test  = vectorizer.transform(features_test).toarray()\n",
    "\n",
    "\n",
    "features_train = features_train[:150].toarray()\n",
    "labels_train   = labels_train[:150]\n",
    "\n",
    "print(len(labels_train))\n",
    "from sklearn import tree\n",
    "t0 = time()\n",
    "clf_DT = tree.DecisionTreeClassifier()\n",
    "clf_DT.fit(features_train, labels_train)\n",
    "print(\"training time:\", round(time()-t0, 3), \"s\")\n",
    "\n",
    "t0 = time()\n",
    "acc = accuracy_score(clf_DT.predict(features_test), labels_test)\n",
    "print(acc)\n",
    "print(\"prediction time:\", round(time()-t0, 3), \"s\")\n",
    "for i,val in enumerate(clf_DT.feature_importances_):\n",
    "    if val != 0:\n",
    "        print(i,val)"
   ]
  },
  {
   "cell_type": "code",
   "execution_count": null,
   "metadata": {
    "collapsed": true
   },
   "outputs": [],
   "source": [
    "print(vectorizer.get_feature_names()[14349])"
   ]
  },
  {
   "cell_type": "markdown",
   "metadata": {},
   "source": [
    "What’s the accuracy of the decision tree now? We've removed two \"signature words\", so it will be more difficult for the algorithm to fit to our limited training set without overfitting. Remember, the whole point was to see if we could get the algorithm to overfit--a sensible result is one where the accuracy isn't that great!"
   ]
  },
  {
   "cell_type": "markdown",
   "metadata": {},
   "source": [
    "### PCA"
   ]
  },
  {
   "cell_type": "markdown",
   "metadata": {},
   "source": [
    "PCA Mini-Project\n",
    "Our discussion of PCA spent a lot of time on theoretical issues, so in this mini-project we’ll ask you to play around with some sklearn code. The eigenfaces code is interesting and rich enough to serve as the testbed for this entire mini-project.\n",
    "\n",
    "This was mostly taken from the example found here, on the sklearn documentation.\n",
    "Take note when running the code, that there are changes in one of the parameters for the SVC function. For the 'class_weight' parameter, the argument string \"auto\" is a valid value for sklearn version 0.16 and prior, but will be depreciated by 0.19. If you are running sklearn version 0.17 or later, the expected argument string should be \"balanced\". If you get an error or warning when running pca/eigenfaces.py, make sure that you have the correct argument on line 98 that matches your installed version of sklearn."
   ]
  },
  {
   "cell_type": "code",
   "execution_count": 289,
   "metadata": {},
   "outputs": [
    {
     "name": "stdout",
     "output_type": "stream",
     "text": [
      "\n",
      "===================================================\n",
      "Faces recognition example using eigenfaces and SVMs\n",
      "===================================================\n",
      "\n",
      "The dataset used in this example is a preprocessed excerpt of the\n",
      "\"Labeled Faces in the Wild\", aka LFW_:\n",
      "\n",
      "  http://vis-www.cs.umass.edu/lfw/lfw-funneled.tgz (233MB)\n",
      "\n",
      "  .. _LFW: http://vis-www.cs.umass.edu/lfw/\n",
      "\n",
      "  original source: http://scikit-learn.org/stable/auto_examples/applications/face_recognition.html\n",
      "\n",
      "\n",
      "Total dataset size:\n",
      "n_samples: 1288\n",
      "n_features: 1850\n",
      "n_classes: 7\n",
      "Extracting the top 150 eigenfaces from 966 faces\n",
      "done in 0.049s\n",
      "Projecting the input data on the eigenfaces orthonormal basis\n",
      "done in 0.009s\n"
     ]
    },
    {
     "name": "stderr",
     "output_type": "stream",
     "text": [
      "C:\\ProgramData\\Anaconda3\\envs\\ttf\\lib\\site-packages\\sklearn\\utils\\deprecation.py:57: DeprecationWarning: Class RandomizedPCA is deprecated; RandomizedPCA was deprecated in 0.18 and will be removed in 0.20. Use PCA(svd_solver='randomized') instead. The new implementation DOES NOT store whiten ``components_``. Apply transform to get them.\n",
      "  warnings.warn(msg, category=DeprecationWarning)\n"
     ]
    },
    {
     "name": "stdout",
     "output_type": "stream",
     "text": [
      "Fitting the classifier to the training set\n",
      "done in 16.210s\n",
      "Best estimator found by grid search:\n",
      "SVC(C=1000.0, cache_size=200, class_weight='balanced', coef0=0.0,\n",
      "  decision_function_shape='ovr', degree=3, gamma=0.005, kernel='rbf',\n",
      "  max_iter=-1, probability=False, random_state=None, shrinking=True,\n",
      "  tol=0.001, verbose=False)\n",
      "Predicting the people names on the testing set\n",
      "done in 0.053s\n",
      "                   precision    recall  f1-score   support\n",
      "\n",
      "     Ariel Sharon       0.70      0.54      0.61        13\n",
      "     Colin Powell       0.83      0.87      0.85        60\n",
      "  Donald Rumsfeld       0.94      0.63      0.76        27\n",
      "    George W Bush       0.83      0.98      0.90       146\n",
      "Gerhard Schroeder       0.95      0.76      0.84        25\n",
      "      Hugo Chavez       1.00      0.47      0.64        15\n",
      "       Tony Blair       0.94      0.81      0.87        36\n",
      "\n",
      "      avg / total       0.86      0.85      0.84       322\n",
      "\n",
      "[[  7   1   0   5   0   0   0]\n",
      " [  1  52   0   7   0   0   0]\n",
      " [  1   2  17   6   0   0   1]\n",
      " [  0   3   0 143   0   0   0]\n",
      " [  0   1   0   4  19   0   1]\n",
      " [  0   3   0   4   1   7   0]\n",
      " [  1   1   1   4   0   0  29]]\n"
     ]
    },
    {
     "data": {
      "image/png": "[encoded data removed]",
      "text/plain": [
       "<matplotlib.figure.Figure at 0x1a509540390>"
      ]
     },
     "metadata": {},
     "output_type": "display_data"
    },
    {
     "data": {
      "image/png": "[encoded data removed]",
      "text/plain": [
       "<matplotlib.figure.Figure at 0x1a5058a8b70>"
      ]
     },
     "metadata": {},
     "output_type": "display_data"
    }
   ],
   "source": [
    "\"\"\"\n",
    "===================================================\n",
    "Faces recognition example using eigenfaces and SVMs\n",
    "===================================================\n",
    "\n",
    "The dataset used in this example is a preprocessed excerpt of the\n",
    "\"Labeled Faces in the Wild\", aka LFW_:\n",
    "\n",
    "  http://vis-www.cs.umass.edu/lfw/lfw-funneled.tgz (233MB)\n",
    "\n",
    "  .. _LFW: http://vis-www.cs.umass.edu/lfw/\n",
    "\n",
    "  original source: http://scikit-learn.org/stable/auto_examples/applications/face_recognition.html\n",
    "\n",
    "\"\"\"\n",
    "print(__doc__)\n",
    "\n",
    "from time import time\n",
    "import logging\n",
    "import pylab as pl\n",
    "import numpy as np\n",
    "\n",
    "from sklearn.cross_validation import train_test_split\n",
    "from sklearn.datasets import fetch_lfw_people\n",
    "from sklearn.grid_search import GridSearchCV\n",
    "from sklearn.metrics import classification_report\n",
    "from sklearn.metrics import confusion_matrix\n",
    "from sklearn.decomposition import RandomizedPCA\n",
    "from sklearn.svm import SVC\n",
    "\n",
    "# Display progress logs on stdout\n",
    "logging.basicConfig(level=logging.INFO, format='%(asctime)s %(message)s')\n",
    "\n",
    "###############################################################################\n",
    "# Download the data, if not already on disk and load it as numpy arrays\n",
    "lfw_people = fetch_lfw_people(min_faces_per_person=70, resize=0.4)\n",
    "\n",
    "# introspect the images arrays to find the shapes (for plotting)\n",
    "n_samples, h, w = lfw_people.images.shape\n",
    "np.random.seed(42)\n",
    "\n",
    "# for machine learning we use the data directly (as relative pixel\n",
    "# position info is ignored by this model)\n",
    "X = lfw_people.data\n",
    "n_features = X.shape[1]\n",
    "\n",
    "# the label to predict is the id of the person\n",
    "y = lfw_people.target\n",
    "target_names = lfw_people.target_names\n",
    "n_classes = target_names.shape[0]\n",
    "\n",
    "print( \"Total dataset size:\")\n",
    "print( \"n_samples: %d\" % n_samples)\n",
    "print (\"n_features: %d\" % n_features)\n",
    "print (\"n_classes: %d\" % n_classes)\n",
    "\n",
    "\n",
    "###############################################################################\n",
    "# Split into a training and testing set\n",
    "X_train, X_test, y_train, y_test = train_test_split(X, y, test_size=0.25, random_state=42)\n",
    "\n",
    "###############################################################################\n",
    "# Compute a PCA (eigenfaces) on the face dataset (treated as unlabeled\n",
    "# dataset): unsupervised feature extraction / dimensionality reduction\n",
    "n_components = 150\n",
    "\n",
    "print( \"Extracting the top %d eigenfaces from %d faces\" % (n_components, X_train.shape[0]))\n",
    "t0 = time()\n",
    "pca = RandomizedPCA(n_components=n_components, whiten=True).fit(X_train)\n",
    "print( \"done in %0.3fs\" % (time() - t0))\n",
    "\n",
    "eigenfaces = pca.components_.reshape((n_components, h, w))\n",
    "\n",
    "print( \"Projecting the input data on the eigenfaces orthonormal basis\")\n",
    "t0 = time()\n",
    "X_train_pca = pca.transform(X_train)\n",
    "X_test_pca = pca.transform(X_test)\n",
    "print( \"done in %0.3fs\" % (time() - t0))\n",
    "\n",
    "\n",
    "###############################################################################\n",
    "# Train a SVM classification model\n",
    "\n",
    "print(\"Fitting the classifier to the training set\")\n",
    "      \n",
    "t0 = time()\n",
    "param_grid = {\n",
    "         'C': [1e3, 5e3, 1e4, 5e4, 1e5],\n",
    "          'gamma': [0.0001, 0.0005, 0.001, 0.005, 0.01, 0.1],\n",
    "          }\n",
    "# for sklearn version 0.16 or prior, the class_weight parameter value is 'auto'\n",
    "clf = GridSearchCV(SVC(kernel='rbf', class_weight='balanced'), param_grid)\n",
    "clf = clf.fit(X_train_pca, y_train)\n",
    "print( \"done in %0.3fs\" % (time() - t0))\n",
    "print( \"Best estimator found by grid search:\")\n",
    "print( clf.best_estimator_)\n",
    "\n",
    "\n",
    "###############################################################################\n",
    "# Quantitative evaluation of the model quality on the test set\n",
    "\n",
    "print( \"Predicting the people names on the testing set\")\n",
    "t0 = time()\n",
    "y_pred = clf.predict(X_test_pca)\n",
    "print( \"done in %0.3fs\" % (time() - t0))\n",
    "\n",
    "print( classification_report(y_test, y_pred, target_names=target_names))\n",
    "print (confusion_matrix(y_test, y_pred, labels=range(n_classes)))\n",
    "\n",
    "\n",
    "###############################################################################\n",
    "# Qualitative evaluation of the predictions using matplotlib\n",
    "\n",
    "def plot_gallery(images, titles, h, w, n_row=3, n_col=4):\n",
    "    \"\"\"Helper function to plot a gallery of portraits\"\"\"\n",
    "    pl.figure(figsize=(1.8 * n_col, 2.4 * n_row))\n",
    "    pl.subplots_adjust(bottom=0, left=.01, right=.99, top=.90, hspace=.35)\n",
    "    for i in range(n_row * n_col):\n",
    "        pl.subplot(n_row, n_col, i + 1)\n",
    "        pl.imshow(images[i].reshape((h, w)), cmap=pl.cm.gray)\n",
    "        pl.title(titles[i], size=12)\n",
    "        pl.xticks(())\n",
    "        pl.yticks(())\n",
    "\n",
    "\n",
    "# plot the result of the prediction on a portion of the test set\n",
    "\n",
    "def title(y_pred, y_test, target_names, i):\n",
    "    pred_name = target_names[y_pred[i]].rsplit(' ', 1)[-1]\n",
    "    true_name = target_names[y_test[i]].rsplit(' ', 1)[-1]\n",
    "    return 'predicted: %s\\ntrue:      %s' % (pred_name, true_name)\n",
    "\n",
    "prediction_titles = [title(y_pred, y_test, target_names, i)\n",
    "                         for i in range(y_pred.shape[0])]\n",
    "\n",
    "plot_gallery(X_test, prediction_titles, h, w)\n",
    "\n",
    "# plot the gallery of the most significative eigenfaces\n",
    "\n",
    "eigenface_titles = [\"eigenface %d\" % i for i in range(eigenfaces.shape[0])]\n",
    "plot_gallery(eigenfaces, eigenface_titles, h, w)\n",
    "\n",
    "pl.show()\n"
   ]
  },
  {
   "cell_type": "markdown",
   "metadata": {},
   "source": [
    "We mentioned that PCA will order the principal components, with the first PC giving the direction of maximal variance, second PC has second-largest variance, and so on. How much of the variance is explained by the first principal component? The second?"
   ]
  },
  {
   "cell_type": "code",
   "execution_count": 291,
   "metadata": {},
   "outputs": [
    {
     "data": {
      "text/plain": [
       "array([ 0.19346534,  0.15116844,  0.07083676,  0.05951789,  0.05157496,\n",
       "        0.02887157,  0.02514488,  0.02176469,  0.02019382,  0.01902124,\n",
       "        0.01682212,  0.01580598,  0.01223364,  0.01087937,  0.01064453,\n",
       "        0.00979653,  0.00892398,  0.00854844,  0.0083571 ,  0.00722635,\n",
       "        0.00696569,  0.00653856,  0.00639557,  0.00561316,  0.00531106,\n",
       "        0.00520151,  0.00507464,  0.00484208,  0.00443587,  0.00417828,\n",
       "        0.00393703,  0.00381726,  0.00356056,  0.00351197,  0.0033455 ,\n",
       "        0.00329926,  0.00314617,  0.0029621 ,  0.00290121,  0.00284714,\n",
       "        0.00279994,  0.00267542,  0.00259886,  0.00258392,  0.00240906,\n",
       "        0.00238966,  0.0023538 ,  0.00222561,  0.00217476,  0.00216537,\n",
       "        0.00208985,  0.00205375,  0.00200398,  0.00197357,  0.0019379 ,\n",
       "        0.00188716,  0.00180124,  0.00178837,  0.00174787,  0.00172993,\n",
       "        0.00165604,  0.00162909,  0.00157346,  0.00153322,  0.00149861,\n",
       "        0.00147128,  0.00143771,  0.00141791,  0.00139591,  0.00137999,\n",
       "        0.0013382 ,  0.00133076,  0.00128604,  0.00125402,  0.00124079,\n",
       "        0.0012171 ,  0.00120738,  0.00117953,  0.00114901,  0.00113271,\n",
       "        0.00112123,  0.00111286,  0.00108993,  0.00106546,  0.00105263,\n",
       "        0.00103958,  0.00102097,  0.00101404,  0.00099459,  0.00095842,\n",
       "        0.00093898,  0.00091351,  0.00090572,  0.00088503,  0.00086777,\n",
       "        0.00085695,  0.00083899,  0.00083255,  0.00082383,  0.0007976 ,\n",
       "        0.00077893,  0.00077355,  0.00075033,  0.00074292,  0.00073578,\n",
       "        0.00072496,  0.00071939,  0.00070232,  0.00069637,  0.00068269,\n",
       "        0.00065857,  0.00065136,  0.00064193,  0.00062524,  0.00061849,\n",
       "        0.00061072,  0.00059696,  0.00059525,  0.00059069,  0.00057772,\n",
       "        0.00056216,  0.00055717,  0.0005526 ,  0.0005451 ,  0.00052818,\n",
       "        0.00051666,  0.00051053,  0.00049967,  0.00048805,  0.00048353,\n",
       "        0.0004815 ,  0.00047465,  0.00046009,  0.00045221,  0.0004452 ,\n",
       "        0.00043948,  0.00043732,  0.00042306,  0.0004209 ,  0.00041334,\n",
       "        0.0004062 ,  0.00039708,  0.00038874,  0.00038511,  0.00037191,\n",
       "        0.00036935,  0.00035989,  0.00035189,  0.00034068,  0.00033535], dtype=float32)"
      ]
     },
     "execution_count": 291,
     "metadata": {},
     "output_type": "execute_result"
    }
   ],
   "source": [
    "pca.explained_variance_ratio_"
   ]
  },
  {
   "cell_type": "markdown",
   "metadata": {},
   "source": [
    "Now you'll experiment with keeping different numbers of principal components. In a multiclass classification problem like this one (more than 2 labels to apply), accuracy is a less-intuitive metric than in the 2-class case. Instead, a popular metric is the F1 score.\n",
    "\n",
    "We’ll learn about the F1 score properly in the lesson on evaluation metrics, but you’ll figure out for yourself whether a good classifier is characterized by a high or low F1 score. You’ll do this by varying the number of principal components and watching how the F1 score changes in response.\n",
    "\n",
    "As you add more principal components as features for training your classifier, do you expect it to get better or worse performance?"
   ]
  },
  {
   "cell_type": "code",
   "execution_count": 292,
   "metadata": {},
   "outputs": [
    {
     "name": "stdout",
     "output_type": "stream",
     "text": [
      "Extracting the top 100 eigenfaces from 966 faces\n",
      "done in 0.096s\n",
      "Projecting the input data on the eigenfaces orthonormal basis\n",
      "done in 0.008s\n",
      "Fitting the classifier to the training set\n"
     ]
    },
    {
     "name": "stderr",
     "output_type": "stream",
     "text": [
      "C:\\ProgramData\\Anaconda3\\envs\\ttf\\lib\\site-packages\\sklearn\\utils\\deprecation.py:57: DeprecationWarning: Class RandomizedPCA is deprecated; RandomizedPCA was deprecated in 0.18 and will be removed in 0.20. Use PCA(svd_solver='randomized') instead. The new implementation DOES NOT store whiten ``components_``. Apply transform to get them.\n",
      "  warnings.warn(msg, category=DeprecationWarning)\n"
     ]
    },
    {
     "name": "stdout",
     "output_type": "stream",
     "text": [
      "done in 10.181s\n",
      "Best estimator found by grid search:\n",
      "SVC(C=1000.0, cache_size=200, class_weight='balanced', coef0=0.0,\n",
      "  decision_function_shape='ovr', degree=3, gamma=0.005, kernel='rbf',\n",
      "  max_iter=-1, probability=False, random_state=None, shrinking=True,\n",
      "  tol=0.001, verbose=False)\n",
      "Predicting the people names on the testing set\n",
      "done in 0.032s\n",
      "                   precision    recall  f1-score   support\n",
      "\n",
      "     Ariel Sharon       0.67      0.62      0.64        13\n",
      "     Colin Powell       0.83      0.90      0.86        60\n",
      "  Donald Rumsfeld       0.75      0.67      0.71        27\n",
      "    George W Bush       0.91      0.96      0.93       146\n",
      "Gerhard Schroeder       0.83      0.80      0.82        25\n",
      "      Hugo Chavez       0.91      0.67      0.77        15\n",
      "       Tony Blair       0.91      0.81      0.85        36\n",
      "\n",
      "      avg / total       0.87      0.87      0.86       322\n",
      "\n",
      "[[  8   1   3   1   0   0   0]\n",
      " [  1  54   1   3   0   1   0]\n",
      " [  2   1  18   6   0   0   0]\n",
      " [  1   4   1 140   0   0   0]\n",
      " [  0   1   0   2  20   0   2]\n",
      " [  0   3   0   0   1  10   1]\n",
      " [  0   1   1   2   3   0  29]]\n"
     ]
    },
    {
     "data": {
      "image/png": "[encoded data removed]",
      "text/plain": [
       "<matplotlib.figure.Figure at 0x1a509b4c9b0>"
      ]
     },
     "metadata": {},
     "output_type": "display_data"
    },
    {
     "data": {
      "image/png": "[encoded data removed]",
      "text/plain": [
       "<matplotlib.figure.Figure at 0x1a5092722b0>"
      ]
     },
     "metadata": {},
     "output_type": "display_data"
    }
   ],
   "source": [
    "n_components = 100\n",
    "\n",
    "print( \"Extracting the top %d eigenfaces from %d faces\" % (n_components, X_train.shape[0]))\n",
    "t0 = time()\n",
    "pca = RandomizedPCA(n_components=n_components, whiten=True).fit(X_train)\n",
    "print( \"done in %0.3fs\" % (time() - t0))\n",
    "\n",
    "eigenfaces = pca.components_.reshape((n_components, h, w))\n",
    "\n",
    "print( \"Projecting the input data on the eigenfaces orthonormal basis\")\n",
    "t0 = time()\n",
    "X_train_pca = pca.transform(X_train)\n",
    "X_test_pca = pca.transform(X_test)\n",
    "print( \"done in %0.3fs\" % (time() - t0))\n",
    "\n",
    "\n",
    "###############################################################################\n",
    "# Train a SVM classification model\n",
    "\n",
    "print(\"Fitting the classifier to the training set\")\n",
    "      \n",
    "t0 = time()\n",
    "param_grid = {\n",
    "         'C': [1e3, 5e3, 1e4, 5e4, 1e5],\n",
    "          'gamma': [0.0001, 0.0005, 0.001, 0.005, 0.01, 0.1],\n",
    "          }\n",
    "# for sklearn version 0.16 or prior, the class_weight parameter value is 'auto'\n",
    "clf = GridSearchCV(SVC(kernel='rbf', class_weight='balanced'), param_grid)\n",
    "clf = clf.fit(X_train_pca, y_train)\n",
    "print( \"done in %0.3fs\" % (time() - t0))\n",
    "print( \"Best estimator found by grid search:\")\n",
    "print( clf.best_estimator_)\n",
    "\n",
    "\n",
    "###############################################################################\n",
    "# Quantitative evaluation of the model quality on the test set\n",
    "\n",
    "print( \"Predicting the people names on the testing set\")\n",
    "t0 = time()\n",
    "y_pred = clf.predict(X_test_pca)\n",
    "print( \"done in %0.3fs\" % (time() - t0))\n",
    "\n",
    "print( classification_report(y_test, y_pred, target_names=target_names))\n",
    "print (confusion_matrix(y_test, y_pred, labels=range(n_classes)))\n",
    "\n",
    "\n",
    "###############################################################################\n",
    "# Qualitative evaluation of the predictions using matplotlib\n",
    "\n",
    "def plot_gallery(images, titles, h, w, n_row=3, n_col=4):\n",
    "    \"\"\"Helper function to plot a gallery of portraits\"\"\"\n",
    "    pl.figure(figsize=(1.8 * n_col, 2.4 * n_row))\n",
    "    pl.subplots_adjust(bottom=0, left=.01, right=.99, top=.90, hspace=.35)\n",
    "    for i in range(n_row * n_col):\n",
    "        pl.subplot(n_row, n_col, i + 1)\n",
    "        pl.imshow(images[i].reshape((h, w)), cmap=pl.cm.gray)\n",
    "        pl.title(titles[i], size=12)\n",
    "        pl.xticks(())\n",
    "        pl.yticks(())\n",
    "\n",
    "\n",
    "# plot the result of the prediction on a portion of the test set\n",
    "\n",
    "def title(y_pred, y_test, target_names, i):\n",
    "    pred_name = target_names[y_pred[i]].rsplit(' ', 1)[-1]\n",
    "    true_name = target_names[y_test[i]].rsplit(' ', 1)[-1]\n",
    "    return 'predicted: %s\\ntrue:      %s' % (pred_name, true_name)\n",
    "\n",
    "prediction_titles = [title(y_pred, y_test, target_names, i)\n",
    "                         for i in range(y_pred.shape[0])]\n",
    "\n",
    "plot_gallery(X_test, prediction_titles, h, w)\n",
    "\n",
    "# plot the gallery of the most significative eigenfaces\n",
    "\n",
    "eigenface_titles = [\"eigenface %d\" % i for i in range(eigenfaces.shape[0])]\n",
    "plot_gallery(eigenfaces, eigenface_titles, h, w)\n",
    "\n",
    "pl.show()\n"
   ]
  },
  {
   "cell_type": "markdown",
   "metadata": {},
   "source": [
    "### Cross validation"
   ]
  },
  {
   "cell_type": "markdown",
   "metadata": {},
   "source": [
    "In this mini-project, you’ll start from scratch in making a training-testing split in the data. This will be the first step toward your final project, of building a POI identifier."
   ]
  },
  {
   "cell_type": "code",
   "execution_count": 302,
   "metadata": {},
   "outputs": [
    {
     "name": "stdout",
     "output_type": "stream",
     "text": [
      "training time: 0.0 s\n",
      "accuracy:  0.785714285714\n",
      "prediction time: 0.011 s\n"
     ]
    }
   ],
   "source": [
    "\"\"\"\n",
    "    Starter code for the validation mini-project.\n",
    "    The first step toward building your POI identifier!\n",
    "\n",
    "    Start by loading/formatting the data\n",
    "\n",
    "    After that, it's not our code anymore--it's yours!\n",
    "\"\"\"\n",
    "\n",
    "import pickle\n",
    "import sys\n",
    "\n",
    "\n",
    "data_dict = pickle.load(open(\"data/final_project_dataset.pkl\", \"rb\") )\n",
    "\n",
    "### first element is our labels, any added elements are predictor\n",
    "### features. Keep this the same for the mini-project, but you'll\n",
    "### have a different feature list when you do the final project.\n",
    "features_list = [\"poi\", \"salary\"]\n",
    "\n",
    "data = featureFormat(data_dict, features_list,sort_keys = 'data/python2_lesson06_keys.pkl')\n",
    "labels, features = targetFeatureSplit(data)\n",
    "\n",
    "from sklearn.cross_validation import train_test_split\n",
    "feature_train, feature_test, target_train, target_test = train_test_split(features, labels, test_size=0.3, random_state=42)\n",
    "train_color = \"b\"\n",
    "test_color = \"r\"\n",
    "\n",
    "### it's all yours from here forward!  \n",
    "from sklearn import tree\n",
    "t0 = time()\n",
    "clf_DTX = tree.DecisionTreeClassifier()\n",
    "clf_DTX.fit(feature_train, target_train)\n",
    "print(\"training time:\", round(time()-t0, 3), \"s\")\n",
    "\n",
    "t0 = time()\n",
    "acc = accuracy_score(clf_DTX.predict(feature_test), target_test)\n",
    "print('accuracy: ',acc)\n",
    "print(\"prediction time:\", round(time()-t0, 3), \"s\")\n"
   ]
  },
  {
   "cell_type": "markdown",
   "metadata": {},
   "source": [
    "### EVALUATION"
   ]
  },
  {
   "cell_type": "markdown",
   "metadata": {},
   "source": [
    "Go back to your code from the last section, where you built a simple first iteration of a POI identifier using a decision tree and one feature. "
   ]
  },
  {
   "cell_type": "code",
   "execution_count": 310,
   "metadata": {},
   "outputs": [
    {
     "name": "stdout",
     "output_type": "stream",
     "text": [
      "training time: 0.0 s\n",
      "accuracy:  0.785714285714\n",
      "prediction time: 0.009 s\n"
     ]
    }
   ],
   "source": [
    "import pickle\n",
    "import sys\n",
    "\n",
    "\n",
    "data_dict = pickle.load(open(\"data/final_project_dataset.pkl\", \"rb\") )\n",
    "\n",
    "### first element is our labels, any added elements are predictor\n",
    "### features. Keep this the same for the mini-project, but you'll\n",
    "### have a different feature list when you do the final project.\n",
    "features_list = [\"poi\", \"salary\"]\n",
    "\n",
    "data = featureFormat(data_dict, features_list,sort_keys = 'data/python2_lesson06_keys.pkl')\n",
    "labels, features = targetFeatureSplit(data)\n",
    "\n",
    "from sklearn.cross_validation import train_test_split\n",
    "feature_train, feature_test, target_train, target_test = train_test_split(features, labels, test_size=0.3, random_state=42)\n",
    "train_color = \"b\"\n",
    "test_color = \"r\"\n",
    "\n",
    "### it's all yours from here forward!  \n",
    "from sklearn import tree\n",
    "t0 = time()\n",
    "clf_DTX = tree.DecisionTreeClassifier()\n",
    "clf_DTX.fit(feature_train, target_train)\n",
    "print(\"training time:\", round(time()-t0, 3), \"s\")\n",
    "\n",
    "t0 = time()\n",
    "acc = accuracy_score(clf_DTX.predict(feature_test), target_test)\n",
    "print('accuracy: ',acc)\n",
    "print(\"prediction time:\", round(time()-t0, 3), \"s\")"
   ]
  },
  {
   "cell_type": "markdown",
   "metadata": {},
   "source": [
    "**accuracy is high but let check the true positive**"
   ]
  },
  {
   "cell_type": "code",
   "execution_count": 331,
   "metadata": {},
   "outputs": [
    {
     "name": "stdout",
     "output_type": "stream",
     "text": [
      "[False False False False False False False False False False False False\n",
      " False False False False False False False False False False False False\n",
      " False False False False]\n",
      "[0, 0, 0, 0, 0, 0, 0, 0, 0, 0, 1, 0, 0, 0, 0, 0, 0, 0, 1, 0, 0, 0, 0, 0, 1, 1, 0, 0]\n",
      "[0, 0, 0, 0, 1, 0, 1, 0, 0, 0, 0, 0, 0, 0, 0, 0, 0, 0, 0, 0, 0, 0, 0, 0, 0, 0, 0, 0]\n"
     ]
    }
   ],
   "source": [
    "print((clf_DTX.predict(feature_test)+target_test)==2)\n",
    "print([int(x) for x in target_test])\n",
    "print([int(x) for x in clf_DTX.predict(feature_test)])"
   ]
  },
  {
   "cell_type": "markdown",
   "metadata": {},
   "source": [
    "** we want to find POI but we find not even one of them, accuracy in this case is not a good way to evaluate the result**"
   ]
  },
  {
   "cell_type": "markdown",
   "metadata": {},
   "source": [
    "As you may now see, having imbalanced classes like we have in the Enron dataset (many more non-POIs than POIs) introduces some special challenges, namely that you can just guess the more common class label for every point, not a very insightful strategy, and still get pretty good accuracy!\n",
    "\n",
    "Precision and recall can help illuminate your performance better. Use the precision_score and recall_score available in sklearn.metrics to compute those quantities."
   ]
  },
  {
   "cell_type": "code",
   "execution_count": 317,
   "metadata": {},
   "outputs": [
    {
     "name": "stdout",
     "output_type": "stream",
     "text": [
      "Average precision-recall score: 0.00\n"
     ]
    }
   ],
   "source": [
    "from sklearn.metrics import precision_score\n",
    "average_precision = precision_score(target_test, clf_DTX.predict(feature_test))\n",
    "\n",
    "print('Average precision-recall score: {0:0.2f}'.format(average_precision))"
   ]
  },
  {
   "cell_type": "code",
   "execution_count": 335,
   "metadata": {},
   "outputs": [
    {
     "data": {
      "text/plain": [
       "0.0"
      ]
     },
     "execution_count": 335,
     "metadata": {},
     "output_type": "execute_result"
    }
   ],
   "source": [
    "from sklearn.metrics import recall_score\n",
    "recall_score(target_test, clf_DTX.predict(feature_test), average='binary')  "
   ]
  },
  {
   "cell_type": "markdown",
   "metadata": {},
   "source": [
    "In the final project you’ll work on optimizing your POI identifier, using many of the tools learned in this course. Hopefully one result will be that your precision and/or recall will go up, but then you’ll have to be able to interpret them. \n",
    "\n",
    "Here are some made-up predictions and true labels for a hypothetical test set; fill in the following boxes to practice identifying true positives, false positives, true negatives, and false negatives. Let’s use the convention that “1” signifies a positive result, and “0” a negative. \n",
    "\n",
    "predictions = [0, 1, 1, 0, 0, 0, 1, 0, 1, 0, 0, 1, 0, 0, 1, 1, 0, 1, 0, 1]   \n",
    "true labels = [0, 0, 0, 0, 0, 0, 1, 0, 1, 1, 0, 1, 0, 1, 1, 1, 0, 1, 0, 0]\n",
    "\n",
    "How many true positives are there? **6**  \n",
    "How many true negatives are there in this example? **9**  \n",
    "How many false positives are there? **3**  \n",
    "How many false negatives are there? **2**"
   ]
  },
  {
   "cell_type": "code",
   "execution_count": 337,
   "metadata": {},
   "outputs": [
    {
     "name": "stdout",
     "output_type": "stream",
     "text": [
      "precision:  0.666666666667\n",
      "recall:  0.75\n"
     ]
    }
   ],
   "source": [
    "predictions = [0, 1, 1, 0, 0, 0, 1, 0, 1, 0, 0, 1, 0, 0, 1, 1, 0, 1, 0, 1]\n",
    "true_labels = [0, 0, 0, 0, 0, 0, 1, 0, 1, 1, 0, 1, 0, 1, 1, 1, 0, 1, 0, 0]\n",
    "print(\"precision: \",precision_score(true_labels, predictions))\n",
    "print(\"recall: \", recall_score(true_labels, predictions))"
   ]
  },
  {
   "cell_type": "markdown",
   "metadata": {},
   "source": [
    "“My identifier have great **recall**, but it doesn't have good **precision**. That means that, nearly every time a POI shows up in my test set, I am able to identify him or her. The cost of this is that I sometimes get some false positives, where non-POIs get flagged.”\n",
    "\n",
    "\n",
    "“My identifier have great **precision**, but it doesn't have good **recall** That means that whenever a POI gets flagged in my test set, I know with a lot of confidence that it’s very likely to be a real POI and not a false alarm. On the other hand, the price I pay for this is that I sometimes miss real POIs, since I’m effectively reluctant to pull the trigger on edge cases.”"
   ]
  },
  {
   "cell_type": "markdown",
   "metadata": {},
   "source": [
    "<img src='image/3.png'>"
   ]
  },
  {
   "cell_type": "markdown",
   "metadata": {},
   "source": [
    "“My identifier has a really great **F1_score**.\n",
    "\n",
    "This is the best of both worlds. Both my false positive and false negative rates are **low**, which means that I can identify POI’s reliably and accurately. If my identifier finds a POI then the person is almost certainly a POI, and if the identifier does not flag someone, then they are almost certainly not a POI.”"
   ]
  },
  {
   "cell_type": "markdown",
   "metadata": {},
   "source": [
    "There’s usually a tradeoff between precision and recall--which one do you think is more important in your POI identifier? There’s no right or wrong answer, there are good arguments either way, but you should be able to interpret both metrics and articulate which one you find most important and why."
   ]
  },
  {
   "cell_type": "code",
   "execution_count": null,
   "metadata": {
    "collapsed": true
   },
   "outputs": [],
   "source": []
  }
 ],
 "metadata": {
  "kernelspec": {
   "display_name": "Python 3",
   "language": "python",
   "name": "python3"
  },
  "language_info": {
   "codemirror_mode": {
    "name": "ipython",
    "version": 3
   },
   "file_extension": ".py",
   "mimetype": "text/x-python",
   "name": "python",
   "nbconvert_exporter": "python",
   "pygments_lexer": "ipython3",
   "version": "3.5.4"
  }
 },
 "nbformat": 4,
 "nbformat_minor": 2
}
